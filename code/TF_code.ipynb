{
 "cells": [
  {
   "cell_type": "markdown",
   "id": "592ca965",
   "metadata": {},
   "source": [
    "# Import de librerías"
   ]
  },
  {
   "cell_type": "code",
   "execution_count": 29,
   "id": "414c490a",
   "metadata": {},
   "outputs": [
    {
     "data": {
      "text/html": [
       "        <script type=\"text/javascript\">\n",
       "        window.PlotlyConfig = {MathJaxConfig: 'local'};\n",
       "        if (window.MathJax) {MathJax.Hub.Config({SVG: {font: \"STIX-Web\"}});}\n",
       "        if (typeof require !== 'undefined') {\n",
       "        require.undef(\"plotly\");\n",
       "        requirejs.config({\n",
       "            paths: {\n",
       "                'plotly': ['https://cdn.plot.ly/plotly-2.4.2.min']\n",
       "            }\n",
       "        });\n",
       "        require(['plotly'], function(Plotly) {\n",
       "            window._Plotly = Plotly;\n",
       "        });\n",
       "        }\n",
       "        </script>\n",
       "        "
      ]
     },
     "metadata": {},
     "output_type": "display_data"
    }
   ],
   "source": [
    "import pandas as pd\n",
    "import numpy as np\n",
    "import json\n",
    "import random\n",
    "import seaborn as sns\n",
    "import matplotlib.pyplot as plt\n",
    "import plotly.graph_objs as go \n",
    "from plotly.offline import init_notebook_mode,iplot\n",
    "init_notebook_mode(connected=True) \n",
    "%matplotlib inline"
   ]
  },
  {
   "cell_type": "markdown",
   "id": "c9b16d4f",
   "metadata": {},
   "source": [
    "# Inspección de los datos"
   ]
  },
  {
   "cell_type": "markdown",
   "id": "4ac13de0",
   "metadata": {},
   "source": [
    "**Lectura del data set de videos**"
   ]
  },
  {
   "cell_type": "code",
   "execution_count": 68,
   "id": "11b14e60",
   "metadata": {},
   "outputs": [],
   "source": [
    "data = pd.read_csv(\"../data/DEvideos_cc50_202101.csv\")"
   ]
  },
  {
   "cell_type": "markdown",
   "id": "ad0cbdd1",
   "metadata": {},
   "source": [
    "**Muestra de las 10 primeras filas del dataset**"
   ]
  },
  {
   "cell_type": "code",
   "execution_count": 69,
   "id": "fff0f2f9",
   "metadata": {
    "scrolled": false
   },
   "outputs": [
    {
     "data": {
      "text/html": [
       "<div>\n",
       "<style scoped>\n",
       "    .dataframe tbody tr th:only-of-type {\n",
       "        vertical-align: middle;\n",
       "    }\n",
       "\n",
       "    .dataframe tbody tr th {\n",
       "        vertical-align: top;\n",
       "    }\n",
       "\n",
       "    .dataframe thead th {\n",
       "        text-align: right;\n",
       "    }\n",
       "</style>\n",
       "<table border=\"1\" class=\"dataframe\">\n",
       "  <thead>\n",
       "    <tr style=\"text-align: right;\">\n",
       "      <th></th>\n",
       "      <th>video_id</th>\n",
       "      <th>trending_date</th>\n",
       "      <th>title</th>\n",
       "      <th>channel_title</th>\n",
       "      <th>category_id</th>\n",
       "      <th>publish_time</th>\n",
       "      <th>tags</th>\n",
       "      <th>views</th>\n",
       "      <th>likes</th>\n",
       "      <th>dislikes</th>\n",
       "      <th>comment_count</th>\n",
       "      <th>thumbnail_link</th>\n",
       "      <th>comments_disabled</th>\n",
       "      <th>ratings_disabled</th>\n",
       "      <th>video_error_or_removed</th>\n",
       "      <th>description</th>\n",
       "      <th>state</th>\n",
       "      <th>lat</th>\n",
       "      <th>lon</th>\n",
       "      <th>geometry</th>\n",
       "    </tr>\n",
       "  </thead>\n",
       "  <tbody>\n",
       "    <tr>\n",
       "      <th>0</th>\n",
       "      <td>LgVi6y5QIjM</td>\n",
       "      <td>17.14.11</td>\n",
       "      <td>Sing zu Ende! | Gesangseinlagen vom Feinsten |...</td>\n",
       "      <td>inscope21</td>\n",
       "      <td>24</td>\n",
       "      <td>2017-11-13T17:08:49.000Z</td>\n",
       "      <td>inscope21|\"sing zu ende\"|\"gesangseinlagen\"|\"ge...</td>\n",
       "      <td>252786</td>\n",
       "      <td>35885</td>\n",
       "      <td>230</td>\n",
       "      <td>1539</td>\n",
       "      <td>https://i.ytimg.com/vi/LgVi6y5QIjM/default.jpg</td>\n",
       "      <td>False</td>\n",
       "      <td>False</td>\n",
       "      <td>False</td>\n",
       "      <td>Heute gibt es mal wieder ein neues Format... w...</td>\n",
       "      <td>Schleswig Holstein</td>\n",
       "      <td>54.783748</td>\n",
       "      <td>9.433315</td>\n",
       "      <td>POINT (9.433315388 54.78374778)</td>\n",
       "    </tr>\n",
       "    <tr>\n",
       "      <th>1</th>\n",
       "      <td>Bayt7uQith4</td>\n",
       "      <td>17.14.11</td>\n",
       "      <td>Kinder ferngesteuert im Kiosk! Erwachsene abzo...</td>\n",
       "      <td>LUKE! Die Woche und ich</td>\n",
       "      <td>23</td>\n",
       "      <td>2017-11-12T22:30:01.000Z</td>\n",
       "      <td>Kinder|\"ferngesteuert\"|\"Kinder ferngesteuert\"|...</td>\n",
       "      <td>797196</td>\n",
       "      <td>53576</td>\n",
       "      <td>302</td>\n",
       "      <td>1278</td>\n",
       "      <td>https://i.ytimg.com/vi/Bayt7uQith4/default.jpg</td>\n",
       "      <td>False</td>\n",
       "      <td>False</td>\n",
       "      <td>False</td>\n",
       "      <td>Kinder ferngesteuert! Kinder lassen sich sooo ...</td>\n",
       "      <td>Nordrhein Westfalen</td>\n",
       "      <td>52.029988</td>\n",
       "      <td>8.530011</td>\n",
       "      <td>POINT (8.530011351000001 52.02998822)</td>\n",
       "    </tr>\n",
       "    <tr>\n",
       "      <th>2</th>\n",
       "      <td>1ZAPwfrtAFY</td>\n",
       "      <td>17.14.11</td>\n",
       "      <td>The Trump Presidency: Last Week Tonight with J...</td>\n",
       "      <td>LastWeekTonight</td>\n",
       "      <td>24</td>\n",
       "      <td>2017-11-13T07:30:00.000Z</td>\n",
       "      <td>last week tonight trump presidency|\"last week ...</td>\n",
       "      <td>2418783</td>\n",
       "      <td>97190</td>\n",
       "      <td>6146</td>\n",
       "      <td>12703</td>\n",
       "      <td>https://i.ytimg.com/vi/1ZAPwfrtAFY/default.jpg</td>\n",
       "      <td>False</td>\n",
       "      <td>False</td>\n",
       "      <td>False</td>\n",
       "      <td>One year after the presidential election, John...</td>\n",
       "      <td>Saarland</td>\n",
       "      <td>49.250390</td>\n",
       "      <td>6.970003</td>\n",
       "      <td>POINT (6.970003213 49.25039044)</td>\n",
       "    </tr>\n",
       "    <tr>\n",
       "      <th>3</th>\n",
       "      <td>AHtypnRk7JE</td>\n",
       "      <td>17.14.11</td>\n",
       "      <td>Das Fermi-Paradoxon</td>\n",
       "      <td>100SekundenPhysik</td>\n",
       "      <td>27</td>\n",
       "      <td>2017-11-12T15:00:01.000Z</td>\n",
       "      <td>Physik|\"Wissenschaft\"|\"Technik\"|\"Science-Ficti...</td>\n",
       "      <td>380247</td>\n",
       "      <td>31821</td>\n",
       "      <td>458</td>\n",
       "      <td>1955</td>\n",
       "      <td>https://i.ytimg.com/vi/AHtypnRk7JE/default.jpg</td>\n",
       "      <td>False</td>\n",
       "      <td>False</td>\n",
       "      <td>False</td>\n",
       "      <td>►Alle Videos: http://bit.ly/1fa7Tw3\\n\\n\\n✚Snap...</td>\n",
       "      <td>Bayern</td>\n",
       "      <td>50.266607</td>\n",
       "      <td>10.966607</td>\n",
       "      <td>POINT (10.96660681 50.26660748)</td>\n",
       "    </tr>\n",
       "    <tr>\n",
       "      <th>4</th>\n",
       "      <td>ZJ9We4bjcg0</td>\n",
       "      <td>17.14.11</td>\n",
       "      <td>18 SONGS mit Kelly MissesVlog (Sing-off)</td>\n",
       "      <td>rezo</td>\n",
       "      <td>24</td>\n",
       "      <td>2017-11-12T13:10:36.000Z</td>\n",
       "      <td>kelly|\"missesvlog\"|\"kelly song\"|\"bausa\"|\"bausa...</td>\n",
       "      <td>822213</td>\n",
       "      <td>100684</td>\n",
       "      <td>2467</td>\n",
       "      <td>10244</td>\n",
       "      <td>https://i.ytimg.com/vi/ZJ9We4bjcg0/default.jpg</td>\n",
       "      <td>False</td>\n",
       "      <td>False</td>\n",
       "      <td>False</td>\n",
       "      <td>18 Song Mashup über den (veränderten) Beat von...</td>\n",
       "      <td>Berlin</td>\n",
       "      <td>52.521819</td>\n",
       "      <td>13.401549</td>\n",
       "      <td>POINT (13.40154862 52.52181866)</td>\n",
       "    </tr>\n",
       "    <tr>\n",
       "      <th>5</th>\n",
       "      <td>xapGFgWqtg4</td>\n",
       "      <td>17.14.11</td>\n",
       "      <td>Geld verdienen mit Online-Umfragen? Geht das w...</td>\n",
       "      <td>Die Allestester</td>\n",
       "      <td>22</td>\n",
       "      <td>2017-11-13T01:49:24.000Z</td>\n",
       "      <td>[none]</td>\n",
       "      <td>32709</td>\n",
       "      <td>3093</td>\n",
       "      <td>296</td>\n",
       "      <td>63</td>\n",
       "      <td>https://i.ytimg.com/vi/xapGFgWqtg4/default.jpg</td>\n",
       "      <td>False</td>\n",
       "      <td>False</td>\n",
       "      <td>False</td>\n",
       "      <td>Wir haben Meinungsstudie.de (► http://bit.ly/2...</td>\n",
       "      <td>Hessen</td>\n",
       "      <td>51.300007</td>\n",
       "      <td>9.500030</td>\n",
       "      <td>POINT (9.500029661999999 51.30000694)</td>\n",
       "    </tr>\n",
       "    <tr>\n",
       "      <th>6</th>\n",
       "      <td>EIM7RMe39JY</td>\n",
       "      <td>17.14.11</td>\n",
       "      <td>Kanaken auf der Klassenfahrt</td>\n",
       "      <td>Bodyformus</td>\n",
       "      <td>23</td>\n",
       "      <td>2017-11-13T11:59:04.000Z</td>\n",
       "      <td>kanaken|\"kurden\"|\"türken\"|\"schule\"|\"schulzeit\"...</td>\n",
       "      <td>308683</td>\n",
       "      <td>35704</td>\n",
       "      <td>578</td>\n",
       "      <td>1398</td>\n",
       "      <td>https://i.ytimg.com/vi/EIM7RMe39JY/default.jpg</td>\n",
       "      <td>False</td>\n",
       "      <td>False</td>\n",
       "      <td>False</td>\n",
       "      <td>Video mit Planet Kanax: https://youtu.be/3U51c...</td>\n",
       "      <td>Rheinland Pfalz</td>\n",
       "      <td>49.982472</td>\n",
       "      <td>8.273219</td>\n",
       "      <td>POINT (8.273219156 49.98247246)</td>\n",
       "    </tr>\n",
       "    <tr>\n",
       "      <th>7</th>\n",
       "      <td>PaWTaj6Iie0</td>\n",
       "      <td>17.14.11</td>\n",
       "      <td>3 unbekannte Gesichter von Film/Serien-Charakt...</td>\n",
       "      <td>Jay &amp; Arya</td>\n",
       "      <td>22</td>\n",
       "      <td>2017-11-13T18:09:55.000Z</td>\n",
       "      <td>unbekannte gesichte charakter|\"unbekannte gesi...</td>\n",
       "      <td>181660</td>\n",
       "      <td>17998</td>\n",
       "      <td>169</td>\n",
       "      <td>554</td>\n",
       "      <td>https://i.ytimg.com/vi/PaWTaj6Iie0/default.jpg</td>\n",
       "      <td>False</td>\n",
       "      <td>False</td>\n",
       "      <td>False</td>\n",
       "      <td>4 unbekannte Gesichter animierter Charaktere (...</td>\n",
       "      <td>Nordrhein Westfalen</td>\n",
       "      <td>52.029988</td>\n",
       "      <td>8.530011</td>\n",
       "      <td>POINT (8.530011351000001 52.02998822)</td>\n",
       "    </tr>\n",
       "    <tr>\n",
       "      <th>8</th>\n",
       "      <td>GHct2dGNLks</td>\n",
       "      <td>17.14.11</td>\n",
       "      <td>Antoine leiht Auto von Ernährungsberaterin</td>\n",
       "      <td>TeddyComedy</td>\n",
       "      <td>23</td>\n",
       "      <td>2017-11-12T11:53:45.000Z</td>\n",
       "      <td>Antoine Auto|\"Antoine Boot Camp\"|\"Antoine Ernä...</td>\n",
       "      <td>369173</td>\n",
       "      <td>16953</td>\n",
       "      <td>570</td>\n",
       "      <td>611</td>\n",
       "      <td>https://i.ytimg.com/vi/GHct2dGNLks/default.jpg</td>\n",
       "      <td>False</td>\n",
       "      <td>False</td>\n",
       "      <td>False</td>\n",
       "      <td>Antoine hat sich ein Auto ausgeliehen..schaut ...</td>\n",
       "      <td>Thuringen</td>\n",
       "      <td>50.970053</td>\n",
       "      <td>11.029962</td>\n",
       "      <td>POINT (11.02996212 50.97005292)</td>\n",
       "    </tr>\n",
       "    <tr>\n",
       "      <th>9</th>\n",
       "      <td>aZYSFByDGkg</td>\n",
       "      <td>17.14.11</td>\n",
       "      <td>Legenden: So wird dein Ruhm unsterblich - Fame...</td>\n",
       "      <td>WALULIS</td>\n",
       "      <td>1</td>\n",
       "      <td>2017-11-13T15:06:12.000Z</td>\n",
       "      <td>michael jackson|\"promi\"|\"tot\"|\"tod\"|\"gestorben...</td>\n",
       "      <td>62418</td>\n",
       "      <td>4749</td>\n",
       "      <td>44</td>\n",
       "      <td>425</td>\n",
       "      <td>https://i.ytimg.com/vi/aZYSFByDGkg/default.jpg</td>\n",
       "      <td>False</td>\n",
       "      <td>False</td>\n",
       "      <td>False</td>\n",
       "      <td>Berühmt werden kann jeder, aber berühmt bleibe...</td>\n",
       "      <td>Thuringen</td>\n",
       "      <td>50.970053</td>\n",
       "      <td>11.029962</td>\n",
       "      <td>POINT (11.02996212 50.97005292)</td>\n",
       "    </tr>\n",
       "  </tbody>\n",
       "</table>\n",
       "</div>"
      ],
      "text/plain": [
       "      video_id trending_date  \\\n",
       "0  LgVi6y5QIjM      17.14.11   \n",
       "1  Bayt7uQith4      17.14.11   \n",
       "2  1ZAPwfrtAFY      17.14.11   \n",
       "3  AHtypnRk7JE      17.14.11   \n",
       "4  ZJ9We4bjcg0      17.14.11   \n",
       "5  xapGFgWqtg4      17.14.11   \n",
       "6  EIM7RMe39JY      17.14.11   \n",
       "7  PaWTaj6Iie0      17.14.11   \n",
       "8  GHct2dGNLks      17.14.11   \n",
       "9  aZYSFByDGkg      17.14.11   \n",
       "\n",
       "                                               title            channel_title  \\\n",
       "0  Sing zu Ende! | Gesangseinlagen vom Feinsten |...                inscope21   \n",
       "1  Kinder ferngesteuert im Kiosk! Erwachsene abzo...  LUKE! Die Woche und ich   \n",
       "2  The Trump Presidency: Last Week Tonight with J...          LastWeekTonight   \n",
       "3                                Das Fermi-Paradoxon        100SekundenPhysik   \n",
       "4           18 SONGS mit Kelly MissesVlog (Sing-off)                     rezo   \n",
       "5  Geld verdienen mit Online-Umfragen? Geht das w...          Die Allestester   \n",
       "6                       Kanaken auf der Klassenfahrt               Bodyformus   \n",
       "7  3 unbekannte Gesichter von Film/Serien-Charakt...               Jay & Arya   \n",
       "8         Antoine leiht Auto von Ernährungsberaterin              TeddyComedy   \n",
       "9  Legenden: So wird dein Ruhm unsterblich - Fame...                  WALULIS   \n",
       "\n",
       "   category_id              publish_time  \\\n",
       "0           24  2017-11-13T17:08:49.000Z   \n",
       "1           23  2017-11-12T22:30:01.000Z   \n",
       "2           24  2017-11-13T07:30:00.000Z   \n",
       "3           27  2017-11-12T15:00:01.000Z   \n",
       "4           24  2017-11-12T13:10:36.000Z   \n",
       "5           22  2017-11-13T01:49:24.000Z   \n",
       "6           23  2017-11-13T11:59:04.000Z   \n",
       "7           22  2017-11-13T18:09:55.000Z   \n",
       "8           23  2017-11-12T11:53:45.000Z   \n",
       "9            1  2017-11-13T15:06:12.000Z   \n",
       "\n",
       "                                                tags    views   likes  \\\n",
       "0  inscope21|\"sing zu ende\"|\"gesangseinlagen\"|\"ge...   252786   35885   \n",
       "1  Kinder|\"ferngesteuert\"|\"Kinder ferngesteuert\"|...   797196   53576   \n",
       "2  last week tonight trump presidency|\"last week ...  2418783   97190   \n",
       "3  Physik|\"Wissenschaft\"|\"Technik\"|\"Science-Ficti...   380247   31821   \n",
       "4  kelly|\"missesvlog\"|\"kelly song\"|\"bausa\"|\"bausa...   822213  100684   \n",
       "5                                             [none]    32709    3093   \n",
       "6  kanaken|\"kurden\"|\"türken\"|\"schule\"|\"schulzeit\"...   308683   35704   \n",
       "7  unbekannte gesichte charakter|\"unbekannte gesi...   181660   17998   \n",
       "8  Antoine Auto|\"Antoine Boot Camp\"|\"Antoine Ernä...   369173   16953   \n",
       "9  michael jackson|\"promi\"|\"tot\"|\"tod\"|\"gestorben...    62418    4749   \n",
       "\n",
       "   dislikes  comment_count                                  thumbnail_link  \\\n",
       "0       230           1539  https://i.ytimg.com/vi/LgVi6y5QIjM/default.jpg   \n",
       "1       302           1278  https://i.ytimg.com/vi/Bayt7uQith4/default.jpg   \n",
       "2      6146          12703  https://i.ytimg.com/vi/1ZAPwfrtAFY/default.jpg   \n",
       "3       458           1955  https://i.ytimg.com/vi/AHtypnRk7JE/default.jpg   \n",
       "4      2467          10244  https://i.ytimg.com/vi/ZJ9We4bjcg0/default.jpg   \n",
       "5       296             63  https://i.ytimg.com/vi/xapGFgWqtg4/default.jpg   \n",
       "6       578           1398  https://i.ytimg.com/vi/EIM7RMe39JY/default.jpg   \n",
       "7       169            554  https://i.ytimg.com/vi/PaWTaj6Iie0/default.jpg   \n",
       "8       570            611  https://i.ytimg.com/vi/GHct2dGNLks/default.jpg   \n",
       "9        44            425  https://i.ytimg.com/vi/aZYSFByDGkg/default.jpg   \n",
       "\n",
       "   comments_disabled  ratings_disabled  video_error_or_removed  \\\n",
       "0              False             False                   False   \n",
       "1              False             False                   False   \n",
       "2              False             False                   False   \n",
       "3              False             False                   False   \n",
       "4              False             False                   False   \n",
       "5              False             False                   False   \n",
       "6              False             False                   False   \n",
       "7              False             False                   False   \n",
       "8              False             False                   False   \n",
       "9              False             False                   False   \n",
       "\n",
       "                                         description                state  \\\n",
       "0  Heute gibt es mal wieder ein neues Format... w...   Schleswig Holstein   \n",
       "1  Kinder ferngesteuert! Kinder lassen sich sooo ...  Nordrhein Westfalen   \n",
       "2  One year after the presidential election, John...             Saarland   \n",
       "3  ►Alle Videos: http://bit.ly/1fa7Tw3\\n\\n\\n✚Snap...               Bayern   \n",
       "4  18 Song Mashup über den (veränderten) Beat von...               Berlin   \n",
       "5  Wir haben Meinungsstudie.de (► http://bit.ly/2...               Hessen   \n",
       "6  Video mit Planet Kanax: https://youtu.be/3U51c...      Rheinland Pfalz   \n",
       "7  4 unbekannte Gesichter animierter Charaktere (...  Nordrhein Westfalen   \n",
       "8  Antoine hat sich ein Auto ausgeliehen..schaut ...            Thuringen   \n",
       "9  Berühmt werden kann jeder, aber berühmt bleibe...            Thuringen   \n",
       "\n",
       "         lat        lon                               geometry  \n",
       "0  54.783748   9.433315        POINT (9.433315388 54.78374778)  \n",
       "1  52.029988   8.530011  POINT (8.530011351000001 52.02998822)  \n",
       "2  49.250390   6.970003        POINT (6.970003213 49.25039044)  \n",
       "3  50.266607  10.966607        POINT (10.96660681 50.26660748)  \n",
       "4  52.521819  13.401549        POINT (13.40154862 52.52181866)  \n",
       "5  51.300007   9.500030  POINT (9.500029661999999 51.30000694)  \n",
       "6  49.982472   8.273219        POINT (8.273219156 49.98247246)  \n",
       "7  52.029988   8.530011  POINT (8.530011351000001 52.02998822)  \n",
       "8  50.970053  11.029962        POINT (11.02996212 50.97005292)  \n",
       "9  50.970053  11.029962        POINT (11.02996212 50.97005292)  "
      ]
     },
     "execution_count": 69,
     "metadata": {},
     "output_type": "execute_result"
    }
   ],
   "source": [
    "data.head(10)"
   ]
  },
  {
   "cell_type": "markdown",
   "id": "0b4ddded",
   "metadata": {},
   "source": [
    "**Muestra de la info del dataset**"
   ]
  },
  {
   "cell_type": "code",
   "execution_count": 70,
   "id": "3c3d5d88",
   "metadata": {},
   "outputs": [
    {
     "name": "stdout",
     "output_type": "stream",
     "text": [
      "<class 'pandas.core.frame.DataFrame'>\n",
      "RangeIndex: 40840 entries, 0 to 40839\n",
      "Data columns (total 20 columns):\n",
      " #   Column                  Non-Null Count  Dtype  \n",
      "---  ------                  --------------  -----  \n",
      " 0   video_id                40840 non-null  object \n",
      " 1   trending_date           40840 non-null  object \n",
      " 2   title                   40840 non-null  object \n",
      " 3   channel_title           40840 non-null  object \n",
      " 4   category_id             40840 non-null  int64  \n",
      " 5   publish_time            40840 non-null  object \n",
      " 6   tags                    40840 non-null  object \n",
      " 7   views                   40840 non-null  int64  \n",
      " 8   likes                   40840 non-null  int64  \n",
      " 9   dislikes                40840 non-null  int64  \n",
      " 10  comment_count           40840 non-null  int64  \n",
      " 11  thumbnail_link          40840 non-null  object \n",
      " 12  comments_disabled       40840 non-null  bool   \n",
      " 13  ratings_disabled        40840 non-null  bool   \n",
      " 14  video_error_or_removed  40840 non-null  bool   \n",
      " 15  description             39288 non-null  object \n",
      " 16  state                   40840 non-null  object \n",
      " 17  lat                     40840 non-null  float64\n",
      " 18  lon                     40840 non-null  float64\n",
      " 19  geometry                40840 non-null  object \n",
      "dtypes: bool(3), float64(2), int64(5), object(10)\n",
      "memory usage: 5.4+ MB\n"
     ]
    }
   ],
   "source": [
    "data.info()"
   ]
  },
  {
   "cell_type": "markdown",
   "id": "1bff9938",
   "metadata": {},
   "source": [
    "# Pre-procesamiento de datos"
   ]
  },
  {
   "cell_type": "markdown",
   "id": "7afa9e76",
   "metadata": {},
   "source": [
    "**Contador de la cantidad de valores NAN en el dataset**"
   ]
  },
  {
   "cell_type": "code",
   "execution_count": 71,
   "id": "a648778b",
   "metadata": {},
   "outputs": [
    {
     "data": {
      "text/plain": [
       "video_id                     0\n",
       "trending_date                0\n",
       "title                        0\n",
       "channel_title                0\n",
       "category_id                  0\n",
       "publish_time                 0\n",
       "tags                         0\n",
       "views                        0\n",
       "likes                        0\n",
       "dislikes                     0\n",
       "comment_count                0\n",
       "thumbnail_link               0\n",
       "comments_disabled            0\n",
       "ratings_disabled             0\n",
       "video_error_or_removed       0\n",
       "description               1552\n",
       "state                        0\n",
       "lat                          0\n",
       "lon                          0\n",
       "geometry                     0\n",
       "dtype: int64"
      ]
     },
     "execution_count": 71,
     "metadata": {},
     "output_type": "execute_result"
    }
   ],
   "source": [
    "data.isna().sum()"
   ]
  },
  {
   "cell_type": "markdown",
   "id": "e78e85b0",
   "metadata": {},
   "source": [
    "**Contador de la cantidad de valores NULL en el dataset**"
   ]
  },
  {
   "cell_type": "code",
   "execution_count": 72,
   "id": "244d0ac4",
   "metadata": {},
   "outputs": [
    {
     "data": {
      "text/plain": [
       "video_id                     0\n",
       "trending_date                0\n",
       "title                        0\n",
       "channel_title                0\n",
       "category_id                  0\n",
       "publish_time                 0\n",
       "tags                         0\n",
       "views                        0\n",
       "likes                        0\n",
       "dislikes                     0\n",
       "comment_count                0\n",
       "thumbnail_link               0\n",
       "comments_disabled            0\n",
       "ratings_disabled             0\n",
       "video_error_or_removed       0\n",
       "description               1552\n",
       "state                        0\n",
       "lat                          0\n",
       "lon                          0\n",
       "geometry                     0\n",
       "dtype: int64"
      ]
     },
     "execution_count": 72,
     "metadata": {},
     "output_type": "execute_result"
    }
   ],
   "source": [
    "data.isnull().sum()"
   ]
  },
  {
   "cell_type": "markdown",
   "id": "9c4ce07a",
   "metadata": {},
   "source": [
    "**Determinar si existen datos repetidos**"
   ]
  },
  {
   "cell_type": "markdown",
   "id": "9b7676a1",
   "metadata": {},
   "source": [
    "Podemos notar que no existen valores repetidos"
   ]
  },
  {
   "cell_type": "code",
   "execution_count": 78,
   "id": "0c3b923a",
   "metadata": {
    "scrolled": false
   },
   "outputs": [
    {
     "data": {
      "text/plain": [
       "False    40826\n",
       "dtype: int64"
      ]
     },
     "execution_count": 78,
     "metadata": {},
     "output_type": "execute_result"
    }
   ],
   "source": [
    "data.duplicated().value_counts()"
   ]
  },
  {
   "cell_type": "markdown",
   "id": "070d3008",
   "metadata": {},
   "source": [
    "**Eliminación de las filas cuyos video hayan presentando un error o hayan sido eliminados**"
   ]
  },
  {
   "cell_type": "code",
   "execution_count": 73,
   "id": "414a631b",
   "metadata": {},
   "outputs": [],
   "source": [
    "data = data.drop(data[data[\"video_error_or_removed\"] == True].index)"
   ]
  },
  {
   "cell_type": "markdown",
   "id": "c05aa4d2",
   "metadata": {},
   "source": [
    "**Convertir \"trending_date\" y \"publish_time\" a formato fechas**"
   ]
  },
  {
   "cell_type": "code",
   "execution_count": 74,
   "id": "ac8ff4ca",
   "metadata": {},
   "outputs": [],
   "source": [
    "# Convertir el \"trending_date\" a formato de fecha\n",
    "data[\"trending_date\"]= pd.to_datetime(data[\"trending_date\"], format=\"%y.%d.%m\")"
   ]
  },
  {
   "cell_type": "code",
   "execution_count": 75,
   "id": "de45390f",
   "metadata": {
    "scrolled": false
   },
   "outputs": [],
   "source": [
    "# Split del publish time y hour\n",
    "publish_time = []\n",
    "publish_hour = []\n",
    "for value in data[\"publish_time\"].values:\n",
    "    publish_time.append(value.split(\"T\")[0])\n",
    "    publish_hour.append(value.split(\"T\")[1])"
   ]
  },
  {
   "cell_type": "code",
   "execution_count": 76,
   "id": "4b38e0d4",
   "metadata": {},
   "outputs": [],
   "source": [
    "# Pasar los valores a la columna \"publish_time\" y crear la columna \"publish_hour\"\n",
    "data[\"publish_time\"] = publish_time\n",
    "data[\"publish_hour\"] = publish_hour"
   ]
  },
  {
   "cell_type": "code",
   "execution_count": 77,
   "id": "5d7e1b5b",
   "metadata": {},
   "outputs": [],
   "source": [
    "# Convertir el \"publish_time\" a formato de fecha\n",
    "data[\"publish_time\"]= pd.to_datetime(data[\"publish_time\"])"
   ]
  },
  {
   "cell_type": "markdown",
   "id": "cd46e503",
   "metadata": {},
   "source": [
    "**Identificación de los datos atípicos**"
   ]
  },
  {
   "cell_type": "code",
   "execution_count": 115,
   "id": "69ea9d9f",
   "metadata": {},
   "outputs": [
    {
     "data": {
      "text/plain": [
       "<AxesSubplot:>"
      ]
     },
     "execution_count": 115,
     "metadata": {},
     "output_type": "execute_result"
    },
    {
     "data": {
      "image/png": "[encoded data removed]",
      "text/plain": [
       "<Figure size 842.4x595.44 with 1 Axes>"
      ]
     },
     "metadata": {
      "needs_background": "light"
     },
     "output_type": "display_data"
    }
   ],
   "source": [
    "a4_dims = (11.7, 8.27)\n",
    "fig, ax = plt.subplots(figsize=a4_dims)\n",
    "sns.boxplot(data=data,palette='rainbow',orient='h')"
   ]
  },
  {
   "cell_type": "code",
   "execution_count": 120,
   "id": "dc314aa2",
   "metadata": {},
   "outputs": [
    {
     "name": "stdout",
     "output_type": "stream",
     "text": [
      "Canal del video con más visitas: YouTube Spotlight\n",
      "Título del video con más visitas: YouTube Rewind: The Shape of 2017 | #YouTubeRewind\n",
      "Número de visitas del video: 113876217\n"
     ]
    }
   ],
   "source": [
    "view_max = np.max(data[\"views\"])\n",
    "view_id = data[data.views == view_max].index[0]\n",
    "\n",
    "channel = data[\"channel_title\"][data.index[view_id]]\n",
    "title = data[\"title\"][data.index[view_id]]\n",
    "views = data[\"views\"][data.index[view_id]]\n",
    "\n",
    "print(f\"Canal del video con más visitas: {channel}\")\n",
    "print(f\"Título del video con más visitas: {title}\")\n",
    "print(f\"Número de visitas del video: {views}\")"
   ]
  },
  {
   "cell_type": "code",
   "execution_count": 123,
   "id": "390de173",
   "metadata": {},
   "outputs": [
    {
     "name": "stdout",
     "output_type": "stream",
     "text": [
      "Canal del video con más visitas: YouTube Spotlight\n",
      "Título del video con más visitas: YouTube Rewind: The Shape of 2017 | #YouTubeRewind\n",
      "Número de likes del video: 2811217\n"
     ]
    }
   ],
   "source": [
    "lk_max = np.max(data[\"likes\"])\n",
    "lk_id = data[data.likes == lk_max].index[0]\n",
    "\n",
    "channel = data[\"channel_title\"][data.index[view_id]]\n",
    "title = data[\"title\"][data.index[view_id]]\n",
    "likes = data[\"likes\"][data.index[view_id]]\n",
    "\n",
    "print(f\"Canal del video con más visitas: {channel}\")\n",
    "print(f\"Título del video con más visitas: {title}\")\n",
    "print(f\"Número de likes del video: {likes}\")"
   ]
  },
  {
   "cell_type": "code",
   "execution_count": 122,
   "id": "0999c87c",
   "metadata": {},
   "outputs": [
    {
     "name": "stdout",
     "output_type": "stream",
     "text": [
      "Canal del video con más visitas: YouTube Spotlight\n",
      "Título del video con más visitas: YouTube Rewind: The Shape of 2017 | #YouTubeRewind\n",
      "Número de visitas del video: 1470386\n"
     ]
    }
   ],
   "source": [
    "dlk_max = np.max(data[\"dislikes\"])\n",
    "dlk_id = data[data.dislikes == dlk_max].index[0]\n",
    "\n",
    "channel = data[\"channel_title\"][data.index[view_id]]\n",
    "title = data[\"title\"][data.index[view_id]]\n",
    "dislikes = data[\"dislikes\"][data.index[view_id]]\n",
    "\n",
    "print(f\"Canal del video con más visitas: {channel}\")\n",
    "print(f\"Título del video con más visitas: {title}\")\n",
    "print(f\"Número de visitas del video: {dislikes}\")"
   ]
  },
  {
   "cell_type": "code",
   "execution_count": 79,
   "id": "00167c85",
   "metadata": {
    "scrolled": false
   },
   "outputs": [
    {
     "name": "stdout",
     "output_type": "stream",
     "text": [
      "<class 'pandas.core.frame.DataFrame'>\n",
      "Int64Index: 40826 entries, 0 to 40839\n",
      "Data columns (total 21 columns):\n",
      " #   Column                  Non-Null Count  Dtype         \n",
      "---  ------                  --------------  -----         \n",
      " 0   video_id                40826 non-null  object        \n",
      " 1   trending_date           40826 non-null  datetime64[ns]\n",
      " 2   title                   40826 non-null  object        \n",
      " 3   channel_title           40826 non-null  object        \n",
      " 4   category_id             40826 non-null  int64         \n",
      " 5   publish_time            40826 non-null  datetime64[ns]\n",
      " 6   tags                    40826 non-null  object        \n",
      " 7   views                   40826 non-null  int64         \n",
      " 8   likes                   40826 non-null  int64         \n",
      " 9   dislikes                40826 non-null  int64         \n",
      " 10  comment_count           40826 non-null  int64         \n",
      " 11  thumbnail_link          40826 non-null  object        \n",
      " 12  comments_disabled       40826 non-null  bool          \n",
      " 13  ratings_disabled        40826 non-null  bool          \n",
      " 14  video_error_or_removed  40826 non-null  bool          \n",
      " 15  description             39274 non-null  object        \n",
      " 16  state                   40826 non-null  object        \n",
      " 17  lat                     40826 non-null  float64       \n",
      " 18  lon                     40826 non-null  float64       \n",
      " 19  geometry                40826 non-null  object        \n",
      " 20  publish_hour            40826 non-null  object        \n",
      "dtypes: bool(3), datetime64[ns](2), float64(2), int64(5), object(9)\n",
      "memory usage: 6.0+ MB\n"
     ]
    }
   ],
   "source": [
    "data.info()"
   ]
  },
  {
   "cell_type": "markdown",
   "id": "91910a1a",
   "metadata": {},
   "source": [
    "### Lectura del archivo Json\n",
    "\n",
    "**Lectura de los nombres de las categorías por \"id\" y creación de la columna \"category\" en el dataset**"
   ]
  },
  {
   "cell_type": "code",
   "execution_count": 80,
   "id": "ecd0fd40",
   "metadata": {},
   "outputs": [],
   "source": [
    "f = open(\"../data/DE_category_id.json\") # Alemania\n",
    "\n",
    "dataJson = json.load(f)\n",
    "\n",
    "f = open(\"../data/US_category_id.json\") # US\n",
    "\n",
    "dataJsonUS = json.load(f)\n",
    "\n",
    "d = {}\n",
    "dUS = {}\n",
    "for i in dataJson[\"items\"]:\n",
    "    d[int(i[\"id\"])] = i[\"snippet\"][\"title\"]\n",
    "    \n",
    "for i in dataJsonUS[\"items\"]:\n",
    "    dUS[int(i[\"id\"])] = i[\"snippet\"][\"title\"]\n",
    "    \n",
    "cate = []\n",
    "for i in range(len(data.index)):\n",
    "    cat_id = data.iloc[i][\"category_id\"]\n",
    "    # Si falta una categoría del Json de Alemania, se obtiene de US\n",
    "    if cat_id in list(d):\n",
    "        cate.append(d[cat_id])\n",
    "    else:\n",
    "        cate.append(dUS[cat_id])\n",
    "    \n",
    "data[\"category\"] = cate"
   ]
  },
  {
   "cell_type": "code",
   "execution_count": 128,
   "id": "a57705b3",
   "metadata": {
    "scrolled": false
   },
   "outputs": [
    {
     "data": {
      "text/html": [
       "<div>\n",
       "<style scoped>\n",
       "    .dataframe tbody tr th:only-of-type {\n",
       "        vertical-align: middle;\n",
       "    }\n",
       "\n",
       "    .dataframe tbody tr th {\n",
       "        vertical-align: top;\n",
       "    }\n",
       "\n",
       "    .dataframe thead th {\n",
       "        text-align: right;\n",
       "    }\n",
       "</style>\n",
       "<table border=\"1\" class=\"dataframe\">\n",
       "  <thead>\n",
       "    <tr style=\"text-align: right;\">\n",
       "      <th></th>\n",
       "      <th>video_id</th>\n",
       "      <th>trending_date</th>\n",
       "      <th>title</th>\n",
       "      <th>channel_title</th>\n",
       "      <th>category_id</th>\n",
       "      <th>publish_time</th>\n",
       "      <th>tags</th>\n",
       "      <th>views</th>\n",
       "      <th>likes</th>\n",
       "      <th>dislikes</th>\n",
       "      <th>...</th>\n",
       "      <th>comments_disabled</th>\n",
       "      <th>ratings_disabled</th>\n",
       "      <th>video_error_or_removed</th>\n",
       "      <th>description</th>\n",
       "      <th>state</th>\n",
       "      <th>lat</th>\n",
       "      <th>lon</th>\n",
       "      <th>geometry</th>\n",
       "      <th>publish_hour</th>\n",
       "      <th>category</th>\n",
       "    </tr>\n",
       "  </thead>\n",
       "  <tbody>\n",
       "    <tr>\n",
       "      <th>10</th>\n",
       "      <td>2hu_evXPpMM</td>\n",
       "      <td>2017-11-14</td>\n",
       "      <td>Dagi Bee wird Heiraten | Coldmirror bekommt Eh...</td>\n",
       "      <td>HerrNewstime</td>\n",
       "      <td>24</td>\n",
       "      <td>2017-11-12</td>\n",
       "      <td>Dagi Bee|\"Heiraten\"|\"Coldmirror\"|\"YouTube\"|\"Tr...</td>\n",
       "      <td>228574</td>\n",
       "      <td>11349</td>\n",
       "      <td>990</td>\n",
       "      <td>...</td>\n",
       "      <td>False</td>\n",
       "      <td>False</td>\n",
       "      <td>False</td>\n",
       "      <td>Dagi Bee wird Heiraten | Coldmirror bekommt Eh...</td>\n",
       "      <td>Thuringen</td>\n",
       "      <td>50.970053</td>\n",
       "      <td>11.029962</td>\n",
       "      <td>POINT (11.02996212 50.97005292)</td>\n",
       "      <td>16:33:18.000Z</td>\n",
       "      <td>Entertainment</td>\n",
       "    </tr>\n",
       "    <tr>\n",
       "      <th>11</th>\n",
       "      <td>2kyS6SvSYSE</td>\n",
       "      <td>2017-11-14</td>\n",
       "      <td>WE WANT TO TALK ABOUT OUR MARRIAGE</td>\n",
       "      <td>CaseyNeistat</td>\n",
       "      <td>22</td>\n",
       "      <td>2017-11-13</td>\n",
       "      <td>SHANtell martin</td>\n",
       "      <td>748374</td>\n",
       "      <td>57532</td>\n",
       "      <td>2966</td>\n",
       "      <td>...</td>\n",
       "      <td>False</td>\n",
       "      <td>False</td>\n",
       "      <td>False</td>\n",
       "      <td>SHANTELL'S CHANNEL - https://www.youtube.com/s...</td>\n",
       "      <td>Berlin</td>\n",
       "      <td>52.521819</td>\n",
       "      <td>13.401549</td>\n",
       "      <td>POINT (13.40154862 52.52181866)</td>\n",
       "      <td>17:13:01.000Z</td>\n",
       "      <td>People &amp; Blogs</td>\n",
       "    </tr>\n",
       "    <tr>\n",
       "      <th>12</th>\n",
       "      <td>2Zp-Qm3wJkA</td>\n",
       "      <td>2017-11-14</td>\n",
       "      <td>JP Performance -  Quetschen wir den Japaner ma...</td>\n",
       "      <td>JP Performance</td>\n",
       "      <td>2</td>\n",
       "      <td>2017-11-13</td>\n",
       "      <td>V8|\"VMAX\"|\"Topspeed\"|\"Prüfstand\"|\"JP Performan...</td>\n",
       "      <td>465883</td>\n",
       "      <td>19928</td>\n",
       "      <td>216</td>\n",
       "      <td>...</td>\n",
       "      <td>False</td>\n",
       "      <td>False</td>\n",
       "      <td>False</td>\n",
       "      <td>Mal schauen was unser Japaner so kann! :D\\n- -...</td>\n",
       "      <td>Saarland</td>\n",
       "      <td>49.250390</td>\n",
       "      <td>6.970003</td>\n",
       "      <td>POINT (6.970003213 49.25039044)</td>\n",
       "      <td>10:30:01.000Z</td>\n",
       "      <td>Autos &amp; Vehicles</td>\n",
       "    </tr>\n",
       "    <tr>\n",
       "      <th>13</th>\n",
       "      <td>mmMPprcmJeA</td>\n",
       "      <td>2017-11-14</td>\n",
       "      <td>Diese Schlafposition solltest Du unbedingt ver...</td>\n",
       "      <td>Liebscher &amp; Bracht | Die Schmerzspezialisten</td>\n",
       "      <td>17</td>\n",
       "      <td>2017-11-12</td>\n",
       "      <td>Liebscher|\"Bracht\"|\"Faszien\"|\"LNB\"|\"Schmerzthe...</td>\n",
       "      <td>109571</td>\n",
       "      <td>4357</td>\n",
       "      <td>303</td>\n",
       "      <td>...</td>\n",
       "      <td>False</td>\n",
       "      <td>False</td>\n",
       "      <td>False</td>\n",
       "      <td>Weitere Infos zu diesem Thema findest du hier:...</td>\n",
       "      <td>Thuringen</td>\n",
       "      <td>50.970053</td>\n",
       "      <td>11.029962</td>\n",
       "      <td>POINT (11.02996212 50.97005292)</td>\n",
       "      <td>09:00:05.000Z</td>\n",
       "      <td>Sports</td>\n",
       "    </tr>\n",
       "    <tr>\n",
       "      <th>14</th>\n",
       "      <td>3U51cVIqulM</td>\n",
       "      <td>2017-11-14</td>\n",
       "      <td>ARAB Lifestyle | mit Bodyformus</td>\n",
       "      <td>PlanetKanax</td>\n",
       "      <td>23</td>\n",
       "      <td>2017-11-13</td>\n",
       "      <td>planetkanax|\"planet\"|\"kanax\"|\"planet kanax\"|\"a...</td>\n",
       "      <td>99988</td>\n",
       "      <td>6397</td>\n",
       "      <td>298</td>\n",
       "      <td>...</td>\n",
       "      <td>False</td>\n",
       "      <td>False</td>\n",
       "      <td>False</td>\n",
       "      <td>Video mit Bodyformus: https://youtu.be/EIM7RMe...</td>\n",
       "      <td>Mecklenburg Vorpommern</td>\n",
       "      <td>53.633304</td>\n",
       "      <td>11.416699</td>\n",
       "      <td>POINT (11.41669861 53.63330408)</td>\n",
       "      <td>11:59:43.000Z</td>\n",
       "      <td>Comedy</td>\n",
       "    </tr>\n",
       "    <tr>\n",
       "      <th>15</th>\n",
       "      <td>OKYUtHvgMhc</td>\n",
       "      <td>2017-11-14</td>\n",
       "      <td>Die Welt in 30 Jahren - Sommer 2047 -  VOLKAN</td>\n",
       "      <td>VOLKAN</td>\n",
       "      <td>24</td>\n",
       "      <td>2017-11-12</td>\n",
       "      <td>Welt|\"Natur\"|\"Umwelt\"|\"Klima\"|\"Klimawandel\"</td>\n",
       "      <td>37877</td>\n",
       "      <td>1839</td>\n",
       "      <td>327</td>\n",
       "      <td>...</td>\n",
       "      <td>False</td>\n",
       "      <td>False</td>\n",
       "      <td>False</td>\n",
       "      <td>Über die Zukunft nachzudenken macht Spaß, oder...</td>\n",
       "      <td>Sachsen</td>\n",
       "      <td>50.829984</td>\n",
       "      <td>12.919976</td>\n",
       "      <td>POINT (12.91997595 50.82998395)</td>\n",
       "      <td>16:09:44.000Z</td>\n",
       "      <td>Entertainment</td>\n",
       "    </tr>\n",
       "    <tr>\n",
       "      <th>16</th>\n",
       "      <td>spwqQDCW4TI</td>\n",
       "      <td>2017-11-14</td>\n",
       "      <td>RUNDLAUF FUßBALL CHALLENGE + BESTRAFUNG !!</td>\n",
       "      <td>Brotatos</td>\n",
       "      <td>24</td>\n",
       "      <td>2017-11-13</td>\n",
       "      <td>fußball challenge|\"brotatos\"|\"fußball\"|\"footba...</td>\n",
       "      <td>111328</td>\n",
       "      <td>10692</td>\n",
       "      <td>115</td>\n",
       "      <td>...</td>\n",
       "      <td>False</td>\n",
       "      <td>False</td>\n",
       "      <td>False</td>\n",
       "      <td>Die Rundlauf Fußball Challenge! Jeder kennt da...</td>\n",
       "      <td>Berlin</td>\n",
       "      <td>52.521819</td>\n",
       "      <td>13.401549</td>\n",
       "      <td>POINT (13.40154862 52.52181866)</td>\n",
       "      <td>14:03:32.000Z</td>\n",
       "      <td>Entertainment</td>\n",
       "    </tr>\n",
       "    <tr>\n",
       "      <th>17</th>\n",
       "      <td>-MAgDuA3H9A</td>\n",
       "      <td>2017-11-14</td>\n",
       "      <td>Schauriger_Geist.png - Thumbnail der Woche</td>\n",
       "      <td>Ultralativ</td>\n",
       "      <td>27</td>\n",
       "      <td>2017-11-12</td>\n",
       "      <td>standartskill|\"standart skill\"|\"standard skill...</td>\n",
       "      <td>93628</td>\n",
       "      <td>7924</td>\n",
       "      <td>118</td>\n",
       "      <td>...</td>\n",
       "      <td>False</td>\n",
       "      <td>False</td>\n",
       "      <td>False</td>\n",
       "      <td>Geister gibt es überall... auf YouTube, man mu...</td>\n",
       "      <td>Bremen</td>\n",
       "      <td>53.550438</td>\n",
       "      <td>8.579982</td>\n",
       "      <td>POINT (8.579982461 53.55043805)</td>\n",
       "      <td>13:00:00.000Z</td>\n",
       "      <td>Education</td>\n",
       "    </tr>\n",
       "    <tr>\n",
       "      <th>18</th>\n",
       "      <td>riV8xuBqUQ0</td>\n",
       "      <td>2017-11-14</td>\n",
       "      <td>Duell der Giganten 2.0 | inscopelifestyle</td>\n",
       "      <td>InscopeLifestyle</td>\n",
       "      <td>22</td>\n",
       "      <td>2017-11-12</td>\n",
       "      <td>inscopelifestyle|\"VLOG\"|\"CarVlog\"|\"lamborghini...</td>\n",
       "      <td>113961</td>\n",
       "      <td>8891</td>\n",
       "      <td>260</td>\n",
       "      <td>...</td>\n",
       "      <td>False</td>\n",
       "      <td>False</td>\n",
       "      <td>False</td>\n",
       "      <td>Ihr wolltet ein zweites Duell der Giganten, ih...</td>\n",
       "      <td>Niedersachsen</td>\n",
       "      <td>53.129999</td>\n",
       "      <td>8.220004</td>\n",
       "      <td>POINT (8.220004434 53.1299986)</td>\n",
       "      <td>16:34:53.000Z</td>\n",
       "      <td>People &amp; Blogs</td>\n",
       "    </tr>\n",
       "    <tr>\n",
       "      <th>19</th>\n",
       "      <td>nNtrjfX2aGw</td>\n",
       "      <td>2017-11-14</td>\n",
       "      <td>KOCHEN mit TANZVERBOT |  - 001#</td>\n",
       "      <td>TANZVERBOT</td>\n",
       "      <td>26</td>\n",
       "      <td>2017-11-13</td>\n",
       "      <td>tanzverbot|\"Kochen mit TANZVERBOT\"|\"kochen\"|\"s...</td>\n",
       "      <td>121928</td>\n",
       "      <td>16467</td>\n",
       "      <td>650</td>\n",
       "      <td>...</td>\n",
       "      <td>False</td>\n",
       "      <td>False</td>\n",
       "      <td>False</td>\n",
       "      <td>*Salat: http://amzn.to/2ib6Ja7\\n*messer: http:...</td>\n",
       "      <td>Niedersachsen</td>\n",
       "      <td>53.129999</td>\n",
       "      <td>8.220004</td>\n",
       "      <td>POINT (8.220004434 53.1299986)</td>\n",
       "      <td>19:00:11.000Z</td>\n",
       "      <td>Howto &amp; Style</td>\n",
       "    </tr>\n",
       "  </tbody>\n",
       "</table>\n",
       "<p>10 rows × 22 columns</p>\n",
       "</div>"
      ],
      "text/plain": [
       "       video_id trending_date  \\\n",
       "10  2hu_evXPpMM    2017-11-14   \n",
       "11  2kyS6SvSYSE    2017-11-14   \n",
       "12  2Zp-Qm3wJkA    2017-11-14   \n",
       "13  mmMPprcmJeA    2017-11-14   \n",
       "14  3U51cVIqulM    2017-11-14   \n",
       "15  OKYUtHvgMhc    2017-11-14   \n",
       "16  spwqQDCW4TI    2017-11-14   \n",
       "17  -MAgDuA3H9A    2017-11-14   \n",
       "18  riV8xuBqUQ0    2017-11-14   \n",
       "19  nNtrjfX2aGw    2017-11-14   \n",
       "\n",
       "                                                title  \\\n",
       "10  Dagi Bee wird Heiraten | Coldmirror bekommt Eh...   \n",
       "11                 WE WANT TO TALK ABOUT OUR MARRIAGE   \n",
       "12  JP Performance -  Quetschen wir den Japaner ma...   \n",
       "13  Diese Schlafposition solltest Du unbedingt ver...   \n",
       "14                    ARAB Lifestyle | mit Bodyformus   \n",
       "15      Die Welt in 30 Jahren - Sommer 2047 -  VOLKAN   \n",
       "16         RUNDLAUF FUßBALL CHALLENGE + BESTRAFUNG !!   \n",
       "17         Schauriger_Geist.png - Thumbnail der Woche   \n",
       "18          Duell der Giganten 2.0 | inscopelifestyle   \n",
       "19                    KOCHEN mit TANZVERBOT |  - 001#   \n",
       "\n",
       "                                   channel_title  category_id publish_time  \\\n",
       "10                                  HerrNewstime           24   2017-11-12   \n",
       "11                                  CaseyNeistat           22   2017-11-13   \n",
       "12                                JP Performance            2   2017-11-13   \n",
       "13  Liebscher & Bracht | Die Schmerzspezialisten           17   2017-11-12   \n",
       "14                                   PlanetKanax           23   2017-11-13   \n",
       "15                                        VOLKAN           24   2017-11-12   \n",
       "16                                      Brotatos           24   2017-11-13   \n",
       "17                                    Ultralativ           27   2017-11-12   \n",
       "18                              InscopeLifestyle           22   2017-11-12   \n",
       "19                                    TANZVERBOT           26   2017-11-13   \n",
       "\n",
       "                                                 tags   views  likes  \\\n",
       "10  Dagi Bee|\"Heiraten\"|\"Coldmirror\"|\"YouTube\"|\"Tr...  228574  11349   \n",
       "11                                    SHANtell martin  748374  57532   \n",
       "12  V8|\"VMAX\"|\"Topspeed\"|\"Prüfstand\"|\"JP Performan...  465883  19928   \n",
       "13  Liebscher|\"Bracht\"|\"Faszien\"|\"LNB\"|\"Schmerzthe...  109571   4357   \n",
       "14  planetkanax|\"planet\"|\"kanax\"|\"planet kanax\"|\"a...   99988   6397   \n",
       "15        Welt|\"Natur\"|\"Umwelt\"|\"Klima\"|\"Klimawandel\"   37877   1839   \n",
       "16  fußball challenge|\"brotatos\"|\"fußball\"|\"footba...  111328  10692   \n",
       "17  standartskill|\"standart skill\"|\"standard skill...   93628   7924   \n",
       "18  inscopelifestyle|\"VLOG\"|\"CarVlog\"|\"lamborghini...  113961   8891   \n",
       "19  tanzverbot|\"Kochen mit TANZVERBOT\"|\"kochen\"|\"s...  121928  16467   \n",
       "\n",
       "    dislikes  ...  comments_disabled ratings_disabled  video_error_or_removed  \\\n",
       "10       990  ...              False            False                   False   \n",
       "11      2966  ...              False            False                   False   \n",
       "12       216  ...              False            False                   False   \n",
       "13       303  ...              False            False                   False   \n",
       "14       298  ...              False            False                   False   \n",
       "15       327  ...              False            False                   False   \n",
       "16       115  ...              False            False                   False   \n",
       "17       118  ...              False            False                   False   \n",
       "18       260  ...              False            False                   False   \n",
       "19       650  ...              False            False                   False   \n",
       "\n",
       "                                          description                   state  \\\n",
       "10  Dagi Bee wird Heiraten | Coldmirror bekommt Eh...               Thuringen   \n",
       "11  SHANTELL'S CHANNEL - https://www.youtube.com/s...                  Berlin   \n",
       "12  Mal schauen was unser Japaner so kann! :D\\n- -...                Saarland   \n",
       "13  Weitere Infos zu diesem Thema findest du hier:...               Thuringen   \n",
       "14  Video mit Bodyformus: https://youtu.be/EIM7RMe...  Mecklenburg Vorpommern   \n",
       "15  Über die Zukunft nachzudenken macht Spaß, oder...                 Sachsen   \n",
       "16  Die Rundlauf Fußball Challenge! Jeder kennt da...                  Berlin   \n",
       "17  Geister gibt es überall... auf YouTube, man mu...                  Bremen   \n",
       "18  Ihr wolltet ein zweites Duell der Giganten, ih...           Niedersachsen   \n",
       "19  *Salat: http://amzn.to/2ib6Ja7\\n*messer: http:...           Niedersachsen   \n",
       "\n",
       "          lat        lon                         geometry   publish_hour  \\\n",
       "10  50.970053  11.029962  POINT (11.02996212 50.97005292)  16:33:18.000Z   \n",
       "11  52.521819  13.401549  POINT (13.40154862 52.52181866)  17:13:01.000Z   \n",
       "12  49.250390   6.970003  POINT (6.970003213 49.25039044)  10:30:01.000Z   \n",
       "13  50.970053  11.029962  POINT (11.02996212 50.97005292)  09:00:05.000Z   \n",
       "14  53.633304  11.416699  POINT (11.41669861 53.63330408)  11:59:43.000Z   \n",
       "15  50.829984  12.919976  POINT (12.91997595 50.82998395)  16:09:44.000Z   \n",
       "16  52.521819  13.401549  POINT (13.40154862 52.52181866)  14:03:32.000Z   \n",
       "17  53.550438   8.579982  POINT (8.579982461 53.55043805)  13:00:00.000Z   \n",
       "18  53.129999   8.220004   POINT (8.220004434 53.1299986)  16:34:53.000Z   \n",
       "19  53.129999   8.220004   POINT (8.220004434 53.1299986)  19:00:11.000Z   \n",
       "\n",
       "            category  \n",
       "10     Entertainment  \n",
       "11    People & Blogs  \n",
       "12  Autos & Vehicles  \n",
       "13            Sports  \n",
       "14            Comedy  \n",
       "15     Entertainment  \n",
       "16     Entertainment  \n",
       "17         Education  \n",
       "18    People & Blogs  \n",
       "19     Howto & Style  \n",
       "\n",
       "[10 rows x 22 columns]"
      ]
     },
     "execution_count": 128,
     "metadata": {},
     "output_type": "execute_result"
    }
   ],
   "source": [
    "data.iloc[10:20]"
   ]
  },
  {
   "cell_type": "markdown",
   "id": "5ecb895c",
   "metadata": {},
   "source": [
    "### Creación del nuevo dataset"
   ]
  },
  {
   "cell_type": "code",
   "execution_count": 129,
   "id": "aa60c042",
   "metadata": {},
   "outputs": [],
   "source": [
    "data.to_csv('../data/DEvideos_cc50_202101_final.csv',index=False)"
   ]
  },
  {
   "cell_type": "markdown",
   "id": "74d98c42",
   "metadata": {},
   "source": [
    "# Visualización de datos"
   ]
  },
  {
   "cell_type": "code",
   "execution_count": 101,
   "id": "897e21bc",
   "metadata": {},
   "outputs": [
    {
     "data": {
      "text/plain": [
       "<AxesSubplot:xlabel='count', ylabel='category'>"
      ]
     },
     "execution_count": 101,
     "metadata": {},
     "output_type": "execute_result"
    },
    {
     "data": {
      "image/png": "[encoded data removed]",
      "text/plain": [
       "<Figure size 842.4x595.44 with 1 Axes>"
      ]
     },
     "metadata": {
      "needs_background": "light"
     },
     "output_type": "display_data"
    }
   ],
   "source": [
    "a4_dims = (11.7, 8.27)\n",
    "fig, ax = plt.subplots(figsize=a4_dims)\n",
    "sns.countplot(y='category', data=data, order = data['category'].value_counts().index)"
   ]
  },
  {
   "cell_type": "code",
   "execution_count": 43,
   "id": "d0bd8ab7",
   "metadata": {},
   "outputs": [
    {
     "data": {
      "text/plain": [
       "<matplotlib.axes._subplots.AxesSubplot at 0x220b3f6e710>"
      ]
     },
     "execution_count": 43,
     "metadata": {},
     "output_type": "execute_result"
    },
    {
     "data": {
      "image/png": "[encoded data removed]",
      "text/plain": [
       "<Figure size 842.4x595.44 with 1 Axes>"
      ]
     },
     "metadata": {
      "needs_background": "light"
     },
     "output_type": "display_data"
    }
   ],
   "source": [
    "a4_dims = (11.7, 8.27)\n",
    "fig, ax = plt.subplots(figsize=a4_dims)\n",
    "sns.barplot(y='category', x='likes', data=data, ci=None, estimator=sum,\n",
    "            order=data.groupby(['category'])['likes'].agg('sum').sort_values(ascending = False).index)\n"
   ]
  },
  {
   "cell_type": "code",
   "execution_count": 44,
   "id": "28169b3a",
   "metadata": {},
   "outputs": [
    {
     "data": {
      "text/plain": [
       "<matplotlib.axes._subplots.AxesSubplot at 0x220b3f524e0>"
      ]
     },
     "execution_count": 44,
     "metadata": {},
     "output_type": "execute_result"
    },
    {
     "data": {
      "image/png": "[encoded data removed]",
      "text/plain": [
       "<Figure size 842.4x595.44 with 1 Axes>"
      ]
     },
     "metadata": {
      "needs_background": "light"
     },
     "output_type": "display_data"
    }
   ],
   "source": [
    "a4_dims = (11.7, 8.27)\n",
    "fig, ax = plt.subplots(figsize=a4_dims)\n",
    "sns.barplot(y='category', x='dislikes', data=data, ci=None, estimator=sum,\n",
    "            order=data.groupby(['category'])['dislikes'].agg('sum').sort_values(ascending = False).index)\n"
   ]
  },
  {
   "cell_type": "code",
   "execution_count": 45,
   "id": "89ccb0be",
   "metadata": {},
   "outputs": [
    {
     "data": {
      "text/plain": [
       "<matplotlib.axes._subplots.AxesSubplot at 0x220b2dfcb00>"
      ]
     },
     "execution_count": 45,
     "metadata": {},
     "output_type": "execute_result"
    },
    {
     "data": {
      "image/png": "[encoded data removed]",
      "text/plain": [
       "<Figure size 842.4x595.44 with 1 Axes>"
      ]
     },
     "metadata": {
      "needs_background": "light"
     },
     "output_type": "display_data"
    }
   ],
   "source": [
    "def ratio_likes_dislikes(x): return x['likes'].agg(\n",
    "    'sum') / x['dislikes'].agg('sum')\n",
    "\n",
    "\n",
    "r = data.groupby(['category']).apply(\n",
    "    ratio_likes_dislikes).sort_values(ascending=False).reset_index(name='ratio')\n",
    "a4_dims = (11.7, 8.27)\n",
    "fig, ax = plt.subplots(figsize=a4_dims)\n",
    "sns.barplot(x='ratio', y='category', data=r, ci=None)\n"
   ]
  },
  {
   "cell_type": "code",
   "execution_count": 46,
   "id": "b009dcfd",
   "metadata": {},
   "outputs": [
    {
     "data": {
      "text/plain": [
       "<matplotlib.axes._subplots.AxesSubplot at 0x220b2edc6d8>"
      ]
     },
     "execution_count": 46,
     "metadata": {},
     "output_type": "execute_result"
    },
    {
     "data": {
      "image/png": "[encoded data removed]",
      "text/plain": [
       "<Figure size 842.4x595.44 with 1 Axes>"
      ]
     },
     "metadata": {
      "needs_background": "light"
     },
     "output_type": "display_data"
    }
   ],
   "source": [
    "def ratio_views_comment(x): return x['views'].agg(\n",
    "    'sum') / x['comment_count'].agg('sum')\n",
    "\n",
    "\n",
    "r = data.groupby(['category']).apply(ratio_views_comment).sort_values(\n",
    "    ascending=False).reset_index(name='ratio')\n",
    "a4_dims = (11.7, 8.27)\n",
    "fig, ax = plt.subplots(figsize=a4_dims)\n",
    "sns.barplot(x='ratio', y='category', data=r, ci=None)\n"
   ]
  },
  {
   "cell_type": "code",
   "execution_count": 47,
   "id": "0c52d024",
   "metadata": {},
   "outputs": [
    {
     "data": {
      "text/plain": [
       "<matplotlib.axes._subplots.AxesSubplot at 0x220b2ecab38>"
      ]
     },
     "execution_count": 47,
     "metadata": {},
     "output_type": "execute_result"
    },
    {
     "data": {
      "image/png": "[encoded data removed]",
      "text/plain": [
       "<Figure size 842.4x595.44 with 1 Axes>"
      ]
     },
     "metadata": {
      "needs_background": "light"
     },
     "output_type": "display_data"
    }
   ],
   "source": [
    "a4_dims = (11.7, 8.27)\n",
    "fig, ax = plt.subplots(figsize=a4_dims)\n",
    "sns.countplot(y='channel_title', data=data, order = data['channel_title'].value_counts().iloc[:15].index)\n"
   ]
  },
  {
   "cell_type": "code",
   "execution_count": 48,
   "id": "d0490f42",
   "metadata": {},
   "outputs": [
    {
     "data": {
      "text/plain": [
       "<matplotlib.axes._subplots.AxesSubplot at 0x220b434dbe0>"
      ]
     },
     "execution_count": 48,
     "metadata": {},
     "output_type": "execute_result"
    },
    {
     "data": {
      "image/png": "[encoded data removed]",
      "text/plain": [
       "<Figure size 842.4x595.44 with 1 Axes>"
      ]
     },
     "metadata": {
      "needs_background": "light"
     },
     "output_type": "display_data"
    }
   ],
   "source": [
    "a4_dims = (11.7, 8.27)\n",
    "fig, ax = plt.subplots(figsize=a4_dims)\n",
    "sns.countplot(y='channel_title', data=data, order = data['channel_title'].value_counts().sort_values().iloc[:15].index)"
   ]
  }
 ],
 "metadata": {
  "kernelspec": {
   "display_name": "Python 3",
   "language": "python",
   "name": "python3"
  },
  "language_info": {
   "codemirror_mode": {
    "name": "ipython",
    "version": 3
   },
   "file_extension": ".py",
   "mimetype": "text/x-python",
   "name": "python",
   "nbconvert_exporter": "python",
   "pygments_lexer": "ipython3",
   "version": "3.8.8"
  }
 },
 "nbformat": 4,
 "nbformat_minor": 5
}
