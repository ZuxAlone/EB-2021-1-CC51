{
 "cells": [
  {
   "cell_type": "markdown",
   "id": "592ca965",
   "metadata": {},
   "source": [
    "# Import de librerías"
   ]
  },
  {
   "cell_type": "code",
   "execution_count": 4,
   "id": "414c490a",
   "metadata": {},
   "outputs": [
    {
     "data": {
      "text/html": [
       "        <script type=\"text/javascript\">\n",
       "        window.PlotlyConfig = {MathJaxConfig: 'local'};\n",
       "        if (window.MathJax) {MathJax.Hub.Config({SVG: {font: \"STIX-Web\"}});}\n",
       "        if (typeof require !== 'undefined') {\n",
       "        require.undef(\"plotly\");\n",
       "        requirejs.config({\n",
       "            paths: {\n",
       "                'plotly': ['https://cdn.plot.ly/plotly-2.6.3.min']\n",
       "            }\n",
       "        });\n",
       "        require(['plotly'], function(Plotly) {\n",
       "            window._Plotly = Plotly;\n",
       "        });\n",
       "        }\n",
       "        </script>\n",
       "        "
      ]
     },
     "metadata": {},
     "output_type": "display_data"
    }
   ],
   "source": [
    "import pandas as pd\n",
    "import numpy as np\n",
    "import json\n",
    "import random\n",
    "import seaborn as sns\n",
    "import matplotlib.pyplot as plt\n",
    "import chart_studio as py\n",
    "import plotly.graph_objs as go\n",
    "from plotly.offline import download_plotlyjs, init_notebook_mode, plot, iplot\n",
    "init_notebook_mode(connected=True) \n",
    "%matplotlib inline"
   ]
  },
  {
   "cell_type": "markdown",
   "id": "c9b16d4f",
   "metadata": {},
   "source": [
    "# Inspección de los datos"
   ]
  },
  {
   "cell_type": "markdown",
   "id": "4ac13de0",
   "metadata": {},
   "source": [
    "**Lectura del data set de videos**"
   ]
  },
  {
   "cell_type": "code",
   "execution_count": 5,
   "id": "11b14e60",
   "metadata": {},
   "outputs": [],
   "source": [
    "data = pd.read_csv(\"../data/DEvideos_cc50_202101.csv\")"
   ]
  },
  {
   "cell_type": "markdown",
   "id": "ad0cbdd1",
   "metadata": {},
   "source": [
    "**Muestra de las 10 primeras filas del dataset**"
   ]
  },
  {
   "cell_type": "code",
   "execution_count": 6,
   "id": "fff0f2f9",
   "metadata": {
    "scrolled": false
   },
   "outputs": [
    {
     "data": {
      "text/html": [
       "<div>\n",
       "<style scoped>\n",
       "    .dataframe tbody tr th:only-of-type {\n",
       "        vertical-align: middle;\n",
       "    }\n",
       "\n",
       "    .dataframe tbody tr th {\n",
       "        vertical-align: top;\n",
       "    }\n",
       "\n",
       "    .dataframe thead th {\n",
       "        text-align: right;\n",
       "    }\n",
       "</style>\n",
       "<table border=\"1\" class=\"dataframe\">\n",
       "  <thead>\n",
       "    <tr style=\"text-align: right;\">\n",
       "      <th></th>\n",
       "      <th>video_id</th>\n",
       "      <th>trending_date</th>\n",
       "      <th>title</th>\n",
       "      <th>channel_title</th>\n",
       "      <th>category_id</th>\n",
       "      <th>publish_time</th>\n",
       "      <th>tags</th>\n",
       "      <th>views</th>\n",
       "      <th>likes</th>\n",
       "      <th>dislikes</th>\n",
       "      <th>comment_count</th>\n",
       "      <th>thumbnail_link</th>\n",
       "      <th>comments_disabled</th>\n",
       "      <th>ratings_disabled</th>\n",
       "      <th>video_error_or_removed</th>\n",
       "      <th>description</th>\n",
       "      <th>state</th>\n",
       "      <th>lat</th>\n",
       "      <th>lon</th>\n",
       "      <th>geometry</th>\n",
       "    </tr>\n",
       "  </thead>\n",
       "  <tbody>\n",
       "    <tr>\n",
       "      <th>0</th>\n",
       "      <td>LgVi6y5QIjM</td>\n",
       "      <td>17.14.11</td>\n",
       "      <td>Sing zu Ende! | Gesangseinlagen vom Feinsten |...</td>\n",
       "      <td>inscope21</td>\n",
       "      <td>24</td>\n",
       "      <td>2017-11-13T17:08:49.000Z</td>\n",
       "      <td>inscope21|\"sing zu ende\"|\"gesangseinlagen\"|\"ge...</td>\n",
       "      <td>252786</td>\n",
       "      <td>35885</td>\n",
       "      <td>230</td>\n",
       "      <td>1539</td>\n",
       "      <td>https://i.ytimg.com/vi/LgVi6y5QIjM/default.jpg</td>\n",
       "      <td>False</td>\n",
       "      <td>False</td>\n",
       "      <td>False</td>\n",
       "      <td>Heute gibt es mal wieder ein neues Format... w...</td>\n",
       "      <td>Schleswig Holstein</td>\n",
       "      <td>54.783748</td>\n",
       "      <td>9.433315</td>\n",
       "      <td>POINT (9.433315388 54.78374778)</td>\n",
       "    </tr>\n",
       "    <tr>\n",
       "      <th>1</th>\n",
       "      <td>Bayt7uQith4</td>\n",
       "      <td>17.14.11</td>\n",
       "      <td>Kinder ferngesteuert im Kiosk! Erwachsene abzo...</td>\n",
       "      <td>LUKE! Die Woche und ich</td>\n",
       "      <td>23</td>\n",
       "      <td>2017-11-12T22:30:01.000Z</td>\n",
       "      <td>Kinder|\"ferngesteuert\"|\"Kinder ferngesteuert\"|...</td>\n",
       "      <td>797196</td>\n",
       "      <td>53576</td>\n",
       "      <td>302</td>\n",
       "      <td>1278</td>\n",
       "      <td>https://i.ytimg.com/vi/Bayt7uQith4/default.jpg</td>\n",
       "      <td>False</td>\n",
       "      <td>False</td>\n",
       "      <td>False</td>\n",
       "      <td>Kinder ferngesteuert! Kinder lassen sich sooo ...</td>\n",
       "      <td>Nordrhein Westfalen</td>\n",
       "      <td>52.029988</td>\n",
       "      <td>8.530011</td>\n",
       "      <td>POINT (8.530011351000001 52.02998822)</td>\n",
       "    </tr>\n",
       "    <tr>\n",
       "      <th>2</th>\n",
       "      <td>1ZAPwfrtAFY</td>\n",
       "      <td>17.14.11</td>\n",
       "      <td>The Trump Presidency: Last Week Tonight with J...</td>\n",
       "      <td>LastWeekTonight</td>\n",
       "      <td>24</td>\n",
       "      <td>2017-11-13T07:30:00.000Z</td>\n",
       "      <td>last week tonight trump presidency|\"last week ...</td>\n",
       "      <td>2418783</td>\n",
       "      <td>97190</td>\n",
       "      <td>6146</td>\n",
       "      <td>12703</td>\n",
       "      <td>https://i.ytimg.com/vi/1ZAPwfrtAFY/default.jpg</td>\n",
       "      <td>False</td>\n",
       "      <td>False</td>\n",
       "      <td>False</td>\n",
       "      <td>One year after the presidential election, John...</td>\n",
       "      <td>Saarland</td>\n",
       "      <td>49.250390</td>\n",
       "      <td>6.970003</td>\n",
       "      <td>POINT (6.970003213 49.25039044)</td>\n",
       "    </tr>\n",
       "    <tr>\n",
       "      <th>3</th>\n",
       "      <td>AHtypnRk7JE</td>\n",
       "      <td>17.14.11</td>\n",
       "      <td>Das Fermi-Paradoxon</td>\n",
       "      <td>100SekundenPhysik</td>\n",
       "      <td>27</td>\n",
       "      <td>2017-11-12T15:00:01.000Z</td>\n",
       "      <td>Physik|\"Wissenschaft\"|\"Technik\"|\"Science-Ficti...</td>\n",
       "      <td>380247</td>\n",
       "      <td>31821</td>\n",
       "      <td>458</td>\n",
       "      <td>1955</td>\n",
       "      <td>https://i.ytimg.com/vi/AHtypnRk7JE/default.jpg</td>\n",
       "      <td>False</td>\n",
       "      <td>False</td>\n",
       "      <td>False</td>\n",
       "      <td>►Alle Videos: http://bit.ly/1fa7Tw3\\n\\n\\n✚Snap...</td>\n",
       "      <td>Bayern</td>\n",
       "      <td>50.266607</td>\n",
       "      <td>10.966607</td>\n",
       "      <td>POINT (10.96660681 50.26660748)</td>\n",
       "    </tr>\n",
       "    <tr>\n",
       "      <th>4</th>\n",
       "      <td>ZJ9We4bjcg0</td>\n",
       "      <td>17.14.11</td>\n",
       "      <td>18 SONGS mit Kelly MissesVlog (Sing-off)</td>\n",
       "      <td>rezo</td>\n",
       "      <td>24</td>\n",
       "      <td>2017-11-12T13:10:36.000Z</td>\n",
       "      <td>kelly|\"missesvlog\"|\"kelly song\"|\"bausa\"|\"bausa...</td>\n",
       "      <td>822213</td>\n",
       "      <td>100684</td>\n",
       "      <td>2467</td>\n",
       "      <td>10244</td>\n",
       "      <td>https://i.ytimg.com/vi/ZJ9We4bjcg0/default.jpg</td>\n",
       "      <td>False</td>\n",
       "      <td>False</td>\n",
       "      <td>False</td>\n",
       "      <td>18 Song Mashup über den (veränderten) Beat von...</td>\n",
       "      <td>Berlin</td>\n",
       "      <td>52.521819</td>\n",
       "      <td>13.401549</td>\n",
       "      <td>POINT (13.40154862 52.52181866)</td>\n",
       "    </tr>\n",
       "    <tr>\n",
       "      <th>5</th>\n",
       "      <td>xapGFgWqtg4</td>\n",
       "      <td>17.14.11</td>\n",
       "      <td>Geld verdienen mit Online-Umfragen? Geht das w...</td>\n",
       "      <td>Die Allestester</td>\n",
       "      <td>22</td>\n",
       "      <td>2017-11-13T01:49:24.000Z</td>\n",
       "      <td>[none]</td>\n",
       "      <td>32709</td>\n",
       "      <td>3093</td>\n",
       "      <td>296</td>\n",
       "      <td>63</td>\n",
       "      <td>https://i.ytimg.com/vi/xapGFgWqtg4/default.jpg</td>\n",
       "      <td>False</td>\n",
       "      <td>False</td>\n",
       "      <td>False</td>\n",
       "      <td>Wir haben Meinungsstudie.de (► http://bit.ly/2...</td>\n",
       "      <td>Hessen</td>\n",
       "      <td>51.300007</td>\n",
       "      <td>9.500030</td>\n",
       "      <td>POINT (9.500029661999999 51.30000694)</td>\n",
       "    </tr>\n",
       "    <tr>\n",
       "      <th>6</th>\n",
       "      <td>EIM7RMe39JY</td>\n",
       "      <td>17.14.11</td>\n",
       "      <td>Kanaken auf der Klassenfahrt</td>\n",
       "      <td>Bodyformus</td>\n",
       "      <td>23</td>\n",
       "      <td>2017-11-13T11:59:04.000Z</td>\n",
       "      <td>kanaken|\"kurden\"|\"türken\"|\"schule\"|\"schulzeit\"...</td>\n",
       "      <td>308683</td>\n",
       "      <td>35704</td>\n",
       "      <td>578</td>\n",
       "      <td>1398</td>\n",
       "      <td>https://i.ytimg.com/vi/EIM7RMe39JY/default.jpg</td>\n",
       "      <td>False</td>\n",
       "      <td>False</td>\n",
       "      <td>False</td>\n",
       "      <td>Video mit Planet Kanax: https://youtu.be/3U51c...</td>\n",
       "      <td>Rheinland Pfalz</td>\n",
       "      <td>49.982472</td>\n",
       "      <td>8.273219</td>\n",
       "      <td>POINT (8.273219156 49.98247246)</td>\n",
       "    </tr>\n",
       "    <tr>\n",
       "      <th>7</th>\n",
       "      <td>PaWTaj6Iie0</td>\n",
       "      <td>17.14.11</td>\n",
       "      <td>3 unbekannte Gesichter von Film/Serien-Charakt...</td>\n",
       "      <td>Jay &amp; Arya</td>\n",
       "      <td>22</td>\n",
       "      <td>2017-11-13T18:09:55.000Z</td>\n",
       "      <td>unbekannte gesichte charakter|\"unbekannte gesi...</td>\n",
       "      <td>181660</td>\n",
       "      <td>17998</td>\n",
       "      <td>169</td>\n",
       "      <td>554</td>\n",
       "      <td>https://i.ytimg.com/vi/PaWTaj6Iie0/default.jpg</td>\n",
       "      <td>False</td>\n",
       "      <td>False</td>\n",
       "      <td>False</td>\n",
       "      <td>4 unbekannte Gesichter animierter Charaktere (...</td>\n",
       "      <td>Nordrhein Westfalen</td>\n",
       "      <td>52.029988</td>\n",
       "      <td>8.530011</td>\n",
       "      <td>POINT (8.530011351000001 52.02998822)</td>\n",
       "    </tr>\n",
       "    <tr>\n",
       "      <th>8</th>\n",
       "      <td>GHct2dGNLks</td>\n",
       "      <td>17.14.11</td>\n",
       "      <td>Antoine leiht Auto von Ernährungsberaterin</td>\n",
       "      <td>TeddyComedy</td>\n",
       "      <td>23</td>\n",
       "      <td>2017-11-12T11:53:45.000Z</td>\n",
       "      <td>Antoine Auto|\"Antoine Boot Camp\"|\"Antoine Ernä...</td>\n",
       "      <td>369173</td>\n",
       "      <td>16953</td>\n",
       "      <td>570</td>\n",
       "      <td>611</td>\n",
       "      <td>https://i.ytimg.com/vi/GHct2dGNLks/default.jpg</td>\n",
       "      <td>False</td>\n",
       "      <td>False</td>\n",
       "      <td>False</td>\n",
       "      <td>Antoine hat sich ein Auto ausgeliehen..schaut ...</td>\n",
       "      <td>Thuringen</td>\n",
       "      <td>50.970053</td>\n",
       "      <td>11.029962</td>\n",
       "      <td>POINT (11.02996212 50.97005292)</td>\n",
       "    </tr>\n",
       "    <tr>\n",
       "      <th>9</th>\n",
       "      <td>aZYSFByDGkg</td>\n",
       "      <td>17.14.11</td>\n",
       "      <td>Legenden: So wird dein Ruhm unsterblich - Fame...</td>\n",
       "      <td>WALULIS</td>\n",
       "      <td>1</td>\n",
       "      <td>2017-11-13T15:06:12.000Z</td>\n",
       "      <td>michael jackson|\"promi\"|\"tot\"|\"tod\"|\"gestorben...</td>\n",
       "      <td>62418</td>\n",
       "      <td>4749</td>\n",
       "      <td>44</td>\n",
       "      <td>425</td>\n",
       "      <td>https://i.ytimg.com/vi/aZYSFByDGkg/default.jpg</td>\n",
       "      <td>False</td>\n",
       "      <td>False</td>\n",
       "      <td>False</td>\n",
       "      <td>Berühmt werden kann jeder, aber berühmt bleibe...</td>\n",
       "      <td>Thuringen</td>\n",
       "      <td>50.970053</td>\n",
       "      <td>11.029962</td>\n",
       "      <td>POINT (11.02996212 50.97005292)</td>\n",
       "    </tr>\n",
       "  </tbody>\n",
       "</table>\n",
       "</div>"
      ],
      "text/plain": [
       "      video_id trending_date  \\\n",
       "0  LgVi6y5QIjM      17.14.11   \n",
       "1  Bayt7uQith4      17.14.11   \n",
       "2  1ZAPwfrtAFY      17.14.11   \n",
       "3  AHtypnRk7JE      17.14.11   \n",
       "4  ZJ9We4bjcg0      17.14.11   \n",
       "5  xapGFgWqtg4      17.14.11   \n",
       "6  EIM7RMe39JY      17.14.11   \n",
       "7  PaWTaj6Iie0      17.14.11   \n",
       "8  GHct2dGNLks      17.14.11   \n",
       "9  aZYSFByDGkg      17.14.11   \n",
       "\n",
       "                                               title            channel_title  \\\n",
       "0  Sing zu Ende! | Gesangseinlagen vom Feinsten |...                inscope21   \n",
       "1  Kinder ferngesteuert im Kiosk! Erwachsene abzo...  LUKE! Die Woche und ich   \n",
       "2  The Trump Presidency: Last Week Tonight with J...          LastWeekTonight   \n",
       "3                                Das Fermi-Paradoxon        100SekundenPhysik   \n",
       "4           18 SONGS mit Kelly MissesVlog (Sing-off)                     rezo   \n",
       "5  Geld verdienen mit Online-Umfragen? Geht das w...          Die Allestester   \n",
       "6                       Kanaken auf der Klassenfahrt               Bodyformus   \n",
       "7  3 unbekannte Gesichter von Film/Serien-Charakt...               Jay & Arya   \n",
       "8         Antoine leiht Auto von Ernährungsberaterin              TeddyComedy   \n",
       "9  Legenden: So wird dein Ruhm unsterblich - Fame...                  WALULIS   \n",
       "\n",
       "   category_id              publish_time  \\\n",
       "0           24  2017-11-13T17:08:49.000Z   \n",
       "1           23  2017-11-12T22:30:01.000Z   \n",
       "2           24  2017-11-13T07:30:00.000Z   \n",
       "3           27  2017-11-12T15:00:01.000Z   \n",
       "4           24  2017-11-12T13:10:36.000Z   \n",
       "5           22  2017-11-13T01:49:24.000Z   \n",
       "6           23  2017-11-13T11:59:04.000Z   \n",
       "7           22  2017-11-13T18:09:55.000Z   \n",
       "8           23  2017-11-12T11:53:45.000Z   \n",
       "9            1  2017-11-13T15:06:12.000Z   \n",
       "\n",
       "                                                tags    views   likes  \\\n",
       "0  inscope21|\"sing zu ende\"|\"gesangseinlagen\"|\"ge...   252786   35885   \n",
       "1  Kinder|\"ferngesteuert\"|\"Kinder ferngesteuert\"|...   797196   53576   \n",
       "2  last week tonight trump presidency|\"last week ...  2418783   97190   \n",
       "3  Physik|\"Wissenschaft\"|\"Technik\"|\"Science-Ficti...   380247   31821   \n",
       "4  kelly|\"missesvlog\"|\"kelly song\"|\"bausa\"|\"bausa...   822213  100684   \n",
       "5                                             [none]    32709    3093   \n",
       "6  kanaken|\"kurden\"|\"türken\"|\"schule\"|\"schulzeit\"...   308683   35704   \n",
       "7  unbekannte gesichte charakter|\"unbekannte gesi...   181660   17998   \n",
       "8  Antoine Auto|\"Antoine Boot Camp\"|\"Antoine Ernä...   369173   16953   \n",
       "9  michael jackson|\"promi\"|\"tot\"|\"tod\"|\"gestorben...    62418    4749   \n",
       "\n",
       "   dislikes  comment_count                                  thumbnail_link  \\\n",
       "0       230           1539  https://i.ytimg.com/vi/LgVi6y5QIjM/default.jpg   \n",
       "1       302           1278  https://i.ytimg.com/vi/Bayt7uQith4/default.jpg   \n",
       "2      6146          12703  https://i.ytimg.com/vi/1ZAPwfrtAFY/default.jpg   \n",
       "3       458           1955  https://i.ytimg.com/vi/AHtypnRk7JE/default.jpg   \n",
       "4      2467          10244  https://i.ytimg.com/vi/ZJ9We4bjcg0/default.jpg   \n",
       "5       296             63  https://i.ytimg.com/vi/xapGFgWqtg4/default.jpg   \n",
       "6       578           1398  https://i.ytimg.com/vi/EIM7RMe39JY/default.jpg   \n",
       "7       169            554  https://i.ytimg.com/vi/PaWTaj6Iie0/default.jpg   \n",
       "8       570            611  https://i.ytimg.com/vi/GHct2dGNLks/default.jpg   \n",
       "9        44            425  https://i.ytimg.com/vi/aZYSFByDGkg/default.jpg   \n",
       "\n",
       "   comments_disabled  ratings_disabled  video_error_or_removed  \\\n",
       "0              False             False                   False   \n",
       "1              False             False                   False   \n",
       "2              False             False                   False   \n",
       "3              False             False                   False   \n",
       "4              False             False                   False   \n",
       "5              False             False                   False   \n",
       "6              False             False                   False   \n",
       "7              False             False                   False   \n",
       "8              False             False                   False   \n",
       "9              False             False                   False   \n",
       "\n",
       "                                         description                state  \\\n",
       "0  Heute gibt es mal wieder ein neues Format... w...   Schleswig Holstein   \n",
       "1  Kinder ferngesteuert! Kinder lassen sich sooo ...  Nordrhein Westfalen   \n",
       "2  One year after the presidential election, John...             Saarland   \n",
       "3  ►Alle Videos: http://bit.ly/1fa7Tw3\\n\\n\\n✚Snap...               Bayern   \n",
       "4  18 Song Mashup über den (veränderten) Beat von...               Berlin   \n",
       "5  Wir haben Meinungsstudie.de (► http://bit.ly/2...               Hessen   \n",
       "6  Video mit Planet Kanax: https://youtu.be/3U51c...      Rheinland Pfalz   \n",
       "7  4 unbekannte Gesichter animierter Charaktere (...  Nordrhein Westfalen   \n",
       "8  Antoine hat sich ein Auto ausgeliehen..schaut ...            Thuringen   \n",
       "9  Berühmt werden kann jeder, aber berühmt bleibe...            Thuringen   \n",
       "\n",
       "         lat        lon                               geometry  \n",
       "0  54.783748   9.433315        POINT (9.433315388 54.78374778)  \n",
       "1  52.029988   8.530011  POINT (8.530011351000001 52.02998822)  \n",
       "2  49.250390   6.970003        POINT (6.970003213 49.25039044)  \n",
       "3  50.266607  10.966607        POINT (10.96660681 50.26660748)  \n",
       "4  52.521819  13.401549        POINT (13.40154862 52.52181866)  \n",
       "5  51.300007   9.500030  POINT (9.500029661999999 51.30000694)  \n",
       "6  49.982472   8.273219        POINT (8.273219156 49.98247246)  \n",
       "7  52.029988   8.530011  POINT (8.530011351000001 52.02998822)  \n",
       "8  50.970053  11.029962        POINT (11.02996212 50.97005292)  \n",
       "9  50.970053  11.029962        POINT (11.02996212 50.97005292)  "
      ]
     },
     "execution_count": 6,
     "metadata": {},
     "output_type": "execute_result"
    }
   ],
   "source": [
    "data.head(10)"
   ]
  },
  {
   "cell_type": "markdown",
   "id": "0b4ddded",
   "metadata": {},
   "source": [
    "**Muestra de la info del dataset**"
   ]
  },
  {
   "cell_type": "code",
   "execution_count": 7,
   "id": "3c3d5d88",
   "metadata": {},
   "outputs": [
    {
     "name": "stdout",
     "output_type": "stream",
     "text": [
      "<class 'pandas.core.frame.DataFrame'>\n",
      "RangeIndex: 40840 entries, 0 to 40839\n",
      "Data columns (total 20 columns):\n",
      " #   Column                  Non-Null Count  Dtype  \n",
      "---  ------                  --------------  -----  \n",
      " 0   video_id                40840 non-null  object \n",
      " 1   trending_date           40840 non-null  object \n",
      " 2   title                   40840 non-null  object \n",
      " 3   channel_title           40840 non-null  object \n",
      " 4   category_id             40840 non-null  int64  \n",
      " 5   publish_time            40840 non-null  object \n",
      " 6   tags                    40840 non-null  object \n",
      " 7   views                   40840 non-null  int64  \n",
      " 8   likes                   40840 non-null  int64  \n",
      " 9   dislikes                40840 non-null  int64  \n",
      " 10  comment_count           40840 non-null  int64  \n",
      " 11  thumbnail_link          40840 non-null  object \n",
      " 12  comments_disabled       40840 non-null  bool   \n",
      " 13  ratings_disabled        40840 non-null  bool   \n",
      " 14  video_error_or_removed  40840 non-null  bool   \n",
      " 15  description             39288 non-null  object \n",
      " 16  state                   40840 non-null  object \n",
      " 17  lat                     40840 non-null  float64\n",
      " 18  lon                     40840 non-null  float64\n",
      " 19  geometry                40840 non-null  object \n",
      "dtypes: bool(3), float64(2), int64(5), object(10)\n",
      "memory usage: 5.4+ MB\n"
     ]
    }
   ],
   "source": [
    "data.info()"
   ]
  },
  {
   "cell_type": "markdown",
   "id": "1bff9938",
   "metadata": {},
   "source": [
    "# Pre-procesamiento de datos"
   ]
  },
  {
   "cell_type": "markdown",
   "id": "7afa9e76",
   "metadata": {},
   "source": [
    "**Contador de la cantidad de valores NAN en el dataset**"
   ]
  },
  {
   "cell_type": "code",
   "execution_count": 8,
   "id": "a648778b",
   "metadata": {},
   "outputs": [
    {
     "data": {
      "text/plain": [
       "video_id                     0\n",
       "trending_date                0\n",
       "title                        0\n",
       "channel_title                0\n",
       "category_id                  0\n",
       "publish_time                 0\n",
       "tags                         0\n",
       "views                        0\n",
       "likes                        0\n",
       "dislikes                     0\n",
       "comment_count                0\n",
       "thumbnail_link               0\n",
       "comments_disabled            0\n",
       "ratings_disabled             0\n",
       "video_error_or_removed       0\n",
       "description               1552\n",
       "state                        0\n",
       "lat                          0\n",
       "lon                          0\n",
       "geometry                     0\n",
       "dtype: int64"
      ]
     },
     "execution_count": 8,
     "metadata": {},
     "output_type": "execute_result"
    }
   ],
   "source": [
    "data.isna().sum()"
   ]
  },
  {
   "cell_type": "markdown",
   "id": "e78e85b0",
   "metadata": {},
   "source": [
    "**Contador de la cantidad de valores NULL en el dataset**"
   ]
  },
  {
   "cell_type": "code",
   "execution_count": 9,
   "id": "244d0ac4",
   "metadata": {},
   "outputs": [
    {
     "data": {
      "text/plain": [
       "video_id                     0\n",
       "trending_date                0\n",
       "title                        0\n",
       "channel_title                0\n",
       "category_id                  0\n",
       "publish_time                 0\n",
       "tags                         0\n",
       "views                        0\n",
       "likes                        0\n",
       "dislikes                     0\n",
       "comment_count                0\n",
       "thumbnail_link               0\n",
       "comments_disabled            0\n",
       "ratings_disabled             0\n",
       "video_error_or_removed       0\n",
       "description               1552\n",
       "state                        0\n",
       "lat                          0\n",
       "lon                          0\n",
       "geometry                     0\n",
       "dtype: int64"
      ]
     },
     "execution_count": 9,
     "metadata": {},
     "output_type": "execute_result"
    }
   ],
   "source": [
    "data.isnull().sum()"
   ]
  },
  {
   "cell_type": "markdown",
   "id": "9c4ce07a",
   "metadata": {},
   "source": [
    "**Determinar si existen datos repetidos**"
   ]
  },
  {
   "cell_type": "markdown",
   "id": "9b7676a1",
   "metadata": {},
   "source": [
    "Podemos notar que no existen valores repetidos"
   ]
  },
  {
   "cell_type": "code",
   "execution_count": 10,
   "id": "0c3b923a",
   "metadata": {
    "scrolled": false
   },
   "outputs": [
    {
     "data": {
      "text/plain": [
       "False    40840\n",
       "dtype: int64"
      ]
     },
     "execution_count": 10,
     "metadata": {},
     "output_type": "execute_result"
    }
   ],
   "source": [
    "data.duplicated().value_counts()"
   ]
  },
  {
   "cell_type": "markdown",
   "id": "070d3008",
   "metadata": {},
   "source": [
    "**Eliminación de las filas cuyos video hayan presentando un error o hayan sido eliminados**"
   ]
  },
  {
   "cell_type": "code",
   "execution_count": 11,
   "id": "414a631b",
   "metadata": {},
   "outputs": [],
   "source": [
    "data = data.drop(data[data[\"video_error_or_removed\"] == True].index)"
   ]
  },
  {
   "cell_type": "markdown",
   "id": "c05aa4d2",
   "metadata": {},
   "source": [
    "**Convertir \"trending_date\" y \"publish_time\" a formato fechas**"
   ]
  },
  {
   "cell_type": "code",
   "execution_count": 12,
   "id": "ac8ff4ca",
   "metadata": {},
   "outputs": [],
   "source": [
    "# Convertir el \"trending_date\" a formato de fecha\n",
    "data[\"trending_date\"]= pd.to_datetime(data[\"trending_date\"], format=\"%y.%d.%m\")"
   ]
  },
  {
   "cell_type": "code",
   "execution_count": 13,
   "id": "de45390f",
   "metadata": {
    "scrolled": false
   },
   "outputs": [],
   "source": [
    "# Split del publish time y hour\n",
    "publish_time = []\n",
    "publish_hour = []\n",
    "for value in data[\"publish_time\"].values:\n",
    "    publish_time.append(value.split(\"T\")[0])\n",
    "    publish_hour.append(value.split(\"T\")[1])"
   ]
  },
  {
   "cell_type": "code",
   "execution_count": 14,
   "id": "4b38e0d4",
   "metadata": {},
   "outputs": [],
   "source": [
    "# Pasar los valores a la columna \"publish_time\" y crear la columna \"publish_hour\"\n",
    "data[\"publish_time\"] = publish_time\n",
    "data[\"publish_hour\"] = publish_hour"
   ]
  },
  {
   "cell_type": "code",
   "execution_count": 15,
   "id": "5d7e1b5b",
   "metadata": {},
   "outputs": [],
   "source": [
    "# Convertir el \"publish_time\" a formato de fecha\n",
    "data[\"publish_time\"]= pd.to_datetime(data[\"publish_time\"])"
   ]
  },
  {
   "cell_type": "markdown",
   "id": "cd46e503",
   "metadata": {},
   "source": [
    "**Identificación de los datos atípicos**"
   ]
  },
  {
   "cell_type": "code",
   "execution_count": 16,
   "id": "69ea9d9f",
   "metadata": {},
   "outputs": [
    {
     "data": {
      "text/plain": [
       "<AxesSubplot:>"
      ]
     },
     "execution_count": 16,
     "metadata": {},
     "output_type": "execute_result"
    },
    {
     "data": {
      "image/png": "[encoded data removed]",
      "text/plain": [
       "<Figure size 842.4x595.44 with 1 Axes>"
      ]
     },
     "metadata": {
      "needs_background": "light"
     },
     "output_type": "display_data"
    }
   ],
   "source": [
    "a4_dims = (11.7, 8.27)\n",
    "fig, ax = plt.subplots(figsize=a4_dims)\n",
    "sns.boxplot(data=data,palette='rainbow',orient='h')"
   ]
  },
  {
   "cell_type": "code",
   "execution_count": 17,
   "id": "dc314aa2",
   "metadata": {},
   "outputs": [
    {
     "name": "stdout",
     "output_type": "stream",
     "text": [
      "Canal del video con más visitas: YouTube Spotlight\n",
      "Título del video con más visitas: YouTube Rewind: The Shape of 2017 | #YouTubeRewind\n",
      "Número de visitas del video: 113876217\n"
     ]
    }
   ],
   "source": [
    "view_max = np.max(data[\"views\"])\n",
    "view_id = data[data.views == view_max].index[0]\n",
    "\n",
    "channel = data[\"channel_title\"][data.index[view_id]]\n",
    "title = data[\"title\"][data.index[view_id]]\n",
    "views = data[\"views\"][data.index[view_id]]\n",
    "\n",
    "print(f\"Canal del video con más visitas: {channel}\")\n",
    "print(f\"Título del video con más visitas: {title}\")\n",
    "print(f\"Número de visitas del video: {views}\")"
   ]
  },
  {
   "cell_type": "code",
   "execution_count": 18,
   "id": "390de173",
   "metadata": {},
   "outputs": [
    {
     "name": "stdout",
     "output_type": "stream",
     "text": [
      "Canal del video con más visitas: YouTube Spotlight\n",
      "Título del video con más visitas: YouTube Rewind: The Shape of 2017 | #YouTubeRewind\n",
      "Número de likes del video: 2811217\n"
     ]
    }
   ],
   "source": [
    "lk_max = np.max(data[\"likes\"])\n",
    "lk_id = data[data.likes == lk_max].index[0]\n",
    "\n",
    "channel = data[\"channel_title\"][data.index[view_id]]\n",
    "title = data[\"title\"][data.index[view_id]]\n",
    "likes = data[\"likes\"][data.index[view_id]]\n",
    "\n",
    "print(f\"Canal del video con más visitas: {channel}\")\n",
    "print(f\"Título del video con más visitas: {title}\")\n",
    "print(f\"Número de likes del video: {likes}\")"
   ]
  },
  {
   "cell_type": "code",
   "execution_count": 19,
   "id": "0999c87c",
   "metadata": {},
   "outputs": [
    {
     "name": "stdout",
     "output_type": "stream",
     "text": [
      "Canal del video con más visitas: YouTube Spotlight\n",
      "Título del video con más visitas: YouTube Rewind: The Shape of 2017 | #YouTubeRewind\n",
      "Número de visitas del video: 1470386\n"
     ]
    }
   ],
   "source": [
    "dlk_max = np.max(data[\"dislikes\"])\n",
    "dlk_id = data[data.dislikes == dlk_max].index[0]\n",
    "\n",
    "channel = data[\"channel_title\"][data.index[view_id]]\n",
    "title = data[\"title\"][data.index[view_id]]\n",
    "dislikes = data[\"dislikes\"][data.index[view_id]]\n",
    "\n",
    "print(f\"Canal del video con más visitas: {channel}\")\n",
    "print(f\"Título del video con más visitas: {title}\")\n",
    "print(f\"Número de visitas del video: {dislikes}\")"
   ]
  },
  {
   "cell_type": "code",
   "execution_count": 20,
   "id": "00167c85",
   "metadata": {
    "scrolled": false
   },
   "outputs": [
    {
     "name": "stdout",
     "output_type": "stream",
     "text": [
      "<class 'pandas.core.frame.DataFrame'>\n",
      "Int64Index: 40826 entries, 0 to 40839\n",
      "Data columns (total 21 columns):\n",
      " #   Column                  Non-Null Count  Dtype         \n",
      "---  ------                  --------------  -----         \n",
      " 0   video_id                40826 non-null  object        \n",
      " 1   trending_date           40826 non-null  datetime64[ns]\n",
      " 2   title                   40826 non-null  object        \n",
      " 3   channel_title           40826 non-null  object        \n",
      " 4   category_id             40826 non-null  int64         \n",
      " 5   publish_time            40826 non-null  datetime64[ns]\n",
      " 6   tags                    40826 non-null  object        \n",
      " 7   views                   40826 non-null  int64         \n",
      " 8   likes                   40826 non-null  int64         \n",
      " 9   dislikes                40826 non-null  int64         \n",
      " 10  comment_count           40826 non-null  int64         \n",
      " 11  thumbnail_link          40826 non-null  object        \n",
      " 12  comments_disabled       40826 non-null  bool          \n",
      " 13  ratings_disabled        40826 non-null  bool          \n",
      " 14  video_error_or_removed  40826 non-null  bool          \n",
      " 15  description             39274 non-null  object        \n",
      " 16  state                   40826 non-null  object        \n",
      " 17  lat                     40826 non-null  float64       \n",
      " 18  lon                     40826 non-null  float64       \n",
      " 19  geometry                40826 non-null  object        \n",
      " 20  publish_hour            40826 non-null  object        \n",
      "dtypes: bool(3), datetime64[ns](2), float64(2), int64(5), object(9)\n",
      "memory usage: 7.0+ MB\n"
     ]
    }
   ],
   "source": [
    "data.info()"
   ]
  },
  {
   "cell_type": "markdown",
   "id": "91910a1a",
   "metadata": {},
   "source": [
    "### Lectura del archivo Json\n",
    "\n",
    "**Lectura de los nombres de las categorías por \"id\" y creación de la columna \"category\" en el dataset**"
   ]
  },
  {
   "cell_type": "code",
   "execution_count": 21,
   "id": "ecd0fd40",
   "metadata": {},
   "outputs": [],
   "source": [
    "f = open(\"../data/DE_category_id.json\") # Alemania\n",
    "\n",
    "dataJson = json.load(f)\n",
    "\n",
    "f = open(\"../data/US_category_id.json\") # US\n",
    "\n",
    "dataJsonUS = json.load(f)\n",
    "\n",
    "d = {}\n",
    "dUS = {}\n",
    "for i in dataJson[\"items\"]:\n",
    "    d[int(i[\"id\"])] = i[\"snippet\"][\"title\"]\n",
    "    \n",
    "for i in dataJsonUS[\"items\"]:\n",
    "    dUS[int(i[\"id\"])] = i[\"snippet\"][\"title\"]\n",
    "    \n",
    "cate = []\n",
    "for i in range(len(data.index)):\n",
    "    cat_id = data.iloc[i][\"category_id\"]\n",
    "    # Si falta una categoría del Json de Alemania, se obtiene de US\n",
    "    if cat_id in list(d):\n",
    "        cate.append(d[cat_id])\n",
    "    else:\n",
    "        cate.append(dUS[cat_id])\n",
    "    \n",
    "data[\"category\"] = cate"
   ]
  },
  {
   "cell_type": "code",
   "execution_count": 22,
   "id": "a57705b3",
   "metadata": {
    "scrolled": false
   },
   "outputs": [
    {
     "data": {
      "text/html": [
       "<div>\n",
       "<style scoped>\n",
       "    .dataframe tbody tr th:only-of-type {\n",
       "        vertical-align: middle;\n",
       "    }\n",
       "\n",
       "    .dataframe tbody tr th {\n",
       "        vertical-align: top;\n",
       "    }\n",
       "\n",
       "    .dataframe thead th {\n",
       "        text-align: right;\n",
       "    }\n",
       "</style>\n",
       "<table border=\"1\" class=\"dataframe\">\n",
       "  <thead>\n",
       "    <tr style=\"text-align: right;\">\n",
       "      <th></th>\n",
       "      <th>video_id</th>\n",
       "      <th>trending_date</th>\n",
       "      <th>title</th>\n",
       "      <th>channel_title</th>\n",
       "      <th>category_id</th>\n",
       "      <th>publish_time</th>\n",
       "      <th>tags</th>\n",
       "      <th>views</th>\n",
       "      <th>likes</th>\n",
       "      <th>dislikes</th>\n",
       "      <th>...</th>\n",
       "      <th>comments_disabled</th>\n",
       "      <th>ratings_disabled</th>\n",
       "      <th>video_error_or_removed</th>\n",
       "      <th>description</th>\n",
       "      <th>state</th>\n",
       "      <th>lat</th>\n",
       "      <th>lon</th>\n",
       "      <th>geometry</th>\n",
       "      <th>publish_hour</th>\n",
       "      <th>category</th>\n",
       "    </tr>\n",
       "  </thead>\n",
       "  <tbody>\n",
       "    <tr>\n",
       "      <th>0</th>\n",
       "      <td>LgVi6y5QIjM</td>\n",
       "      <td>2017-11-14</td>\n",
       "      <td>Sing zu Ende! | Gesangseinlagen vom Feinsten |...</td>\n",
       "      <td>inscope21</td>\n",
       "      <td>24</td>\n",
       "      <td>2017-11-13</td>\n",
       "      <td>inscope21|\"sing zu ende\"|\"gesangseinlagen\"|\"ge...</td>\n",
       "      <td>252786</td>\n",
       "      <td>35885</td>\n",
       "      <td>230</td>\n",
       "      <td>...</td>\n",
       "      <td>False</td>\n",
       "      <td>False</td>\n",
       "      <td>False</td>\n",
       "      <td>Heute gibt es mal wieder ein neues Format... w...</td>\n",
       "      <td>Schleswig Holstein</td>\n",
       "      <td>54.783748</td>\n",
       "      <td>9.433315</td>\n",
       "      <td>POINT (9.433315388 54.78374778)</td>\n",
       "      <td>17:08:49.000Z</td>\n",
       "      <td>Entertainment</td>\n",
       "    </tr>\n",
       "    <tr>\n",
       "      <th>1</th>\n",
       "      <td>Bayt7uQith4</td>\n",
       "      <td>2017-11-14</td>\n",
       "      <td>Kinder ferngesteuert im Kiosk! Erwachsene abzo...</td>\n",
       "      <td>LUKE! Die Woche und ich</td>\n",
       "      <td>23</td>\n",
       "      <td>2017-11-12</td>\n",
       "      <td>Kinder|\"ferngesteuert\"|\"Kinder ferngesteuert\"|...</td>\n",
       "      <td>797196</td>\n",
       "      <td>53576</td>\n",
       "      <td>302</td>\n",
       "      <td>...</td>\n",
       "      <td>False</td>\n",
       "      <td>False</td>\n",
       "      <td>False</td>\n",
       "      <td>Kinder ferngesteuert! Kinder lassen sich sooo ...</td>\n",
       "      <td>Nordrhein Westfalen</td>\n",
       "      <td>52.029988</td>\n",
       "      <td>8.530011</td>\n",
       "      <td>POINT (8.530011351000001 52.02998822)</td>\n",
       "      <td>22:30:01.000Z</td>\n",
       "      <td>Comedy</td>\n",
       "    </tr>\n",
       "    <tr>\n",
       "      <th>2</th>\n",
       "      <td>1ZAPwfrtAFY</td>\n",
       "      <td>2017-11-14</td>\n",
       "      <td>The Trump Presidency: Last Week Tonight with J...</td>\n",
       "      <td>LastWeekTonight</td>\n",
       "      <td>24</td>\n",
       "      <td>2017-11-13</td>\n",
       "      <td>last week tonight trump presidency|\"last week ...</td>\n",
       "      <td>2418783</td>\n",
       "      <td>97190</td>\n",
       "      <td>6146</td>\n",
       "      <td>...</td>\n",
       "      <td>False</td>\n",
       "      <td>False</td>\n",
       "      <td>False</td>\n",
       "      <td>One year after the presidential election, John...</td>\n",
       "      <td>Saarland</td>\n",
       "      <td>49.250390</td>\n",
       "      <td>6.970003</td>\n",
       "      <td>POINT (6.970003213 49.25039044)</td>\n",
       "      <td>07:30:00.000Z</td>\n",
       "      <td>Entertainment</td>\n",
       "    </tr>\n",
       "    <tr>\n",
       "      <th>3</th>\n",
       "      <td>AHtypnRk7JE</td>\n",
       "      <td>2017-11-14</td>\n",
       "      <td>Das Fermi-Paradoxon</td>\n",
       "      <td>100SekundenPhysik</td>\n",
       "      <td>27</td>\n",
       "      <td>2017-11-12</td>\n",
       "      <td>Physik|\"Wissenschaft\"|\"Technik\"|\"Science-Ficti...</td>\n",
       "      <td>380247</td>\n",
       "      <td>31821</td>\n",
       "      <td>458</td>\n",
       "      <td>...</td>\n",
       "      <td>False</td>\n",
       "      <td>False</td>\n",
       "      <td>False</td>\n",
       "      <td>►Alle Videos: http://bit.ly/1fa7Tw3\\n\\n\\n✚Snap...</td>\n",
       "      <td>Bayern</td>\n",
       "      <td>50.266607</td>\n",
       "      <td>10.966607</td>\n",
       "      <td>POINT (10.96660681 50.26660748)</td>\n",
       "      <td>15:00:01.000Z</td>\n",
       "      <td>Education</td>\n",
       "    </tr>\n",
       "    <tr>\n",
       "      <th>4</th>\n",
       "      <td>ZJ9We4bjcg0</td>\n",
       "      <td>2017-11-14</td>\n",
       "      <td>18 SONGS mit Kelly MissesVlog (Sing-off)</td>\n",
       "      <td>rezo</td>\n",
       "      <td>24</td>\n",
       "      <td>2017-11-12</td>\n",
       "      <td>kelly|\"missesvlog\"|\"kelly song\"|\"bausa\"|\"bausa...</td>\n",
       "      <td>822213</td>\n",
       "      <td>100684</td>\n",
       "      <td>2467</td>\n",
       "      <td>...</td>\n",
       "      <td>False</td>\n",
       "      <td>False</td>\n",
       "      <td>False</td>\n",
       "      <td>18 Song Mashup über den (veränderten) Beat von...</td>\n",
       "      <td>Berlin</td>\n",
       "      <td>52.521819</td>\n",
       "      <td>13.401549</td>\n",
       "      <td>POINT (13.40154862 52.52181866)</td>\n",
       "      <td>13:10:36.000Z</td>\n",
       "      <td>Entertainment</td>\n",
       "    </tr>\n",
       "    <tr>\n",
       "      <th>5</th>\n",
       "      <td>xapGFgWqtg4</td>\n",
       "      <td>2017-11-14</td>\n",
       "      <td>Geld verdienen mit Online-Umfragen? Geht das w...</td>\n",
       "      <td>Die Allestester</td>\n",
       "      <td>22</td>\n",
       "      <td>2017-11-13</td>\n",
       "      <td>[none]</td>\n",
       "      <td>32709</td>\n",
       "      <td>3093</td>\n",
       "      <td>296</td>\n",
       "      <td>...</td>\n",
       "      <td>False</td>\n",
       "      <td>False</td>\n",
       "      <td>False</td>\n",
       "      <td>Wir haben Meinungsstudie.de (► http://bit.ly/2...</td>\n",
       "      <td>Hessen</td>\n",
       "      <td>51.300007</td>\n",
       "      <td>9.500030</td>\n",
       "      <td>POINT (9.500029661999999 51.30000694)</td>\n",
       "      <td>01:49:24.000Z</td>\n",
       "      <td>People &amp; Blogs</td>\n",
       "    </tr>\n",
       "    <tr>\n",
       "      <th>6</th>\n",
       "      <td>EIM7RMe39JY</td>\n",
       "      <td>2017-11-14</td>\n",
       "      <td>Kanaken auf der Klassenfahrt</td>\n",
       "      <td>Bodyformus</td>\n",
       "      <td>23</td>\n",
       "      <td>2017-11-13</td>\n",
       "      <td>kanaken|\"kurden\"|\"türken\"|\"schule\"|\"schulzeit\"...</td>\n",
       "      <td>308683</td>\n",
       "      <td>35704</td>\n",
       "      <td>578</td>\n",
       "      <td>...</td>\n",
       "      <td>False</td>\n",
       "      <td>False</td>\n",
       "      <td>False</td>\n",
       "      <td>Video mit Planet Kanax: https://youtu.be/3U51c...</td>\n",
       "      <td>Rheinland Pfalz</td>\n",
       "      <td>49.982472</td>\n",
       "      <td>8.273219</td>\n",
       "      <td>POINT (8.273219156 49.98247246)</td>\n",
       "      <td>11:59:04.000Z</td>\n",
       "      <td>Comedy</td>\n",
       "    </tr>\n",
       "    <tr>\n",
       "      <th>7</th>\n",
       "      <td>PaWTaj6Iie0</td>\n",
       "      <td>2017-11-14</td>\n",
       "      <td>3 unbekannte Gesichter von Film/Serien-Charakt...</td>\n",
       "      <td>Jay &amp; Arya</td>\n",
       "      <td>22</td>\n",
       "      <td>2017-11-13</td>\n",
       "      <td>unbekannte gesichte charakter|\"unbekannte gesi...</td>\n",
       "      <td>181660</td>\n",
       "      <td>17998</td>\n",
       "      <td>169</td>\n",
       "      <td>...</td>\n",
       "      <td>False</td>\n",
       "      <td>False</td>\n",
       "      <td>False</td>\n",
       "      <td>4 unbekannte Gesichter animierter Charaktere (...</td>\n",
       "      <td>Nordrhein Westfalen</td>\n",
       "      <td>52.029988</td>\n",
       "      <td>8.530011</td>\n",
       "      <td>POINT (8.530011351000001 52.02998822)</td>\n",
       "      <td>18:09:55.000Z</td>\n",
       "      <td>People &amp; Blogs</td>\n",
       "    </tr>\n",
       "    <tr>\n",
       "      <th>8</th>\n",
       "      <td>GHct2dGNLks</td>\n",
       "      <td>2017-11-14</td>\n",
       "      <td>Antoine leiht Auto von Ernährungsberaterin</td>\n",
       "      <td>TeddyComedy</td>\n",
       "      <td>23</td>\n",
       "      <td>2017-11-12</td>\n",
       "      <td>Antoine Auto|\"Antoine Boot Camp\"|\"Antoine Ernä...</td>\n",
       "      <td>369173</td>\n",
       "      <td>16953</td>\n",
       "      <td>570</td>\n",
       "      <td>...</td>\n",
       "      <td>False</td>\n",
       "      <td>False</td>\n",
       "      <td>False</td>\n",
       "      <td>Antoine hat sich ein Auto ausgeliehen..schaut ...</td>\n",
       "      <td>Thuringen</td>\n",
       "      <td>50.970053</td>\n",
       "      <td>11.029962</td>\n",
       "      <td>POINT (11.02996212 50.97005292)</td>\n",
       "      <td>11:53:45.000Z</td>\n",
       "      <td>Comedy</td>\n",
       "    </tr>\n",
       "    <tr>\n",
       "      <th>9</th>\n",
       "      <td>aZYSFByDGkg</td>\n",
       "      <td>2017-11-14</td>\n",
       "      <td>Legenden: So wird dein Ruhm unsterblich - Fame...</td>\n",
       "      <td>WALULIS</td>\n",
       "      <td>1</td>\n",
       "      <td>2017-11-13</td>\n",
       "      <td>michael jackson|\"promi\"|\"tot\"|\"tod\"|\"gestorben...</td>\n",
       "      <td>62418</td>\n",
       "      <td>4749</td>\n",
       "      <td>44</td>\n",
       "      <td>...</td>\n",
       "      <td>False</td>\n",
       "      <td>False</td>\n",
       "      <td>False</td>\n",
       "      <td>Berühmt werden kann jeder, aber berühmt bleibe...</td>\n",
       "      <td>Thuringen</td>\n",
       "      <td>50.970053</td>\n",
       "      <td>11.029962</td>\n",
       "      <td>POINT (11.02996212 50.97005292)</td>\n",
       "      <td>15:06:12.000Z</td>\n",
       "      <td>Film &amp; Animation</td>\n",
       "    </tr>\n",
       "  </tbody>\n",
       "</table>\n",
       "<p>10 rows × 22 columns</p>\n",
       "</div>"
      ],
      "text/plain": [
       "      video_id trending_date  \\\n",
       "0  LgVi6y5QIjM    2017-11-14   \n",
       "1  Bayt7uQith4    2017-11-14   \n",
       "2  1ZAPwfrtAFY    2017-11-14   \n",
       "3  AHtypnRk7JE    2017-11-14   \n",
       "4  ZJ9We4bjcg0    2017-11-14   \n",
       "5  xapGFgWqtg4    2017-11-14   \n",
       "6  EIM7RMe39JY    2017-11-14   \n",
       "7  PaWTaj6Iie0    2017-11-14   \n",
       "8  GHct2dGNLks    2017-11-14   \n",
       "9  aZYSFByDGkg    2017-11-14   \n",
       "\n",
       "                                               title            channel_title  \\\n",
       "0  Sing zu Ende! | Gesangseinlagen vom Feinsten |...                inscope21   \n",
       "1  Kinder ferngesteuert im Kiosk! Erwachsene abzo...  LUKE! Die Woche und ich   \n",
       "2  The Trump Presidency: Last Week Tonight with J...          LastWeekTonight   \n",
       "3                                Das Fermi-Paradoxon        100SekundenPhysik   \n",
       "4           18 SONGS mit Kelly MissesVlog (Sing-off)                     rezo   \n",
       "5  Geld verdienen mit Online-Umfragen? Geht das w...          Die Allestester   \n",
       "6                       Kanaken auf der Klassenfahrt               Bodyformus   \n",
       "7  3 unbekannte Gesichter von Film/Serien-Charakt...               Jay & Arya   \n",
       "8         Antoine leiht Auto von Ernährungsberaterin              TeddyComedy   \n",
       "9  Legenden: So wird dein Ruhm unsterblich - Fame...                  WALULIS   \n",
       "\n",
       "   category_id publish_time  \\\n",
       "0           24   2017-11-13   \n",
       "1           23   2017-11-12   \n",
       "2           24   2017-11-13   \n",
       "3           27   2017-11-12   \n",
       "4           24   2017-11-12   \n",
       "5           22   2017-11-13   \n",
       "6           23   2017-11-13   \n",
       "7           22   2017-11-13   \n",
       "8           23   2017-11-12   \n",
       "9            1   2017-11-13   \n",
       "\n",
       "                                                tags    views   likes  \\\n",
       "0  inscope21|\"sing zu ende\"|\"gesangseinlagen\"|\"ge...   252786   35885   \n",
       "1  Kinder|\"ferngesteuert\"|\"Kinder ferngesteuert\"|...   797196   53576   \n",
       "2  last week tonight trump presidency|\"last week ...  2418783   97190   \n",
       "3  Physik|\"Wissenschaft\"|\"Technik\"|\"Science-Ficti...   380247   31821   \n",
       "4  kelly|\"missesvlog\"|\"kelly song\"|\"bausa\"|\"bausa...   822213  100684   \n",
       "5                                             [none]    32709    3093   \n",
       "6  kanaken|\"kurden\"|\"türken\"|\"schule\"|\"schulzeit\"...   308683   35704   \n",
       "7  unbekannte gesichte charakter|\"unbekannte gesi...   181660   17998   \n",
       "8  Antoine Auto|\"Antoine Boot Camp\"|\"Antoine Ernä...   369173   16953   \n",
       "9  michael jackson|\"promi\"|\"tot\"|\"tod\"|\"gestorben...    62418    4749   \n",
       "\n",
       "   dislikes  ...  comments_disabled ratings_disabled  video_error_or_removed  \\\n",
       "0       230  ...              False            False                   False   \n",
       "1       302  ...              False            False                   False   \n",
       "2      6146  ...              False            False                   False   \n",
       "3       458  ...              False            False                   False   \n",
       "4      2467  ...              False            False                   False   \n",
       "5       296  ...              False            False                   False   \n",
       "6       578  ...              False            False                   False   \n",
       "7       169  ...              False            False                   False   \n",
       "8       570  ...              False            False                   False   \n",
       "9        44  ...              False            False                   False   \n",
       "\n",
       "                                         description                state  \\\n",
       "0  Heute gibt es mal wieder ein neues Format... w...   Schleswig Holstein   \n",
       "1  Kinder ferngesteuert! Kinder lassen sich sooo ...  Nordrhein Westfalen   \n",
       "2  One year after the presidential election, John...             Saarland   \n",
       "3  ►Alle Videos: http://bit.ly/1fa7Tw3\\n\\n\\n✚Snap...               Bayern   \n",
       "4  18 Song Mashup über den (veränderten) Beat von...               Berlin   \n",
       "5  Wir haben Meinungsstudie.de (► http://bit.ly/2...               Hessen   \n",
       "6  Video mit Planet Kanax: https://youtu.be/3U51c...      Rheinland Pfalz   \n",
       "7  4 unbekannte Gesichter animierter Charaktere (...  Nordrhein Westfalen   \n",
       "8  Antoine hat sich ein Auto ausgeliehen..schaut ...            Thuringen   \n",
       "9  Berühmt werden kann jeder, aber berühmt bleibe...            Thuringen   \n",
       "\n",
       "         lat        lon                               geometry   publish_hour  \\\n",
       "0  54.783748   9.433315        POINT (9.433315388 54.78374778)  17:08:49.000Z   \n",
       "1  52.029988   8.530011  POINT (8.530011351000001 52.02998822)  22:30:01.000Z   \n",
       "2  49.250390   6.970003        POINT (6.970003213 49.25039044)  07:30:00.000Z   \n",
       "3  50.266607  10.966607        POINT (10.96660681 50.26660748)  15:00:01.000Z   \n",
       "4  52.521819  13.401549        POINT (13.40154862 52.52181866)  13:10:36.000Z   \n",
       "5  51.300007   9.500030  POINT (9.500029661999999 51.30000694)  01:49:24.000Z   \n",
       "6  49.982472   8.273219        POINT (8.273219156 49.98247246)  11:59:04.000Z   \n",
       "7  52.029988   8.530011  POINT (8.530011351000001 52.02998822)  18:09:55.000Z   \n",
       "8  50.970053  11.029962        POINT (11.02996212 50.97005292)  11:53:45.000Z   \n",
       "9  50.970053  11.029962        POINT (11.02996212 50.97005292)  15:06:12.000Z   \n",
       "\n",
       "           category  \n",
       "0     Entertainment  \n",
       "1            Comedy  \n",
       "2     Entertainment  \n",
       "3         Education  \n",
       "4     Entertainment  \n",
       "5    People & Blogs  \n",
       "6            Comedy  \n",
       "7    People & Blogs  \n",
       "8            Comedy  \n",
       "9  Film & Animation  \n",
       "\n",
       "[10 rows x 22 columns]"
      ]
     },
     "execution_count": 22,
     "metadata": {},
     "output_type": "execute_result"
    }
   ],
   "source": [
    "data.head(10)"
   ]
  },
  {
   "cell_type": "markdown",
   "id": "5ecb895c",
   "metadata": {},
   "source": [
    "### Creación del nuevo dataset"
   ]
  },
  {
   "cell_type": "code",
   "execution_count": 23,
   "id": "aa60c042",
   "metadata": {},
   "outputs": [],
   "source": [
    "data.to_csv('../data/DEvideos_cc50_202101_final.csv',index=False)"
   ]
  },
  {
   "cell_type": "markdown",
   "id": "74d98c42",
   "metadata": {},
   "source": [
    "# Visualización de datos"
   ]
  },
  {
   "cell_type": "code",
   "execution_count": 24,
   "id": "272dd0b8",
   "metadata": {},
   "outputs": [],
   "source": [
    "data = pd.read_csv(\"../data/DEvideos_cc50_202101_final.csv\")"
   ]
  },
  {
   "cell_type": "markdown",
   "id": "cdca40af",
   "metadata": {},
   "source": [
    "## Pregunta 1\n",
    "**¿Qué categorías de videos son las de mayor tendencia?**"
   ]
  },
  {
   "cell_type": "code",
   "execution_count": 31,
   "id": "897e21bc",
   "metadata": {
    "scrolled": false
   },
   "outputs": [
    {
     "data": {
      "text/plain": [
       "Text(0.5, 1.0, 'Categorías de videos con mayor tendencia')"
      ]
     },
     "execution_count": 31,
     "metadata": {},
     "output_type": "execute_result"
    },
    {
     "data": {
      "image/png": "[encoded data removed]",
      "text/plain": [
       "<Figure size 842.4x595.44 with 1 Axes>"
      ]
     },
     "metadata": {
      "needs_background": "light"
     },
     "output_type": "display_data"
    }
   ],
   "source": [
    "a4_dims = (11.7, 8.27)\n",
    "fig, ax = plt.subplots(figsize=a4_dims)\n",
    "sns.countplot(y='category', data=data, order = data['category'].value_counts().index)\n",
    "ax.set_title('Categorías de videos con mayor tendencia')"
   ]
  },
  {
   "cell_type": "code",
   "execution_count": 32,
   "id": "8224d7bf",
   "metadata": {},
   "outputs": [
    {
     "data": {
      "text/plain": [
       "Entertainment            15287\n",
       "People & Blogs            5988\n",
       "News & Politics           2935\n",
       "Sports                    2752\n",
       "Comedy                    2534\n",
       "Music                     2372\n",
       "Film & Animation          2368\n",
       "Howto & Style             1745\n",
       "Gaming                    1564\n",
       "Autos & Vehicles           873\n",
       "Education                  844\n",
       "Science & Technology       806\n",
       "Nonprofits & Activism      256\n",
       "Pets & Animals             251\n",
       "Travel & Events            141\n",
       "Shows                      107\n",
       "Movies                       2\n",
       "Trailers                     1\n",
       "Name: category, dtype: int64"
      ]
     },
     "execution_count": 32,
     "metadata": {},
     "output_type": "execute_result"
    }
   ],
   "source": [
    "data['category'].value_counts()"
   ]
  },
  {
   "cell_type": "markdown",
   "id": "112decff",
   "metadata": {},
   "source": [
    "## Pregunta 2\n",
    "**¿Qué categorías de videos son los que más gustan? ¿Y las que menos gustan?**"
   ]
  },
  {
   "cell_type": "markdown",
   "id": "41039590",
   "metadata": {},
   "source": [
    "**Los que más gustan**"
   ]
  },
  {
   "cell_type": "code",
   "execution_count": 33,
   "id": "d0bd8ab7",
   "metadata": {},
   "outputs": [
    {
     "data": {
      "text/plain": [
       "Text(0.5, 1.0, 'Categorías de videos con mayor \"Me gusta\" ')"
      ]
     },
     "execution_count": 33,
     "metadata": {},
     "output_type": "execute_result"
    },
    {
     "data": {
      "image/png": "[encoded data removed]",
      "text/plain": [
       "<Figure size 842.4x595.44 with 1 Axes>"
      ]
     },
     "metadata": {
      "needs_background": "light"
     },
     "output_type": "display_data"
    }
   ],
   "source": [
    "a4_dims = (11.7, 8.27)\n",
    "fig, ax = plt.subplots(figsize=a4_dims)\n",
    "sns.barplot(y='category', x='likes', data=data, ci=None, estimator=sum,\n",
    "            order=data.groupby(['category'])['likes'].agg('sum').sort_values(ascending = False).index)\n",
    "ax.set_title('Categorías de videos con mayor \"Me gusta\" ')"
   ]
  },
  {
   "cell_type": "code",
   "execution_count": 34,
   "id": "1fd632ab",
   "metadata": {},
   "outputs": [
    {
     "data": {
      "text/plain": [
       "category\n",
       "Music                    300297066\n",
       "Entertainment            267652103\n",
       "Comedy                    74787405\n",
       "People & Blogs            60920058\n",
       "Film & Animation          44921148\n",
       "Sports                    37646423\n",
       "Gaming                    28862668\n",
       "Science & Technology      15372868\n",
       "Howto & Style             15101881\n",
       "Nonprofits & Activism     14600953\n",
       "News & Politics           14391904\n",
       "Education                  7516778\n",
       "Autos & Vehicles           6143363\n",
       "Pets & Animals             3351052\n",
       "Travel & Events             887036\n",
       "Shows                       378819\n",
       "Movies                       63834\n",
       "Trailers                         0\n",
       "Name: likes, dtype: int64"
      ]
     },
     "execution_count": 34,
     "metadata": {},
     "output_type": "execute_result"
    }
   ],
   "source": [
    "data.groupby(['category'])['likes'].agg('sum').sort_values(ascending = False)"
   ]
  },
  {
   "cell_type": "markdown",
   "id": "d103b685",
   "metadata": {},
   "source": [
    "**Los que menos gustan**"
   ]
  },
  {
   "cell_type": "code",
   "execution_count": 35,
   "id": "28169b3a",
   "metadata": {},
   "outputs": [
    {
     "data": {
      "text/plain": [
       "Text(0.5, 1.0, 'Categorías de videos con mayor \"No me gusta\" ')"
      ]
     },
     "execution_count": 35,
     "metadata": {},
     "output_type": "execute_result"
    },
    {
     "data": {
      "image/png": "[encoded data removed]",
      "text/plain": [
       "<Figure size 842.4x595.44 with 1 Axes>"
      ]
     },
     "metadata": {
      "needs_background": "light"
     },
     "output_type": "display_data"
    }
   ],
   "source": [
    "a4_dims = (11.7, 8.27)\n",
    "fig, ax = plt.subplots(figsize=a4_dims)\n",
    "sns.barplot(y='category', x='dislikes', data=data, ci=None, estimator=sum,\n",
    "            order=data.groupby(['category'])['dislikes'].agg('sum').sort_values(ascending = False).index)\n",
    "ax.set_title('Categorías de videos con mayor \"No me gusta\" ')"
   ]
  },
  {
   "cell_type": "code",
   "execution_count": 36,
   "id": "ac11734d",
   "metadata": {},
   "outputs": [
    {
     "data": {
      "text/plain": [
       "category\n",
       "Entertainment            22478991\n",
       "Music                    12985188\n",
       "People & Blogs            4544157\n",
       "Nonprofits & Activism     4006492\n",
       "Comedy                    2557861\n",
       "News & Politics           2369587\n",
       "Sports                    2153755\n",
       "Gaming                    1983880\n",
       "Film & Animation          1856934\n",
       "Howto & Style              739287\n",
       "Science & Technology       737165\n",
       "Education                  234168\n",
       "Autos & Vehicles           182704\n",
       "Shows                       98783\n",
       "Pets & Animals              81919\n",
       "Travel & Events             30503\n",
       "Movies                       2594\n",
       "Trailers                        0\n",
       "Name: dislikes, dtype: int64"
      ]
     },
     "execution_count": 36,
     "metadata": {},
     "output_type": "execute_result"
    }
   ],
   "source": [
    "data.groupby(['category'])['dislikes'].agg('sum').sort_values(ascending = False)"
   ]
  },
  {
   "cell_type": "markdown",
   "id": "7256f433",
   "metadata": {},
   "source": [
    "## Pregunta 3\n",
    "**¿Qué categorías de videos tienen la mejor proporción (ratio) de “Me gusta” / “No me gusta”?**"
   ]
  },
  {
   "cell_type": "code",
   "execution_count": 37,
   "id": "89ccb0be",
   "metadata": {},
   "outputs": [
    {
     "name": "stderr",
     "output_type": "stream",
     "text": [
      "C:\\Users\\Enzo\\AppData\\Local\\Temp/ipykernel_26144/1026575085.py:1: RuntimeWarning:\n",
      "\n",
      "invalid value encountered in longlong_scalars\n",
      "\n"
     ]
    },
    {
     "data": {
      "text/plain": [
       "Text(0.5, 1.0, 'Categorías de videos con mayor ratio de \"Me gusta\" y \"No me gusta\" ')"
      ]
     },
     "execution_count": 37,
     "metadata": {},
     "output_type": "execute_result"
    },
    {
     "data": {
      "image/png": "[encoded data removed]",
      "text/plain": [
       "<Figure size 842.4x595.44 with 1 Axes>"
      ]
     },
     "metadata": {
      "needs_background": "light"
     },
     "output_type": "display_data"
    }
   ],
   "source": [
    "def ratio_likes_dislikes(x): return x['likes'].agg(\n",
    "    'sum') / x['dislikes'].agg('sum')\n",
    "\n",
    "r_lk_dlk = data.groupby(['category']).apply(\n",
    "    ratio_likes_dislikes).sort_values(ascending=False).reset_index(name='ratio')\n",
    "a4_dims = (11.7, 8.27)\n",
    "fig, ax = plt.subplots(figsize=a4_dims)\n",
    "sns.barplot(x='ratio', y='category', data=r_lk_dlk, ci=None)\n",
    "ax.set_title('Categorías de videos con mayor ratio de \"Me gusta\" y \"No me gusta\" ')"
   ]
  },
  {
   "cell_type": "code",
   "execution_count": 38,
   "id": "b47780f8",
   "metadata": {},
   "outputs": [
    {
     "data": {
      "text/html": [
       "<div>\n",
       "<style scoped>\n",
       "    .dataframe tbody tr th:only-of-type {\n",
       "        vertical-align: middle;\n",
       "    }\n",
       "\n",
       "    .dataframe tbody tr th {\n",
       "        vertical-align: top;\n",
       "    }\n",
       "\n",
       "    .dataframe thead th {\n",
       "        text-align: right;\n",
       "    }\n",
       "</style>\n",
       "<table border=\"1\" class=\"dataframe\">\n",
       "  <thead>\n",
       "    <tr style=\"text-align: right;\">\n",
       "      <th></th>\n",
       "      <th>category</th>\n",
       "      <th>ratio</th>\n",
       "    </tr>\n",
       "  </thead>\n",
       "  <tbody>\n",
       "    <tr>\n",
       "      <th>0</th>\n",
       "      <td>Pets &amp; Animals</td>\n",
       "      <td>40.906896</td>\n",
       "    </tr>\n",
       "    <tr>\n",
       "      <th>1</th>\n",
       "      <td>Autos &amp; Vehicles</td>\n",
       "      <td>33.624677</td>\n",
       "    </tr>\n",
       "    <tr>\n",
       "      <th>2</th>\n",
       "      <td>Education</td>\n",
       "      <td>32.099937</td>\n",
       "    </tr>\n",
       "    <tr>\n",
       "      <th>3</th>\n",
       "      <td>Comedy</td>\n",
       "      <td>29.238260</td>\n",
       "    </tr>\n",
       "    <tr>\n",
       "      <th>4</th>\n",
       "      <td>Travel &amp; Events</td>\n",
       "      <td>29.080287</td>\n",
       "    </tr>\n",
       "    <tr>\n",
       "      <th>5</th>\n",
       "      <td>Movies</td>\n",
       "      <td>24.608327</td>\n",
       "    </tr>\n",
       "    <tr>\n",
       "      <th>6</th>\n",
       "      <td>Film &amp; Animation</td>\n",
       "      <td>24.191031</td>\n",
       "    </tr>\n",
       "    <tr>\n",
       "      <th>7</th>\n",
       "      <td>Music</td>\n",
       "      <td>23.126124</td>\n",
       "    </tr>\n",
       "    <tr>\n",
       "      <th>8</th>\n",
       "      <td>Science &amp; Technology</td>\n",
       "      <td>20.854039</td>\n",
       "    </tr>\n",
       "    <tr>\n",
       "      <th>9</th>\n",
       "      <td>Howto &amp; Style</td>\n",
       "      <td>20.427630</td>\n",
       "    </tr>\n",
       "    <tr>\n",
       "      <th>10</th>\n",
       "      <td>Sports</td>\n",
       "      <td>17.479436</td>\n",
       "    </tr>\n",
       "    <tr>\n",
       "      <th>11</th>\n",
       "      <td>Gaming</td>\n",
       "      <td>14.548596</td>\n",
       "    </tr>\n",
       "    <tr>\n",
       "      <th>12</th>\n",
       "      <td>People &amp; Blogs</td>\n",
       "      <td>13.406240</td>\n",
       "    </tr>\n",
       "    <tr>\n",
       "      <th>13</th>\n",
       "      <td>Entertainment</td>\n",
       "      <td>11.906767</td>\n",
       "    </tr>\n",
       "    <tr>\n",
       "      <th>14</th>\n",
       "      <td>News &amp; Politics</td>\n",
       "      <td>6.073592</td>\n",
       "    </tr>\n",
       "    <tr>\n",
       "      <th>15</th>\n",
       "      <td>Shows</td>\n",
       "      <td>3.834860</td>\n",
       "    </tr>\n",
       "    <tr>\n",
       "      <th>16</th>\n",
       "      <td>Nonprofits &amp; Activism</td>\n",
       "      <td>3.644324</td>\n",
       "    </tr>\n",
       "    <tr>\n",
       "      <th>17</th>\n",
       "      <td>Trailers</td>\n",
       "      <td>NaN</td>\n",
       "    </tr>\n",
       "  </tbody>\n",
       "</table>\n",
       "</div>"
      ],
      "text/plain": [
       "                 category      ratio\n",
       "0          Pets & Animals  40.906896\n",
       "1        Autos & Vehicles  33.624677\n",
       "2               Education  32.099937\n",
       "3                  Comedy  29.238260\n",
       "4         Travel & Events  29.080287\n",
       "5                  Movies  24.608327\n",
       "6        Film & Animation  24.191031\n",
       "7                   Music  23.126124\n",
       "8    Science & Technology  20.854039\n",
       "9           Howto & Style  20.427630\n",
       "10                 Sports  17.479436\n",
       "11                 Gaming  14.548596\n",
       "12         People & Blogs  13.406240\n",
       "13          Entertainment  11.906767\n",
       "14        News & Politics   6.073592\n",
       "15                  Shows   3.834860\n",
       "16  Nonprofits & Activism   3.644324\n",
       "17               Trailers        NaN"
      ]
     },
     "execution_count": 38,
     "metadata": {},
     "output_type": "execute_result"
    }
   ],
   "source": [
    "r_lk_dlk"
   ]
  },
  {
   "cell_type": "markdown",
   "id": "9a1ad84f",
   "metadata": {},
   "source": [
    "## Pregunta 4\n",
    "**¿Qué categorías de videos tienen la mejor proporción (ratio) de “Vistas” / “Comentarios”?**"
   ]
  },
  {
   "cell_type": "code",
   "execution_count": 39,
   "id": "b009dcfd",
   "metadata": {},
   "outputs": [
    {
     "name": "stderr",
     "output_type": "stream",
     "text": [
      "C:\\Users\\Enzo\\AppData\\Local\\Temp/ipykernel_26144/2186418853.py:1: RuntimeWarning:\n",
      "\n",
      "divide by zero encountered in longlong_scalars\n",
      "\n"
     ]
    },
    {
     "data": {
      "text/plain": [
       "Text(0.5, 1.0, 'Categorías de videos con mayor ratio de \"Vistas\" y \"Comentarios\" ')"
      ]
     },
     "execution_count": 39,
     "metadata": {},
     "output_type": "execute_result"
    },
    {
     "data": {
      "image/png": "[encoded data removed]",
      "text/plain": [
       "<Figure size 842.4x595.44 with 1 Axes>"
      ]
     },
     "metadata": {
      "needs_background": "light"
     },
     "output_type": "display_data"
    }
   ],
   "source": [
    "def ratio_views_comment(x): return x['views'].agg(\n",
    "    'sum') / x['comment_count'].agg('sum')\n",
    "\n",
    "\n",
    "r_vi_com = data.groupby(['category']).apply(ratio_views_comment).sort_values(\n",
    "    ascending=False).reset_index(name='ratio')\n",
    "a4_dims = (11.7, 8.27)\n",
    "fig, ax = plt.subplots(figsize=a4_dims)\n",
    "sns.barplot(x='ratio', y='category', data=r_vi_com, ci=None)\n",
    "ax.set_title('Categorías de videos con mayor ratio de \"Vistas\" y \"Comentarios\" ')"
   ]
  },
  {
   "cell_type": "code",
   "execution_count": 40,
   "id": "54b16948",
   "metadata": {},
   "outputs": [
    {
     "data": {
      "text/html": [
       "<div>\n",
       "<style scoped>\n",
       "    .dataframe tbody tr th:only-of-type {\n",
       "        vertical-align: middle;\n",
       "    }\n",
       "\n",
       "    .dataframe tbody tr th {\n",
       "        vertical-align: top;\n",
       "    }\n",
       "\n",
       "    .dataframe thead th {\n",
       "        text-align: right;\n",
       "    }\n",
       "</style>\n",
       "<table border=\"1\" class=\"dataframe\">\n",
       "  <thead>\n",
       "    <tr style=\"text-align: right;\">\n",
       "      <th></th>\n",
       "      <th>category</th>\n",
       "      <th>ratio</th>\n",
       "    </tr>\n",
       "  </thead>\n",
       "  <tbody>\n",
       "    <tr>\n",
       "      <th>0</th>\n",
       "      <td>Trailers</td>\n",
       "      <td>inf</td>\n",
       "    </tr>\n",
       "    <tr>\n",
       "      <th>1</th>\n",
       "      <td>Movies</td>\n",
       "      <td>945.215143</td>\n",
       "    </tr>\n",
       "    <tr>\n",
       "      <th>2</th>\n",
       "      <td>Shows</td>\n",
       "      <td>754.453303</td>\n",
       "    </tr>\n",
       "    <tr>\n",
       "      <th>3</th>\n",
       "      <td>Sports</td>\n",
       "      <td>459.245372</td>\n",
       "    </tr>\n",
       "    <tr>\n",
       "      <th>4</th>\n",
       "      <td>Howto &amp; Style</td>\n",
       "      <td>330.514588</td>\n",
       "    </tr>\n",
       "    <tr>\n",
       "      <th>5</th>\n",
       "      <td>Film &amp; Animation</td>\n",
       "      <td>325.407932</td>\n",
       "    </tr>\n",
       "    <tr>\n",
       "      <th>6</th>\n",
       "      <td>Autos &amp; Vehicles</td>\n",
       "      <td>277.118741</td>\n",
       "    </tr>\n",
       "    <tr>\n",
       "      <th>7</th>\n",
       "      <td>People &amp; Blogs</td>\n",
       "      <td>245.942828</td>\n",
       "    </tr>\n",
       "    <tr>\n",
       "      <th>8</th>\n",
       "      <td>Entertainment</td>\n",
       "      <td>222.098124</td>\n",
       "    </tr>\n",
       "    <tr>\n",
       "      <th>9</th>\n",
       "      <td>News &amp; Politics</td>\n",
       "      <td>206.504210</td>\n",
       "    </tr>\n",
       "    <tr>\n",
       "      <th>10</th>\n",
       "      <td>Music</td>\n",
       "      <td>191.881106</td>\n",
       "    </tr>\n",
       "    <tr>\n",
       "      <th>11</th>\n",
       "      <td>Travel &amp; Events</td>\n",
       "      <td>186.954346</td>\n",
       "    </tr>\n",
       "    <tr>\n",
       "      <th>12</th>\n",
       "      <td>Comedy</td>\n",
       "      <td>185.513320</td>\n",
       "    </tr>\n",
       "    <tr>\n",
       "      <th>13</th>\n",
       "      <td>Science &amp; Technology</td>\n",
       "      <td>166.273533</td>\n",
       "    </tr>\n",
       "    <tr>\n",
       "      <th>14</th>\n",
       "      <td>Education</td>\n",
       "      <td>161.999872</td>\n",
       "    </tr>\n",
       "    <tr>\n",
       "      <th>15</th>\n",
       "      <td>Gaming</td>\n",
       "      <td>142.290140</td>\n",
       "    </tr>\n",
       "    <tr>\n",
       "      <th>16</th>\n",
       "      <td>Pets &amp; Animals</td>\n",
       "      <td>139.366880</td>\n",
       "    </tr>\n",
       "    <tr>\n",
       "      <th>17</th>\n",
       "      <td>Nonprofits &amp; Activism</td>\n",
       "      <td>41.013546</td>\n",
       "    </tr>\n",
       "  </tbody>\n",
       "</table>\n",
       "</div>"
      ],
      "text/plain": [
       "                 category       ratio\n",
       "0                Trailers         inf\n",
       "1                  Movies  945.215143\n",
       "2                   Shows  754.453303\n",
       "3                  Sports  459.245372\n",
       "4           Howto & Style  330.514588\n",
       "5        Film & Animation  325.407932\n",
       "6        Autos & Vehicles  277.118741\n",
       "7          People & Blogs  245.942828\n",
       "8           Entertainment  222.098124\n",
       "9         News & Politics  206.504210\n",
       "10                  Music  191.881106\n",
       "11        Travel & Events  186.954346\n",
       "12                 Comedy  185.513320\n",
       "13   Science & Technology  166.273533\n",
       "14              Education  161.999872\n",
       "15                 Gaming  142.290140\n",
       "16         Pets & Animals  139.366880\n",
       "17  Nonprofits & Activism   41.013546"
      ]
     },
     "execution_count": 40,
     "metadata": {},
     "output_type": "execute_result"
    }
   ],
   "source": [
    "r_vi_com"
   ]
  },
  {
   "cell_type": "markdown",
   "id": "9a8daee4",
   "metadata": {},
   "source": [
    "## Pregunta 5\n",
    "**¿Cómo ha cambiado el volumen de los videos en tendencia a lo largo del tiempo?**"
   ]
  },
  {
   "cell_type": "code",
   "execution_count": 137,
   "id": "a9e601a1",
   "metadata": {},
   "outputs": [
    {
     "data": {
      "image/png": "[encoded data removed]",
      "text/plain": [
       "<Figure size 842.4x595.44 with 1 Axes>"
      ]
     },
     "metadata": {
      "needs_background": "light"
     },
     "output_type": "display_data"
    }
   ],
   "source": [
    "data[\"trending_date\"] = pd.to_datetime(data[\"trending_date\"])\n",
    "by_tDate = data.groupby(data[\"trending_date\"].dt.to_period('M')).count()\n",
    "\n",
    "a4_dims = (11.7, 8.27)\n",
    "fig, ax = plt.subplots(figsize=a4_dims)\n",
    "\n",
    "sns.pointplot(x=by_tDate.index, y='views',data=by_tDate, color=\"red\")\n",
    "ax.set_xlabel('Fecha')\n",
    "ax.set_ylabel('Count')\n",
    "ax.set_title('Volumen de los videos en tendencia a lo largo del tiempo');"
   ]
  },
  {
   "cell_type": "code",
   "execution_count": 138,
   "id": "31365160",
   "metadata": {},
   "outputs": [
    {
     "data": {
      "text/plain": [
       "trending_date\n",
       "2017-11    3399\n",
       "2017-12    6199\n",
       "2018-01    5790\n",
       "2018-02    5565\n",
       "2018-03    6183\n",
       "2018-04    4789\n",
       "2018-05    6138\n",
       "2018-06    2763\n",
       "Freq: M, Name: views, dtype: int64"
      ]
     },
     "execution_count": 138,
     "metadata": {},
     "output_type": "execute_result"
    }
   ],
   "source": [
    "by_tDate[\"views\"]"
   ]
  },
  {
   "cell_type": "markdown",
   "id": "aa932619",
   "metadata": {},
   "source": [
    "## Pregunta 6\n",
    "**¿Qué Canales de YouTube son tendencia más frecuentemente? ¿Y cuáles con menos frecuencia?**"
   ]
  },
  {
   "cell_type": "markdown",
   "id": "7e0a5322",
   "metadata": {},
   "source": [
    "**Mayor frecuencia**"
   ]
  },
  {
   "cell_type": "code",
   "execution_count": 41,
   "id": "0c52d024",
   "metadata": {
    "scrolled": false
   },
   "outputs": [
    {
     "data": {
      "text/plain": [
       "Text(0.5, 1.0, 'Canales con mayor tendencia')"
      ]
     },
     "execution_count": 41,
     "metadata": {},
     "output_type": "execute_result"
    },
    {
     "data": {
      "image/png": "[encoded data removed]",
      "text/plain": [
       "<Figure size 842.4x595.44 with 1 Axes>"
      ]
     },
     "metadata": {
      "needs_background": "light"
     },
     "output_type": "display_data"
    }
   ],
   "source": [
    "a4_dims = (11.7, 8.27)\n",
    "fig, ax = plt.subplots(figsize=a4_dims)\n",
    "sns.countplot(y='channel_title', data=data, order = data['channel_title'].value_counts().iloc[:15].index)\n",
    "ax.set_title('Canales con mayor tendencia')"
   ]
  },
  {
   "cell_type": "code",
   "execution_count": 42,
   "id": "8e9dac20",
   "metadata": {},
   "outputs": [
    {
     "data": {
      "text/plain": [
       "Galileo                            200\n",
       "Ruhrpottwache                      185\n",
       "Анатолий Шарий                     182\n",
       "Çukur                              180\n",
       "Auf Streife                        180\n",
       "atv                                179\n",
       "Promiflash                         172\n",
       "JP Performance                     159\n",
       "The Daily Show with Trevor Noah    140\n",
       "Söz Dizi                           140\n",
       "Adını Sen Koy                      134\n",
       "Klinik am Südring                  133\n",
       "Россия 24                          131\n",
       "VikatanTV                          130\n",
       "Made My Day                        130\n",
       "Name: channel_title, dtype: int64"
      ]
     },
     "execution_count": 42,
     "metadata": {},
     "output_type": "execute_result"
    }
   ],
   "source": [
    "data['channel_title'].value_counts().iloc[:15]"
   ]
  },
  {
   "cell_type": "markdown",
   "id": "2e0465e1",
   "metadata": {},
   "source": [
    "**Menor frecuencia**"
   ]
  },
  {
   "cell_type": "code",
   "execution_count": 43,
   "id": "d0490f42",
   "metadata": {
    "scrolled": false
   },
   "outputs": [
    {
     "data": {
      "text/plain": [
       "Text(0.5, 1.0, 'Canales con menor tendencia')"
      ]
     },
     "execution_count": 43,
     "metadata": {},
     "output_type": "execute_result"
    },
    {
     "data": {
      "image/png": "[encoded data removed]",
      "text/plain": [
       "<Figure size 842.4x595.44 with 1 Axes>"
      ]
     },
     "metadata": {
      "needs_background": "light"
     },
     "output_type": "display_data"
    }
   ],
   "source": [
    "a4_dims = (11.7, 8.27)\n",
    "fig, ax = plt.subplots(figsize=a4_dims)\n",
    "sns.countplot(y='channel_title', data=data, order = data['channel_title'].value_counts().sort_values().iloc[:15].index)\n",
    "ax.set_title('Canales con menor tendencia')"
   ]
  },
  {
   "cell_type": "code",
   "execution_count": 142,
   "id": "03c17001",
   "metadata": {},
   "outputs": [
    {
     "data": {
      "text/plain": [
       "AbisZett             1\n",
       "Falko mit K          1\n",
       "CUMHUR ÇETİN         1\n",
       "ebeatzproduction     1\n",
       "Club Sounds          1\n",
       "SlideShow ForFun     1\n",
       "Resumen Fútbol HD    1\n",
       "Random Buddy         1\n",
       "KMN Support          1\n",
       "einfach kreativ      1\n",
       "myfoothighlights     1\n",
       "TroubleVEVO          1\n",
       "Kaschba Videos       1\n",
       "AshStudio7           1\n",
       "BeatFilms            1\n",
       "Name: channel_title, dtype: int64"
      ]
     },
     "execution_count": 142,
     "metadata": {},
     "output_type": "execute_result"
    }
   ],
   "source": [
    "data['channel_title'].value_counts().sort_values().iloc[:15]"
   ]
  },
  {
   "cell_type": "code",
   "execution_count": 143,
   "id": "2b4589dc",
   "metadata": {},
   "outputs": [
    {
     "data": {
      "text/html": [
       "<div>\n",
       "<style scoped>\n",
       "    .dataframe tbody tr th:only-of-type {\n",
       "        vertical-align: middle;\n",
       "    }\n",
       "\n",
       "    .dataframe tbody tr th {\n",
       "        vertical-align: top;\n",
       "    }\n",
       "\n",
       "    .dataframe thead th {\n",
       "        text-align: right;\n",
       "    }\n",
       "</style>\n",
       "<table border=\"1\" class=\"dataframe\">\n",
       "  <thead>\n",
       "    <tr style=\"text-align: right;\">\n",
       "      <th></th>\n",
       "      <th>video_id</th>\n",
       "      <th>trending_date</th>\n",
       "      <th>title</th>\n",
       "      <th>channel_title</th>\n",
       "      <th>category_id</th>\n",
       "      <th>publish_time</th>\n",
       "      <th>tags</th>\n",
       "      <th>views</th>\n",
       "      <th>likes</th>\n",
       "      <th>dislikes</th>\n",
       "      <th>...</th>\n",
       "      <th>comments_disabled</th>\n",
       "      <th>ratings_disabled</th>\n",
       "      <th>video_error_or_removed</th>\n",
       "      <th>description</th>\n",
       "      <th>state</th>\n",
       "      <th>lat</th>\n",
       "      <th>lon</th>\n",
       "      <th>geometry</th>\n",
       "      <th>publish_hour</th>\n",
       "      <th>category</th>\n",
       "    </tr>\n",
       "  </thead>\n",
       "  <tbody>\n",
       "    <tr>\n",
       "      <th>0</th>\n",
       "      <td>LgVi6y5QIjM</td>\n",
       "      <td>2017-11-14</td>\n",
       "      <td>Sing zu Ende! | Gesangseinlagen vom Feinsten |...</td>\n",
       "      <td>inscope21</td>\n",
       "      <td>24</td>\n",
       "      <td>2017-11-13</td>\n",
       "      <td>inscope21|\"sing zu ende\"|\"gesangseinlagen\"|\"ge...</td>\n",
       "      <td>252786</td>\n",
       "      <td>35885</td>\n",
       "      <td>230</td>\n",
       "      <td>...</td>\n",
       "      <td>False</td>\n",
       "      <td>False</td>\n",
       "      <td>False</td>\n",
       "      <td>Heute gibt es mal wieder ein neues Format... w...</td>\n",
       "      <td>Schleswig Holstein</td>\n",
       "      <td>54.783748</td>\n",
       "      <td>9.433315</td>\n",
       "      <td>POINT (9.433315388 54.78374778)</td>\n",
       "      <td>17:08:49.000Z</td>\n",
       "      <td>Entertainment</td>\n",
       "    </tr>\n",
       "    <tr>\n",
       "      <th>1</th>\n",
       "      <td>Bayt7uQith4</td>\n",
       "      <td>2017-11-14</td>\n",
       "      <td>Kinder ferngesteuert im Kiosk! Erwachsene abzo...</td>\n",
       "      <td>LUKE! Die Woche und ich</td>\n",
       "      <td>23</td>\n",
       "      <td>2017-11-12</td>\n",
       "      <td>Kinder|\"ferngesteuert\"|\"Kinder ferngesteuert\"|...</td>\n",
       "      <td>797196</td>\n",
       "      <td>53576</td>\n",
       "      <td>302</td>\n",
       "      <td>...</td>\n",
       "      <td>False</td>\n",
       "      <td>False</td>\n",
       "      <td>False</td>\n",
       "      <td>Kinder ferngesteuert! Kinder lassen sich sooo ...</td>\n",
       "      <td>Nordrhein Westfalen</td>\n",
       "      <td>52.029988</td>\n",
       "      <td>8.530011</td>\n",
       "      <td>POINT (8.530011351000001 52.02998822)</td>\n",
       "      <td>22:30:01.000Z</td>\n",
       "      <td>Comedy</td>\n",
       "    </tr>\n",
       "    <tr>\n",
       "      <th>2</th>\n",
       "      <td>1ZAPwfrtAFY</td>\n",
       "      <td>2017-11-14</td>\n",
       "      <td>The Trump Presidency: Last Week Tonight with J...</td>\n",
       "      <td>LastWeekTonight</td>\n",
       "      <td>24</td>\n",
       "      <td>2017-11-13</td>\n",
       "      <td>last week tonight trump presidency|\"last week ...</td>\n",
       "      <td>2418783</td>\n",
       "      <td>97190</td>\n",
       "      <td>6146</td>\n",
       "      <td>...</td>\n",
       "      <td>False</td>\n",
       "      <td>False</td>\n",
       "      <td>False</td>\n",
       "      <td>One year after the presidential election, John...</td>\n",
       "      <td>Saarland</td>\n",
       "      <td>49.250390</td>\n",
       "      <td>6.970003</td>\n",
       "      <td>POINT (6.970003213 49.25039044)</td>\n",
       "      <td>07:30:00.000Z</td>\n",
       "      <td>Entertainment</td>\n",
       "    </tr>\n",
       "    <tr>\n",
       "      <th>3</th>\n",
       "      <td>AHtypnRk7JE</td>\n",
       "      <td>2017-11-14</td>\n",
       "      <td>Das Fermi-Paradoxon</td>\n",
       "      <td>100SekundenPhysik</td>\n",
       "      <td>27</td>\n",
       "      <td>2017-11-12</td>\n",
       "      <td>Physik|\"Wissenschaft\"|\"Technik\"|\"Science-Ficti...</td>\n",
       "      <td>380247</td>\n",
       "      <td>31821</td>\n",
       "      <td>458</td>\n",
       "      <td>...</td>\n",
       "      <td>False</td>\n",
       "      <td>False</td>\n",
       "      <td>False</td>\n",
       "      <td>►Alle Videos: http://bit.ly/1fa7Tw3\\n\\n\\n✚Snap...</td>\n",
       "      <td>Bayern</td>\n",
       "      <td>50.266607</td>\n",
       "      <td>10.966607</td>\n",
       "      <td>POINT (10.96660681 50.26660748)</td>\n",
       "      <td>15:00:01.000Z</td>\n",
       "      <td>Education</td>\n",
       "    </tr>\n",
       "    <tr>\n",
       "      <th>4</th>\n",
       "      <td>ZJ9We4bjcg0</td>\n",
       "      <td>2017-11-14</td>\n",
       "      <td>18 SONGS mit Kelly MissesVlog (Sing-off)</td>\n",
       "      <td>rezo</td>\n",
       "      <td>24</td>\n",
       "      <td>2017-11-12</td>\n",
       "      <td>kelly|\"missesvlog\"|\"kelly song\"|\"bausa\"|\"bausa...</td>\n",
       "      <td>822213</td>\n",
       "      <td>100684</td>\n",
       "      <td>2467</td>\n",
       "      <td>...</td>\n",
       "      <td>False</td>\n",
       "      <td>False</td>\n",
       "      <td>False</td>\n",
       "      <td>18 Song Mashup über den (veränderten) Beat von...</td>\n",
       "      <td>Berlin</td>\n",
       "      <td>52.521819</td>\n",
       "      <td>13.401549</td>\n",
       "      <td>POINT (13.40154862 52.52181866)</td>\n",
       "      <td>13:10:36.000Z</td>\n",
       "      <td>Entertainment</td>\n",
       "    </tr>\n",
       "  </tbody>\n",
       "</table>\n",
       "<p>5 rows × 22 columns</p>\n",
       "</div>"
      ],
      "text/plain": [
       "      video_id trending_date  \\\n",
       "0  LgVi6y5QIjM    2017-11-14   \n",
       "1  Bayt7uQith4    2017-11-14   \n",
       "2  1ZAPwfrtAFY    2017-11-14   \n",
       "3  AHtypnRk7JE    2017-11-14   \n",
       "4  ZJ9We4bjcg0    2017-11-14   \n",
       "\n",
       "                                               title            channel_title  \\\n",
       "0  Sing zu Ende! | Gesangseinlagen vom Feinsten |...                inscope21   \n",
       "1  Kinder ferngesteuert im Kiosk! Erwachsene abzo...  LUKE! Die Woche und ich   \n",
       "2  The Trump Presidency: Last Week Tonight with J...          LastWeekTonight   \n",
       "3                                Das Fermi-Paradoxon        100SekundenPhysik   \n",
       "4           18 SONGS mit Kelly MissesVlog (Sing-off)                     rezo   \n",
       "\n",
       "   category_id publish_time  \\\n",
       "0           24   2017-11-13   \n",
       "1           23   2017-11-12   \n",
       "2           24   2017-11-13   \n",
       "3           27   2017-11-12   \n",
       "4           24   2017-11-12   \n",
       "\n",
       "                                                tags    views   likes  \\\n",
       "0  inscope21|\"sing zu ende\"|\"gesangseinlagen\"|\"ge...   252786   35885   \n",
       "1  Kinder|\"ferngesteuert\"|\"Kinder ferngesteuert\"|...   797196   53576   \n",
       "2  last week tonight trump presidency|\"last week ...  2418783   97190   \n",
       "3  Physik|\"Wissenschaft\"|\"Technik\"|\"Science-Ficti...   380247   31821   \n",
       "4  kelly|\"missesvlog\"|\"kelly song\"|\"bausa\"|\"bausa...   822213  100684   \n",
       "\n",
       "   dislikes  ...  comments_disabled ratings_disabled  video_error_or_removed  \\\n",
       "0       230  ...              False            False                   False   \n",
       "1       302  ...              False            False                   False   \n",
       "2      6146  ...              False            False                   False   \n",
       "3       458  ...              False            False                   False   \n",
       "4      2467  ...              False            False                   False   \n",
       "\n",
       "                                         description                state  \\\n",
       "0  Heute gibt es mal wieder ein neues Format... w...   Schleswig Holstein   \n",
       "1  Kinder ferngesteuert! Kinder lassen sich sooo ...  Nordrhein Westfalen   \n",
       "2  One year after the presidential election, John...             Saarland   \n",
       "3  ►Alle Videos: http://bit.ly/1fa7Tw3\\n\\n\\n✚Snap...               Bayern   \n",
       "4  18 Song Mashup über den (veränderten) Beat von...               Berlin   \n",
       "\n",
       "         lat        lon                               geometry   publish_hour  \\\n",
       "0  54.783748   9.433315        POINT (9.433315388 54.78374778)  17:08:49.000Z   \n",
       "1  52.029988   8.530011  POINT (8.530011351000001 52.02998822)  22:30:01.000Z   \n",
       "2  49.250390   6.970003        POINT (6.970003213 49.25039044)  07:30:00.000Z   \n",
       "3  50.266607  10.966607        POINT (10.96660681 50.26660748)  15:00:01.000Z   \n",
       "4  52.521819  13.401549        POINT (13.40154862 52.52181866)  13:10:36.000Z   \n",
       "\n",
       "        category  \n",
       "0  Entertainment  \n",
       "1         Comedy  \n",
       "2  Entertainment  \n",
       "3      Education  \n",
       "4  Entertainment  \n",
       "\n",
       "[5 rows x 22 columns]"
      ]
     },
     "execution_count": 143,
     "metadata": {},
     "output_type": "execute_result"
    }
   ],
   "source": [
    "data.head()"
   ]
  },
  {
   "cell_type": "markdown",
   "id": "6eac3d8e",
   "metadata": {},
   "source": [
    "## Pregunta 7\n",
    "**¿En qué Estados se presenta el mayor número de “Vistas”, “Me gusta” y “No me gusta”?**"
   ]
  },
  {
   "cell_type": "code",
   "execution_count": 47,
   "id": "bc3d78e1",
   "metadata": {},
   "outputs": [],
   "source": [
    "data_state = data.groupby(data[\"state\"]).sum()[[\"views\", \"likes\", \"dislikes\"]]\n",
    "data_state.reset_index(level=0, inplace=True)"
   ]
  },
  {
   "cell_type": "code",
   "execution_count": 48,
   "id": "31c27cb5",
   "metadata": {},
   "outputs": [
    {
     "data": {
      "application/vnd.plotly.v1+json": {
       "config": {
        "linkText": "Export to plot.ly",
        "plotlyServerURL": "https://plot.ly",
        "showLink": false
       },
       "data": [
        {
         "colorbar": {
          "title": {
           "text": "Views"
          }
         },
         "locations": [
          "Baden Wurttemberg",
          "Bayern",
          "Berlin",
          "Brandenburg",
          "Bremen",
          "Hamburg",
          "Hessen",
          "Mecklenburg Vorpommern",
          "Niedersachsen",
          "Nordrhein Westfalen",
          "Rheinland Pfalz",
          "Saarland",
          "Sachsen",
          "Sachsen Anhalt",
          "Schleswig Holstein",
          "Thuringen"
         ],
         "text": [
          1542170061,
          1456116037,
          1535553735,
          1416616819,
          1556155587,
          1783037888,
          1667128104,
          1311428753,
          1478919155,
          1561050893,
          1670841667,
          1291900116,
          1544022118,
          1493492806,
          1621959004,
          1699481366
         ],
         "type": "choropleth",
         "z": [
          1542170061,
          1456116037,
          1535553735,
          1416616819,
          1556155587,
          1783037888,
          1667128104,
          1311428753,
          1478919155,
          1561050893,
          1670841667,
          1291900116,
          1544022118,
          1493492806,
          1621959004,
          1699481366
         ]
        }
       ],
       "layout": {
        "geo": {
         "projection": {
          "type": "mercator"
         },
         "showframe": false
        },
        "template": {
         "data": {
          "bar": [
           {
            "error_x": {
             "color": "#2a3f5f"
            },
            "error_y": {
             "color": "#2a3f5f"
            },
            "marker": {
             "line": {
              "color": "#E5ECF6",
              "width": 0.5
             },
             "pattern": {
              "fillmode": "overlay",
              "size": 10,
              "solidity": 0.2
             }
            },
            "type": "bar"
           }
          ],
          "barpolar": [
           {
            "marker": {
             "line": {
              "color": "#E5ECF6",
              "width": 0.5
             },
             "pattern": {
              "fillmode": "overlay",
              "size": 10,
              "solidity": 0.2
             }
            },
            "type": "barpolar"
           }
          ],
          "carpet": [
           {
            "aaxis": {
             "endlinecolor": "#2a3f5f",
             "gridcolor": "white",
             "linecolor": "white",
             "minorgridcolor": "white",
             "startlinecolor": "#2a3f5f"
            },
            "baxis": {
             "endlinecolor": "#2a3f5f",
             "gridcolor": "white",
             "linecolor": "white",
             "minorgridcolor": "white",
             "startlinecolor": "#2a3f5f"
            },
            "type": "carpet"
           }
          ],
          "choropleth": [
           {
            "colorbar": {
             "outlinewidth": 0,
             "ticks": ""
            },
            "type": "choropleth"
           }
          ],
          "contour": [
           {
            "colorbar": {
             "outlinewidth": 0,
             "ticks": ""
            },
            "colorscale": [
             [
              0,
              "#0d0887"
             ],
             [
              0.1111111111111111,
              "#46039f"
             ],
             [
              0.2222222222222222,
              "#7201a8"
             ],
             [
              0.3333333333333333,
              "#9c179e"
             ],
             [
              0.4444444444444444,
              "#bd3786"
             ],
             [
              0.5555555555555556,
              "#d8576b"
             ],
             [
              0.6666666666666666,
              "#ed7953"
             ],
             [
              0.7777777777777778,
              "#fb9f3a"
             ],
             [
              0.8888888888888888,
              "#fdca26"
             ],
             [
              1,
              "#f0f921"
             ]
            ],
            "type": "contour"
           }
          ],
          "contourcarpet": [
           {
            "colorbar": {
             "outlinewidth": 0,
             "ticks": ""
            },
            "type": "contourcarpet"
           }
          ],
          "heatmap": [
           {
            "colorbar": {
             "outlinewidth": 0,
             "ticks": ""
            },
            "colorscale": [
             [
              0,
              "#0d0887"
             ],
             [
              0.1111111111111111,
              "#46039f"
             ],
             [
              0.2222222222222222,
              "#7201a8"
             ],
             [
              0.3333333333333333,
              "#9c179e"
             ],
             [
              0.4444444444444444,
              "#bd3786"
             ],
             [
              0.5555555555555556,
              "#d8576b"
             ],
             [
              0.6666666666666666,
              "#ed7953"
             ],
             [
              0.7777777777777778,
              "#fb9f3a"
             ],
             [
              0.8888888888888888,
              "#fdca26"
             ],
             [
              1,
              "#f0f921"
             ]
            ],
            "type": "heatmap"
           }
          ],
          "heatmapgl": [
           {
            "colorbar": {
             "outlinewidth": 0,
             "ticks": ""
            },
            "colorscale": [
             [
              0,
              "#0d0887"
             ],
             [
              0.1111111111111111,
              "#46039f"
             ],
             [
              0.2222222222222222,
              "#7201a8"
             ],
             [
              0.3333333333333333,
              "#9c179e"
             ],
             [
              0.4444444444444444,
              "#bd3786"
             ],
             [
              0.5555555555555556,
              "#d8576b"
             ],
             [
              0.6666666666666666,
              "#ed7953"
             ],
             [
              0.7777777777777778,
              "#fb9f3a"
             ],
             [
              0.8888888888888888,
              "#fdca26"
             ],
             [
              1,
              "#f0f921"
             ]
            ],
            "type": "heatmapgl"
           }
          ],
          "histogram": [
           {
            "marker": {
             "pattern": {
              "fillmode": "overlay",
              "size": 10,
              "solidity": 0.2
             }
            },
            "type": "histogram"
           }
          ],
          "histogram2d": [
           {
            "colorbar": {
             "outlinewidth": 0,
             "ticks": ""
            },
            "colorscale": [
             [
              0,
              "#0d0887"
             ],
             [
              0.1111111111111111,
              "#46039f"
             ],
             [
              0.2222222222222222,
              "#7201a8"
             ],
             [
              0.3333333333333333,
              "#9c179e"
             ],
             [
              0.4444444444444444,
              "#bd3786"
             ],
             [
              0.5555555555555556,
              "#d8576b"
             ],
             [
              0.6666666666666666,
              "#ed7953"
             ],
             [
              0.7777777777777778,
              "#fb9f3a"
             ],
             [
              0.8888888888888888,
              "#fdca26"
             ],
             [
              1,
              "#f0f921"
             ]
            ],
            "type": "histogram2d"
           }
          ],
          "histogram2dcontour": [
           {
            "colorbar": {
             "outlinewidth": 0,
             "ticks": ""
            },
            "colorscale": [
             [
              0,
              "#0d0887"
             ],
             [
              0.1111111111111111,
              "#46039f"
             ],
             [
              0.2222222222222222,
              "#7201a8"
             ],
             [
              0.3333333333333333,
              "#9c179e"
             ],
             [
              0.4444444444444444,
              "#bd3786"
             ],
             [
              0.5555555555555556,
              "#d8576b"
             ],
             [
              0.6666666666666666,
              "#ed7953"
             ],
             [
              0.7777777777777778,
              "#fb9f3a"
             ],
             [
              0.8888888888888888,
              "#fdca26"
             ],
             [
              1,
              "#f0f921"
             ]
            ],
            "type": "histogram2dcontour"
           }
          ],
          "mesh3d": [
           {
            "colorbar": {
             "outlinewidth": 0,
             "ticks": ""
            },
            "type": "mesh3d"
           }
          ],
          "parcoords": [
           {
            "line": {
             "colorbar": {
              "outlinewidth": 0,
              "ticks": ""
             }
            },
            "type": "parcoords"
           }
          ],
          "pie": [
           {
            "automargin": true,
            "type": "pie"
           }
          ],
          "scatter": [
           {
            "marker": {
             "colorbar": {
              "outlinewidth": 0,
              "ticks": ""
             }
            },
            "type": "scatter"
           }
          ],
          "scatter3d": [
           {
            "line": {
             "colorbar": {
              "outlinewidth": 0,
              "ticks": ""
             }
            },
            "marker": {
             "colorbar": {
              "outlinewidth": 0,
              "ticks": ""
             }
            },
            "type": "scatter3d"
           }
          ],
          "scattercarpet": [
           {
            "marker": {
             "colorbar": {
              "outlinewidth": 0,
              "ticks": ""
             }
            },
            "type": "scattercarpet"
           }
          ],
          "scattergeo": [
           {
            "marker": {
             "colorbar": {
              "outlinewidth": 0,
              "ticks": ""
             }
            },
            "type": "scattergeo"
           }
          ],
          "scattergl": [
           {
            "marker": {
             "colorbar": {
              "outlinewidth": 0,
              "ticks": ""
             }
            },
            "type": "scattergl"
           }
          ],
          "scattermapbox": [
           {
            "marker": {
             "colorbar": {
              "outlinewidth": 0,
              "ticks": ""
             }
            },
            "type": "scattermapbox"
           }
          ],
          "scatterpolar": [
           {
            "marker": {
             "colorbar": {
              "outlinewidth": 0,
              "ticks": ""
             }
            },
            "type": "scatterpolar"
           }
          ],
          "scatterpolargl": [
           {
            "marker": {
             "colorbar": {
              "outlinewidth": 0,
              "ticks": ""
             }
            },
            "type": "scatterpolargl"
           }
          ],
          "scatterternary": [
           {
            "marker": {
             "colorbar": {
              "outlinewidth": 0,
              "ticks": ""
             }
            },
            "type": "scatterternary"
           }
          ],
          "surface": [
           {
            "colorbar": {
             "outlinewidth": 0,
             "ticks": ""
            },
            "colorscale": [
             [
              0,
              "#0d0887"
             ],
             [
              0.1111111111111111,
              "#46039f"
             ],
             [
              0.2222222222222222,
              "#7201a8"
             ],
             [
              0.3333333333333333,
              "#9c179e"
             ],
             [
              0.4444444444444444,
              "#bd3786"
             ],
             [
              0.5555555555555556,
              "#d8576b"
             ],
             [
              0.6666666666666666,
              "#ed7953"
             ],
             [
              0.7777777777777778,
              "#fb9f3a"
             ],
             [
              0.8888888888888888,
              "#fdca26"
             ],
             [
              1,
              "#f0f921"
             ]
            ],
            "type": "surface"
           }
          ],
          "table": [
           {
            "cells": {
             "fill": {
              "color": "#EBF0F8"
             },
             "line": {
              "color": "white"
             }
            },
            "header": {
             "fill": {
              "color": "#C8D4E3"
             },
             "line": {
              "color": "white"
             }
            },
            "type": "table"
           }
          ]
         },
         "layout": {
          "annotationdefaults": {
           "arrowcolor": "#2a3f5f",
           "arrowhead": 0,
           "arrowwidth": 1
          },
          "autotypenumbers": "strict",
          "coloraxis": {
           "colorbar": {
            "outlinewidth": 0,
            "ticks": ""
           }
          },
          "colorscale": {
           "diverging": [
            [
             0,
             "#8e0152"
            ],
            [
             0.1,
             "#c51b7d"
            ],
            [
             0.2,
             "#de77ae"
            ],
            [
             0.3,
             "#f1b6da"
            ],
            [
             0.4,
             "#fde0ef"
            ],
            [
             0.5,
             "#f7f7f7"
            ],
            [
             0.6,
             "#e6f5d0"
            ],
            [
             0.7,
             "#b8e186"
            ],
            [
             0.8,
             "#7fbc41"
            ],
            [
             0.9,
             "#4d9221"
            ],
            [
             1,
             "#276419"
            ]
           ],
           "sequential": [
            [
             0,
             "#0d0887"
            ],
            [
             0.1111111111111111,
             "#46039f"
            ],
            [
             0.2222222222222222,
             "#7201a8"
            ],
            [
             0.3333333333333333,
             "#9c179e"
            ],
            [
             0.4444444444444444,
             "#bd3786"
            ],
            [
             0.5555555555555556,
             "#d8576b"
            ],
            [
             0.6666666666666666,
             "#ed7953"
            ],
            [
             0.7777777777777778,
             "#fb9f3a"
            ],
            [
             0.8888888888888888,
             "#fdca26"
            ],
            [
             1,
             "#f0f921"
            ]
           ],
           "sequentialminus": [
            [
             0,
             "#0d0887"
            ],
            [
             0.1111111111111111,
             "#46039f"
            ],
            [
             0.2222222222222222,
             "#7201a8"
            ],
            [
             0.3333333333333333,
             "#9c179e"
            ],
            [
             0.4444444444444444,
             "#bd3786"
            ],
            [
             0.5555555555555556,
             "#d8576b"
            ],
            [
             0.6666666666666666,
             "#ed7953"
            ],
            [
             0.7777777777777778,
             "#fb9f3a"
            ],
            [
             0.8888888888888888,
             "#fdca26"
            ],
            [
             1,
             "#f0f921"
            ]
           ]
          },
          "colorway": [
           "#636efa",
           "#EF553B",
           "#00cc96",
           "#ab63fa",
           "#FFA15A",
           "#19d3f3",
           "#FF6692",
           "#B6E880",
           "#FF97FF",
           "#FECB52"
          ],
          "font": {
           "color": "#2a3f5f"
          },
          "geo": {
           "bgcolor": "white",
           "lakecolor": "white",
           "landcolor": "#E5ECF6",
           "showlakes": true,
           "showland": true,
           "subunitcolor": "white"
          },
          "hoverlabel": {
           "align": "left"
          },
          "hovermode": "closest",
          "mapbox": {
           "style": "light"
          },
          "paper_bgcolor": "white",
          "plot_bgcolor": "#E5ECF6",
          "polar": {
           "angularaxis": {
            "gridcolor": "white",
            "linecolor": "white",
            "ticks": ""
           },
           "bgcolor": "#E5ECF6",
           "radialaxis": {
            "gridcolor": "white",
            "linecolor": "white",
            "ticks": ""
           }
          },
          "scene": {
           "xaxis": {
            "backgroundcolor": "#E5ECF6",
            "gridcolor": "white",
            "gridwidth": 2,
            "linecolor": "white",
            "showbackground": true,
            "ticks": "",
            "zerolinecolor": "white"
           },
           "yaxis": {
            "backgroundcolor": "#E5ECF6",
            "gridcolor": "white",
            "gridwidth": 2,
            "linecolor": "white",
            "showbackground": true,
            "ticks": "",
            "zerolinecolor": "white"
           },
           "zaxis": {
            "backgroundcolor": "#E5ECF6",
            "gridcolor": "white",
            "gridwidth": 2,
            "linecolor": "white",
            "showbackground": true,
            "ticks": "",
            "zerolinecolor": "white"
           }
          },
          "shapedefaults": {
           "line": {
            "color": "#2a3f5f"
           }
          },
          "ternary": {
           "aaxis": {
            "gridcolor": "white",
            "linecolor": "white",
            "ticks": ""
           },
           "baxis": {
            "gridcolor": "white",
            "linecolor": "white",
            "ticks": ""
           },
           "bgcolor": "#E5ECF6",
           "caxis": {
            "gridcolor": "white",
            "linecolor": "white",
            "ticks": ""
           }
          },
          "title": {
           "x": 0.05
          },
          "xaxis": {
           "automargin": true,
           "gridcolor": "white",
           "linecolor": "white",
           "ticks": "",
           "title": {
            "standoff": 15
           },
           "zerolinecolor": "white",
           "zerolinewidth": 2
          },
          "yaxis": {
           "automargin": true,
           "gridcolor": "white",
           "linecolor": "white",
           "ticks": "",
           "title": {
            "standoff": 15
           },
           "zerolinecolor": "white",
           "zerolinewidth": 2
          }
         }
        },
        "title": {
         "text": "Número de visualizaciones totales por estado (Alemania)"
        }
       }
      },
      "text/html": [
       "<div>                            <div id=\"e56987e9-e918-4050-bf43-09bcf55b7ea8\" class=\"plotly-graph-div\" style=\"height:525px; width:100%;\"></div>            <script type=\"text/javascript\">                require([\"plotly\"], function(Plotly) {                    window.PLOTLYENV=window.PLOTLYENV || {};                                    if (document.getElementById(\"e56987e9-e918-4050-bf43-09bcf55b7ea8\")) {                    Plotly.newPlot(                        \"e56987e9-e918-4050-bf43-09bcf55b7ea8\",                        [{\"colorbar\":{\"title\":{\"text\":\"Views\"}},\"locations\":[\"Baden Wurttemberg\",\"Bayern\",\"Berlin\",\"Brandenburg\",\"Bremen\",\"Hamburg\",\"Hessen\",\"Mecklenburg Vorpommern\",\"Niedersachsen\",\"Nordrhein Westfalen\",\"Rheinland Pfalz\",\"Saarland\",\"Sachsen\",\"Sachsen Anhalt\",\"Schleswig Holstein\",\"Thuringen\"],\"text\":[1542170061.0,1456116037.0,1535553735.0,1416616819.0,1556155587.0,1783037888.0,1667128104.0,1311428753.0,1478919155.0,1561050893.0,1670841667.0,1291900116.0,1544022118.0,1493492806.0,1621959004.0,1699481366.0],\"z\":[1542170061,1456116037,1535553735,1416616819,1556155587,1783037888,1667128104,1311428753,1478919155,1561050893,1670841667,1291900116,1544022118,1493492806,1621959004,1699481366],\"type\":\"choropleth\"}],                        {\"geo\":{\"projection\":{\"type\":\"mercator\"},\"showframe\":false},\"title\":{\"text\":\"N\\u00famero de visualizaciones totales por estado (Alemania)\"},\"template\":{\"data\":{\"bar\":[{\"error_x\":{\"color\":\"#2a3f5f\"},\"error_y\":{\"color\":\"#2a3f5f\"},\"marker\":{\"line\":{\"color\":\"#E5ECF6\",\"width\":0.5},\"pattern\":{\"fillmode\":\"overlay\",\"size\":10,\"solidity\":0.2}},\"type\":\"bar\"}],\"barpolar\":[{\"marker\":{\"line\":{\"color\":\"#E5ECF6\",\"width\":0.5},\"pattern\":{\"fillmode\":\"overlay\",\"size\":10,\"solidity\":0.2}},\"type\":\"barpolar\"}],\"carpet\":[{\"aaxis\":{\"endlinecolor\":\"#2a3f5f\",\"gridcolor\":\"white\",\"linecolor\":\"white\",\"minorgridcolor\":\"white\",\"startlinecolor\":\"#2a3f5f\"},\"baxis\":{\"endlinecolor\":\"#2a3f5f\",\"gridcolor\":\"white\",\"linecolor\":\"white\",\"minorgridcolor\":\"white\",\"startlinecolor\":\"#2a3f5f\"},\"type\":\"carpet\"}],\"choropleth\":[{\"colorbar\":{\"outlinewidth\":0,\"ticks\":\"\"},\"type\":\"choropleth\"}],\"contour\":[{\"colorbar\":{\"outlinewidth\":0,\"ticks\":\"\"},\"colorscale\":[[0.0,\"#0d0887\"],[0.1111111111111111,\"#46039f\"],[0.2222222222222222,\"#7201a8\"],[0.3333333333333333,\"#9c179e\"],[0.4444444444444444,\"#bd3786\"],[0.5555555555555556,\"#d8576b\"],[0.6666666666666666,\"#ed7953\"],[0.7777777777777778,\"#fb9f3a\"],[0.8888888888888888,\"#fdca26\"],[1.0,\"#f0f921\"]],\"type\":\"contour\"}],\"contourcarpet\":[{\"colorbar\":{\"outlinewidth\":0,\"ticks\":\"\"},\"type\":\"contourcarpet\"}],\"heatmap\":[{\"colorbar\":{\"outlinewidth\":0,\"ticks\":\"\"},\"colorscale\":[[0.0,\"#0d0887\"],[0.1111111111111111,\"#46039f\"],[0.2222222222222222,\"#7201a8\"],[0.3333333333333333,\"#9c179e\"],[0.4444444444444444,\"#bd3786\"],[0.5555555555555556,\"#d8576b\"],[0.6666666666666666,\"#ed7953\"],[0.7777777777777778,\"#fb9f3a\"],[0.8888888888888888,\"#fdca26\"],[1.0,\"#f0f921\"]],\"type\":\"heatmap\"}],\"heatmapgl\":[{\"colorbar\":{\"outlinewidth\":0,\"ticks\":\"\"},\"colorscale\":[[0.0,\"#0d0887\"],[0.1111111111111111,\"#46039f\"],[0.2222222222222222,\"#7201a8\"],[0.3333333333333333,\"#9c179e\"],[0.4444444444444444,\"#bd3786\"],[0.5555555555555556,\"#d8576b\"],[0.6666666666666666,\"#ed7953\"],[0.7777777777777778,\"#fb9f3a\"],[0.8888888888888888,\"#fdca26\"],[1.0,\"#f0f921\"]],\"type\":\"heatmapgl\"}],\"histogram\":[{\"marker\":{\"pattern\":{\"fillmode\":\"overlay\",\"size\":10,\"solidity\":0.2}},\"type\":\"histogram\"}],\"histogram2d\":[{\"colorbar\":{\"outlinewidth\":0,\"ticks\":\"\"},\"colorscale\":[[0.0,\"#0d0887\"],[0.1111111111111111,\"#46039f\"],[0.2222222222222222,\"#7201a8\"],[0.3333333333333333,\"#9c179e\"],[0.4444444444444444,\"#bd3786\"],[0.5555555555555556,\"#d8576b\"],[0.6666666666666666,\"#ed7953\"],[0.7777777777777778,\"#fb9f3a\"],[0.8888888888888888,\"#fdca26\"],[1.0,\"#f0f921\"]],\"type\":\"histogram2d\"}],\"histogram2dcontour\":[{\"colorbar\":{\"outlinewidth\":0,\"ticks\":\"\"},\"colorscale\":[[0.0,\"#0d0887\"],[0.1111111111111111,\"#46039f\"],[0.2222222222222222,\"#7201a8\"],[0.3333333333333333,\"#9c179e\"],[0.4444444444444444,\"#bd3786\"],[0.5555555555555556,\"#d8576b\"],[0.6666666666666666,\"#ed7953\"],[0.7777777777777778,\"#fb9f3a\"],[0.8888888888888888,\"#fdca26\"],[1.0,\"#f0f921\"]],\"type\":\"histogram2dcontour\"}],\"mesh3d\":[{\"colorbar\":{\"outlinewidth\":0,\"ticks\":\"\"},\"type\":\"mesh3d\"}],\"parcoords\":[{\"line\":{\"colorbar\":{\"outlinewidth\":0,\"ticks\":\"\"}},\"type\":\"parcoords\"}],\"pie\":[{\"automargin\":true,\"type\":\"pie\"}],\"scatter\":[{\"marker\":{\"colorbar\":{\"outlinewidth\":0,\"ticks\":\"\"}},\"type\":\"scatter\"}],\"scatter3d\":[{\"line\":{\"colorbar\":{\"outlinewidth\":0,\"ticks\":\"\"}},\"marker\":{\"colorbar\":{\"outlinewidth\":0,\"ticks\":\"\"}},\"type\":\"scatter3d\"}],\"scattercarpet\":[{\"marker\":{\"colorbar\":{\"outlinewidth\":0,\"ticks\":\"\"}},\"type\":\"scattercarpet\"}],\"scattergeo\":[{\"marker\":{\"colorbar\":{\"outlinewidth\":0,\"ticks\":\"\"}},\"type\":\"scattergeo\"}],\"scattergl\":[{\"marker\":{\"colorbar\":{\"outlinewidth\":0,\"ticks\":\"\"}},\"type\":\"scattergl\"}],\"scattermapbox\":[{\"marker\":{\"colorbar\":{\"outlinewidth\":0,\"ticks\":\"\"}},\"type\":\"scattermapbox\"}],\"scatterpolar\":[{\"marker\":{\"colorbar\":{\"outlinewidth\":0,\"ticks\":\"\"}},\"type\":\"scatterpolar\"}],\"scatterpolargl\":[{\"marker\":{\"colorbar\":{\"outlinewidth\":0,\"ticks\":\"\"}},\"type\":\"scatterpolargl\"}],\"scatterternary\":[{\"marker\":{\"colorbar\":{\"outlinewidth\":0,\"ticks\":\"\"}},\"type\":\"scatterternary\"}],\"surface\":[{\"colorbar\":{\"outlinewidth\":0,\"ticks\":\"\"},\"colorscale\":[[0.0,\"#0d0887\"],[0.1111111111111111,\"#46039f\"],[0.2222222222222222,\"#7201a8\"],[0.3333333333333333,\"#9c179e\"],[0.4444444444444444,\"#bd3786\"],[0.5555555555555556,\"#d8576b\"],[0.6666666666666666,\"#ed7953\"],[0.7777777777777778,\"#fb9f3a\"],[0.8888888888888888,\"#fdca26\"],[1.0,\"#f0f921\"]],\"type\":\"surface\"}],\"table\":[{\"cells\":{\"fill\":{\"color\":\"#EBF0F8\"},\"line\":{\"color\":\"white\"}},\"header\":{\"fill\":{\"color\":\"#C8D4E3\"},\"line\":{\"color\":\"white\"}},\"type\":\"table\"}]},\"layout\":{\"annotationdefaults\":{\"arrowcolor\":\"#2a3f5f\",\"arrowhead\":0,\"arrowwidth\":1},\"autotypenumbers\":\"strict\",\"coloraxis\":{\"colorbar\":{\"outlinewidth\":0,\"ticks\":\"\"}},\"colorscale\":{\"diverging\":[[0,\"#8e0152\"],[0.1,\"#c51b7d\"],[0.2,\"#de77ae\"],[0.3,\"#f1b6da\"],[0.4,\"#fde0ef\"],[0.5,\"#f7f7f7\"],[0.6,\"#e6f5d0\"],[0.7,\"#b8e186\"],[0.8,\"#7fbc41\"],[0.9,\"#4d9221\"],[1,\"#276419\"]],\"sequential\":[[0.0,\"#0d0887\"],[0.1111111111111111,\"#46039f\"],[0.2222222222222222,\"#7201a8\"],[0.3333333333333333,\"#9c179e\"],[0.4444444444444444,\"#bd3786\"],[0.5555555555555556,\"#d8576b\"],[0.6666666666666666,\"#ed7953\"],[0.7777777777777778,\"#fb9f3a\"],[0.8888888888888888,\"#fdca26\"],[1.0,\"#f0f921\"]],\"sequentialminus\":[[0.0,\"#0d0887\"],[0.1111111111111111,\"#46039f\"],[0.2222222222222222,\"#7201a8\"],[0.3333333333333333,\"#9c179e\"],[0.4444444444444444,\"#bd3786\"],[0.5555555555555556,\"#d8576b\"],[0.6666666666666666,\"#ed7953\"],[0.7777777777777778,\"#fb9f3a\"],[0.8888888888888888,\"#fdca26\"],[1.0,\"#f0f921\"]]},\"colorway\":[\"#636efa\",\"#EF553B\",\"#00cc96\",\"#ab63fa\",\"#FFA15A\",\"#19d3f3\",\"#FF6692\",\"#B6E880\",\"#FF97FF\",\"#FECB52\"],\"font\":{\"color\":\"#2a3f5f\"},\"geo\":{\"bgcolor\":\"white\",\"lakecolor\":\"white\",\"landcolor\":\"#E5ECF6\",\"showlakes\":true,\"showland\":true,\"subunitcolor\":\"white\"},\"hoverlabel\":{\"align\":\"left\"},\"hovermode\":\"closest\",\"mapbox\":{\"style\":\"light\"},\"paper_bgcolor\":\"white\",\"plot_bgcolor\":\"#E5ECF6\",\"polar\":{\"angularaxis\":{\"gridcolor\":\"white\",\"linecolor\":\"white\",\"ticks\":\"\"},\"bgcolor\":\"#E5ECF6\",\"radialaxis\":{\"gridcolor\":\"white\",\"linecolor\":\"white\",\"ticks\":\"\"}},\"scene\":{\"xaxis\":{\"backgroundcolor\":\"#E5ECF6\",\"gridcolor\":\"white\",\"gridwidth\":2,\"linecolor\":\"white\",\"showbackground\":true,\"ticks\":\"\",\"zerolinecolor\":\"white\"},\"yaxis\":{\"backgroundcolor\":\"#E5ECF6\",\"gridcolor\":\"white\",\"gridwidth\":2,\"linecolor\":\"white\",\"showbackground\":true,\"ticks\":\"\",\"zerolinecolor\":\"white\"},\"zaxis\":{\"backgroundcolor\":\"#E5ECF6\",\"gridcolor\":\"white\",\"gridwidth\":2,\"linecolor\":\"white\",\"showbackground\":true,\"ticks\":\"\",\"zerolinecolor\":\"white\"}},\"shapedefaults\":{\"line\":{\"color\":\"#2a3f5f\"}},\"ternary\":{\"aaxis\":{\"gridcolor\":\"white\",\"linecolor\":\"white\",\"ticks\":\"\"},\"baxis\":{\"gridcolor\":\"white\",\"linecolor\":\"white\",\"ticks\":\"\"},\"bgcolor\":\"#E5ECF6\",\"caxis\":{\"gridcolor\":\"white\",\"linecolor\":\"white\",\"ticks\":\"\"}},\"title\":{\"x\":0.05},\"xaxis\":{\"automargin\":true,\"gridcolor\":\"white\",\"linecolor\":\"white\",\"ticks\":\"\",\"title\":{\"standoff\":15},\"zerolinecolor\":\"white\",\"zerolinewidth\":2},\"yaxis\":{\"automargin\":true,\"gridcolor\":\"white\",\"linecolor\":\"white\",\"ticks\":\"\",\"title\":{\"standoff\":15},\"zerolinecolor\":\"white\",\"zerolinewidth\":2}}}},                        {\"responsive\": true}                    ).then(function(){\n",
       "                            \n",
       "var gd = document.getElementById('e56987e9-e918-4050-bf43-09bcf55b7ea8');\n",
       "var x = new MutationObserver(function (mutations, observer) {{\n",
       "        var display = window.getComputedStyle(gd).display;\n",
       "        if (!display || display === 'none') {{\n",
       "            console.log([gd, 'removed!']);\n",
       "            Plotly.purge(gd);\n",
       "            observer.disconnect();\n",
       "        }}\n",
       "}});\n",
       "\n",
       "// Listen for the removal of the full notebook cells\n",
       "var notebookContainer = gd.closest('#notebook-container');\n",
       "if (notebookContainer) {{\n",
       "    x.observe(notebookContainer, {childList: true});\n",
       "}}\n",
       "\n",
       "// Listen for the clearing of the current output cell\n",
       "var outputEl = gd.closest('.output');\n",
       "if (outputEl) {{\n",
       "    x.observe(outputEl, {childList: true});\n",
       "}}\n",
       "\n",
       "                        })                };                });            </script>        </div>"
      ]
     },
     "metadata": {},
     "output_type": "display_data"
    }
   ],
   "source": [
    "dat = dict(\n",
    "        type = 'choropleth',\n",
    "        locations = data_state[\"state\"],\n",
    "        #locationmode = \"country names\",\n",
    "        z = data_state[\"views\"],\n",
    "        text = data_state[\"views\"],\n",
    "        colorbar = {'title' : 'Views'},\n",
    "      )\n",
    "\n",
    "layout = dict(\n",
    "    title = 'Número de visualizaciones totales por estado (Alemania)',\n",
    "    geo = dict(\n",
    "        showframe = False,\n",
    "        projection = {'type':'mercator'}\n",
    "    )\n",
    ")\n",
    "\n",
    "choromap = go.Figure(data = [dat],layout = layout)\n",
    "iplot(choromap,validate=False)"
   ]
  },
  {
   "cell_type": "code",
   "execution_count": 46,
   "id": "cfd6c419",
   "metadata": {},
   "outputs": [
    {
     "data": {
      "text/html": [
       "<div>\n",
       "<style scoped>\n",
       "    .dataframe tbody tr th:only-of-type {\n",
       "        vertical-align: middle;\n",
       "    }\n",
       "\n",
       "    .dataframe tbody tr th {\n",
       "        vertical-align: top;\n",
       "    }\n",
       "\n",
       "    .dataframe thead th {\n",
       "        text-align: right;\n",
       "    }\n",
       "</style>\n",
       "<table border=\"1\" class=\"dataframe\">\n",
       "  <thead>\n",
       "    <tr style=\"text-align: right;\">\n",
       "      <th></th>\n",
       "      <th>state</th>\n",
       "      <th>views</th>\n",
       "      <th>likes</th>\n",
       "      <th>dislikes</th>\n",
       "    </tr>\n",
       "  </thead>\n",
       "  <tbody>\n",
       "    <tr>\n",
       "      <th>0</th>\n",
       "      <td>Baden Wurttemberg</td>\n",
       "      <td>1542170061</td>\n",
       "      <td>53931077</td>\n",
       "      <td>2926202</td>\n",
       "    </tr>\n",
       "    <tr>\n",
       "      <th>1</th>\n",
       "      <td>Bayern</td>\n",
       "      <td>1456116037</td>\n",
       "      <td>56423025</td>\n",
       "      <td>2951726</td>\n",
       "    </tr>\n",
       "    <tr>\n",
       "      <th>2</th>\n",
       "      <td>Berlin</td>\n",
       "      <td>1535553735</td>\n",
       "      <td>60643112</td>\n",
       "      <td>3329344</td>\n",
       "    </tr>\n",
       "    <tr>\n",
       "      <th>3</th>\n",
       "      <td>Brandenburg</td>\n",
       "      <td>1416616819</td>\n",
       "      <td>48026373</td>\n",
       "      <td>3110493</td>\n",
       "    </tr>\n",
       "    <tr>\n",
       "      <th>4</th>\n",
       "      <td>Bremen</td>\n",
       "      <td>1556155587</td>\n",
       "      <td>61946034</td>\n",
       "      <td>3852057</td>\n",
       "    </tr>\n",
       "    <tr>\n",
       "      <th>5</th>\n",
       "      <td>Hamburg</td>\n",
       "      <td>1783037888</td>\n",
       "      <td>66904878</td>\n",
       "      <td>4738712</td>\n",
       "    </tr>\n",
       "    <tr>\n",
       "      <th>6</th>\n",
       "      <td>Hessen</td>\n",
       "      <td>1667128104</td>\n",
       "      <td>60710403</td>\n",
       "      <td>3947336</td>\n",
       "    </tr>\n",
       "    <tr>\n",
       "      <th>7</th>\n",
       "      <td>Mecklenburg Vorpommern</td>\n",
       "      <td>1311428753</td>\n",
       "      <td>43426026</td>\n",
       "      <td>2990873</td>\n",
       "    </tr>\n",
       "    <tr>\n",
       "      <th>8</th>\n",
       "      <td>Niedersachsen</td>\n",
       "      <td>1478919155</td>\n",
       "      <td>54727860</td>\n",
       "      <td>3140448</td>\n",
       "    </tr>\n",
       "    <tr>\n",
       "      <th>9</th>\n",
       "      <td>Nordrhein Westfalen</td>\n",
       "      <td>1561050893</td>\n",
       "      <td>57019591</td>\n",
       "      <td>3099069</td>\n",
       "    </tr>\n",
       "    <tr>\n",
       "      <th>10</th>\n",
       "      <td>Rheinland Pfalz</td>\n",
       "      <td>1670841667</td>\n",
       "      <td>58820424</td>\n",
       "      <td>3473060</td>\n",
       "    </tr>\n",
       "    <tr>\n",
       "      <th>11</th>\n",
       "      <td>Saarland</td>\n",
       "      <td>1291900116</td>\n",
       "      <td>46946919</td>\n",
       "      <td>2645943</td>\n",
       "    </tr>\n",
       "    <tr>\n",
       "      <th>12</th>\n",
       "      <td>Sachsen</td>\n",
       "      <td>1544022118</td>\n",
       "      <td>50669975</td>\n",
       "      <td>3329905</td>\n",
       "    </tr>\n",
       "    <tr>\n",
       "      <th>13</th>\n",
       "      <td>Sachsen Anhalt</td>\n",
       "      <td>1493492806</td>\n",
       "      <td>53957206</td>\n",
       "      <td>3747385</td>\n",
       "    </tr>\n",
       "    <tr>\n",
       "      <th>14</th>\n",
       "      <td>Schleswig Holstein</td>\n",
       "      <td>1621959004</td>\n",
       "      <td>58998166</td>\n",
       "      <td>4752794</td>\n",
       "    </tr>\n",
       "    <tr>\n",
       "      <th>15</th>\n",
       "      <td>Thuringen</td>\n",
       "      <td>1699481366</td>\n",
       "      <td>59744290</td>\n",
       "      <td>5008621</td>\n",
       "    </tr>\n",
       "  </tbody>\n",
       "</table>\n",
       "</div>"
      ],
      "text/plain": [
       "                     state       views     likes  dislikes\n",
       "0        Baden Wurttemberg  1542170061  53931077   2926202\n",
       "1                   Bayern  1456116037  56423025   2951726\n",
       "2                   Berlin  1535553735  60643112   3329344\n",
       "3              Brandenburg  1416616819  48026373   3110493\n",
       "4                   Bremen  1556155587  61946034   3852057\n",
       "5                  Hamburg  1783037888  66904878   4738712\n",
       "6                   Hessen  1667128104  60710403   3947336\n",
       "7   Mecklenburg Vorpommern  1311428753  43426026   2990873\n",
       "8            Niedersachsen  1478919155  54727860   3140448\n",
       "9      Nordrhein Westfalen  1561050893  57019591   3099069\n",
       "10         Rheinland Pfalz  1670841667  58820424   3473060\n",
       "11                Saarland  1291900116  46946919   2645943\n",
       "12                 Sachsen  1544022118  50669975   3329905\n",
       "13          Sachsen Anhalt  1493492806  53957206   3747385\n",
       "14      Schleswig Holstein  1621959004  58998166   4752794\n",
       "15               Thuringen  1699481366  59744290   5008621"
      ]
     },
     "execution_count": 46,
     "metadata": {},
     "output_type": "execute_result"
    }
   ],
   "source": [
    "data_state"
   ]
  },
  {
   "cell_type": "code",
   "execution_count": null,
   "id": "4cd0b7a9",
   "metadata": {},
   "outputs": [],
   "source": []
  }
 ],
 "metadata": {
  "kernelspec": {
   "display_name": "Python 3 (ipykernel)",
   "language": "python",
   "name": "python3"
  },
  "language_info": {
   "codemirror_mode": {
    "name": "ipython",
    "version": 3
   },
   "file_extension": ".py",
   "mimetype": "text/x-python",
   "name": "python",
   "nbconvert_exporter": "python",
   "pygments_lexer": "ipython3",
   "version": "3.8.12"
  }
 },
 "nbformat": 4,
 "nbformat_minor": 5
}
