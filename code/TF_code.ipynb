{
 "cells": [
  {
   "cell_type": "markdown",
   "id": "592ca965",
   "metadata": {},
   "source": [
    "# Import de librerías"
   ]
  },
  {
   "cell_type": "code",
   "execution_count": 32,
   "id": "414c490a",
   "metadata": {},
   "outputs": [
    {
     "data": {
      "text/html": [
       "        <script type=\"text/javascript\">\n",
       "        window.PlotlyConfig = {MathJaxConfig: 'local'};\n",
       "        if (window.MathJax) {MathJax.Hub.Config({SVG: {font: \"STIX-Web\"}});}\n",
       "        if (typeof require !== 'undefined') {\n",
       "        require.undef(\"plotly\");\n",
       "        requirejs.config({\n",
       "            paths: {\n",
       "                'plotly': ['https://cdn.plot.ly/plotly-2.4.2.min']\n",
       "            }\n",
       "        });\n",
       "        require(['plotly'], function(Plotly) {\n",
       "            window._Plotly = Plotly;\n",
       "        });\n",
       "        }\n",
       "        </script>\n",
       "        "
      ]
     },
     "metadata": {},
     "output_type": "display_data"
    }
   ],
   "source": [
    "import pandas as pd\n",
    "import numpy as np\n",
    "import json\n",
    "import random\n",
    "import seaborn as sns\n",
    "import matplotlib.pyplot as plt\n",
    "import plotly.graph_objs as go \n",
    "from plotly.offline import init_notebook_mode,iplot\n",
    "init_notebook_mode(connected=True) \n",
    "%matplotlib inline"
   ]
  },
  {
   "cell_type": "markdown",
   "id": "4ac13de0",
   "metadata": {},
   "source": [
    "**Lectura del data set de videos**"
   ]
  },
  {
   "cell_type": "code",
   "execution_count": 33,
   "id": "11b14e60",
   "metadata": {},
   "outputs": [],
   "source": [
    "data = pd.read_csv(\"../data/DEvideos_cc50_202101.csv\")"
   ]
  },
  {
   "cell_type": "markdown",
   "id": "ad0cbdd1",
   "metadata": {},
   "source": [
    "**Muestra de las 10 primeras filas del dataset**"
   ]
  },
  {
   "cell_type": "code",
   "execution_count": 34,
   "id": "fff0f2f9",
   "metadata": {
    "scrolled": false
   },
   "outputs": [
    {
     "data": {
      "text/html": [
       "<div>\n",
       "<style scoped>\n",
       "    .dataframe tbody tr th:only-of-type {\n",
       "        vertical-align: middle;\n",
       "    }\n",
       "\n",
       "    .dataframe tbody tr th {\n",
       "        vertical-align: top;\n",
       "    }\n",
       "\n",
       "    .dataframe thead th {\n",
       "        text-align: right;\n",
       "    }\n",
       "</style>\n",
       "<table border=\"1\" class=\"dataframe\">\n",
       "  <thead>\n",
       "    <tr style=\"text-align: right;\">\n",
       "      <th></th>\n",
       "      <th>video_id</th>\n",
       "      <th>trending_date</th>\n",
       "      <th>title</th>\n",
       "      <th>channel_title</th>\n",
       "      <th>category_id</th>\n",
       "      <th>publish_time</th>\n",
       "      <th>tags</th>\n",
       "      <th>views</th>\n",
       "      <th>likes</th>\n",
       "      <th>dislikes</th>\n",
       "      <th>comment_count</th>\n",
       "      <th>thumbnail_link</th>\n",
       "      <th>comments_disabled</th>\n",
       "      <th>ratings_disabled</th>\n",
       "      <th>video_error_or_removed</th>\n",
       "      <th>description</th>\n",
       "      <th>state</th>\n",
       "      <th>lat</th>\n",
       "      <th>lon</th>\n",
       "      <th>geometry</th>\n",
       "    </tr>\n",
       "  </thead>\n",
       "  <tbody>\n",
       "    <tr>\n",
       "      <th>0</th>\n",
       "      <td>LgVi6y5QIjM</td>\n",
       "      <td>17.14.11</td>\n",
       "      <td>Sing zu Ende! | Gesangseinlagen vom Feinsten |...</td>\n",
       "      <td>inscope21</td>\n",
       "      <td>24</td>\n",
       "      <td>2017-11-13T17:08:49.000Z</td>\n",
       "      <td>inscope21|\"sing zu ende\"|\"gesangseinlagen\"|\"ge...</td>\n",
       "      <td>252786</td>\n",
       "      <td>35885</td>\n",
       "      <td>230</td>\n",
       "      <td>1539</td>\n",
       "      <td>https://i.ytimg.com/vi/LgVi6y5QIjM/default.jpg</td>\n",
       "      <td>False</td>\n",
       "      <td>False</td>\n",
       "      <td>False</td>\n",
       "      <td>Heute gibt es mal wieder ein neues Format... w...</td>\n",
       "      <td>Schleswig Holstein</td>\n",
       "      <td>54.783748</td>\n",
       "      <td>9.433315</td>\n",
       "      <td>POINT (9.433315388 54.78374778)</td>\n",
       "    </tr>\n",
       "    <tr>\n",
       "      <th>1</th>\n",
       "      <td>Bayt7uQith4</td>\n",
       "      <td>17.14.11</td>\n",
       "      <td>Kinder ferngesteuert im Kiosk! Erwachsene abzo...</td>\n",
       "      <td>LUKE! Die Woche und ich</td>\n",
       "      <td>23</td>\n",
       "      <td>2017-11-12T22:30:01.000Z</td>\n",
       "      <td>Kinder|\"ferngesteuert\"|\"Kinder ferngesteuert\"|...</td>\n",
       "      <td>797196</td>\n",
       "      <td>53576</td>\n",
       "      <td>302</td>\n",
       "      <td>1278</td>\n",
       "      <td>https://i.ytimg.com/vi/Bayt7uQith4/default.jpg</td>\n",
       "      <td>False</td>\n",
       "      <td>False</td>\n",
       "      <td>False</td>\n",
       "      <td>Kinder ferngesteuert! Kinder lassen sich sooo ...</td>\n",
       "      <td>Nordrhein Westfalen</td>\n",
       "      <td>52.029988</td>\n",
       "      <td>8.530011</td>\n",
       "      <td>POINT (8.530011351000001 52.02998822)</td>\n",
       "    </tr>\n",
       "    <tr>\n",
       "      <th>2</th>\n",
       "      <td>1ZAPwfrtAFY</td>\n",
       "      <td>17.14.11</td>\n",
       "      <td>The Trump Presidency: Last Week Tonight with J...</td>\n",
       "      <td>LastWeekTonight</td>\n",
       "      <td>24</td>\n",
       "      <td>2017-11-13T07:30:00.000Z</td>\n",
       "      <td>last week tonight trump presidency|\"last week ...</td>\n",
       "      <td>2418783</td>\n",
       "      <td>97190</td>\n",
       "      <td>6146</td>\n",
       "      <td>12703</td>\n",
       "      <td>https://i.ytimg.com/vi/1ZAPwfrtAFY/default.jpg</td>\n",
       "      <td>False</td>\n",
       "      <td>False</td>\n",
       "      <td>False</td>\n",
       "      <td>One year after the presidential election, John...</td>\n",
       "      <td>Saarland</td>\n",
       "      <td>49.250390</td>\n",
       "      <td>6.970003</td>\n",
       "      <td>POINT (6.970003213 49.25039044)</td>\n",
       "    </tr>\n",
       "    <tr>\n",
       "      <th>3</th>\n",
       "      <td>AHtypnRk7JE</td>\n",
       "      <td>17.14.11</td>\n",
       "      <td>Das Fermi-Paradoxon</td>\n",
       "      <td>100SekundenPhysik</td>\n",
       "      <td>27</td>\n",
       "      <td>2017-11-12T15:00:01.000Z</td>\n",
       "      <td>Physik|\"Wissenschaft\"|\"Technik\"|\"Science-Ficti...</td>\n",
       "      <td>380247</td>\n",
       "      <td>31821</td>\n",
       "      <td>458</td>\n",
       "      <td>1955</td>\n",
       "      <td>https://i.ytimg.com/vi/AHtypnRk7JE/default.jpg</td>\n",
       "      <td>False</td>\n",
       "      <td>False</td>\n",
       "      <td>False</td>\n",
       "      <td>►Alle Videos: http://bit.ly/1fa7Tw3\\n\\n\\n✚Snap...</td>\n",
       "      <td>Bayern</td>\n",
       "      <td>50.266607</td>\n",
       "      <td>10.966607</td>\n",
       "      <td>POINT (10.96660681 50.26660748)</td>\n",
       "    </tr>\n",
       "    <tr>\n",
       "      <th>4</th>\n",
       "      <td>ZJ9We4bjcg0</td>\n",
       "      <td>17.14.11</td>\n",
       "      <td>18 SONGS mit Kelly MissesVlog (Sing-off)</td>\n",
       "      <td>rezo</td>\n",
       "      <td>24</td>\n",
       "      <td>2017-11-12T13:10:36.000Z</td>\n",
       "      <td>kelly|\"missesvlog\"|\"kelly song\"|\"bausa\"|\"bausa...</td>\n",
       "      <td>822213</td>\n",
       "      <td>100684</td>\n",
       "      <td>2467</td>\n",
       "      <td>10244</td>\n",
       "      <td>https://i.ytimg.com/vi/ZJ9We4bjcg0/default.jpg</td>\n",
       "      <td>False</td>\n",
       "      <td>False</td>\n",
       "      <td>False</td>\n",
       "      <td>18 Song Mashup über den (veränderten) Beat von...</td>\n",
       "      <td>Berlin</td>\n",
       "      <td>52.521819</td>\n",
       "      <td>13.401549</td>\n",
       "      <td>POINT (13.40154862 52.52181866)</td>\n",
       "    </tr>\n",
       "    <tr>\n",
       "      <th>5</th>\n",
       "      <td>xapGFgWqtg4</td>\n",
       "      <td>17.14.11</td>\n",
       "      <td>Geld verdienen mit Online-Umfragen? Geht das w...</td>\n",
       "      <td>Die Allestester</td>\n",
       "      <td>22</td>\n",
       "      <td>2017-11-13T01:49:24.000Z</td>\n",
       "      <td>[none]</td>\n",
       "      <td>32709</td>\n",
       "      <td>3093</td>\n",
       "      <td>296</td>\n",
       "      <td>63</td>\n",
       "      <td>https://i.ytimg.com/vi/xapGFgWqtg4/default.jpg</td>\n",
       "      <td>False</td>\n",
       "      <td>False</td>\n",
       "      <td>False</td>\n",
       "      <td>Wir haben Meinungsstudie.de (► http://bit.ly/2...</td>\n",
       "      <td>Hessen</td>\n",
       "      <td>51.300007</td>\n",
       "      <td>9.500030</td>\n",
       "      <td>POINT (9.500029661999999 51.30000694)</td>\n",
       "    </tr>\n",
       "    <tr>\n",
       "      <th>6</th>\n",
       "      <td>EIM7RMe39JY</td>\n",
       "      <td>17.14.11</td>\n",
       "      <td>Kanaken auf der Klassenfahrt</td>\n",
       "      <td>Bodyformus</td>\n",
       "      <td>23</td>\n",
       "      <td>2017-11-13T11:59:04.000Z</td>\n",
       "      <td>kanaken|\"kurden\"|\"türken\"|\"schule\"|\"schulzeit\"...</td>\n",
       "      <td>308683</td>\n",
       "      <td>35704</td>\n",
       "      <td>578</td>\n",
       "      <td>1398</td>\n",
       "      <td>https://i.ytimg.com/vi/EIM7RMe39JY/default.jpg</td>\n",
       "      <td>False</td>\n",
       "      <td>False</td>\n",
       "      <td>False</td>\n",
       "      <td>Video mit Planet Kanax: https://youtu.be/3U51c...</td>\n",
       "      <td>Rheinland Pfalz</td>\n",
       "      <td>49.982472</td>\n",
       "      <td>8.273219</td>\n",
       "      <td>POINT (8.273219156 49.98247246)</td>\n",
       "    </tr>\n",
       "    <tr>\n",
       "      <th>7</th>\n",
       "      <td>PaWTaj6Iie0</td>\n",
       "      <td>17.14.11</td>\n",
       "      <td>3 unbekannte Gesichter von Film/Serien-Charakt...</td>\n",
       "      <td>Jay &amp; Arya</td>\n",
       "      <td>22</td>\n",
       "      <td>2017-11-13T18:09:55.000Z</td>\n",
       "      <td>unbekannte gesichte charakter|\"unbekannte gesi...</td>\n",
       "      <td>181660</td>\n",
       "      <td>17998</td>\n",
       "      <td>169</td>\n",
       "      <td>554</td>\n",
       "      <td>https://i.ytimg.com/vi/PaWTaj6Iie0/default.jpg</td>\n",
       "      <td>False</td>\n",
       "      <td>False</td>\n",
       "      <td>False</td>\n",
       "      <td>4 unbekannte Gesichter animierter Charaktere (...</td>\n",
       "      <td>Nordrhein Westfalen</td>\n",
       "      <td>52.029988</td>\n",
       "      <td>8.530011</td>\n",
       "      <td>POINT (8.530011351000001 52.02998822)</td>\n",
       "    </tr>\n",
       "    <tr>\n",
       "      <th>8</th>\n",
       "      <td>GHct2dGNLks</td>\n",
       "      <td>17.14.11</td>\n",
       "      <td>Antoine leiht Auto von Ernährungsberaterin</td>\n",
       "      <td>TeddyComedy</td>\n",
       "      <td>23</td>\n",
       "      <td>2017-11-12T11:53:45.000Z</td>\n",
       "      <td>Antoine Auto|\"Antoine Boot Camp\"|\"Antoine Ernä...</td>\n",
       "      <td>369173</td>\n",
       "      <td>16953</td>\n",
       "      <td>570</td>\n",
       "      <td>611</td>\n",
       "      <td>https://i.ytimg.com/vi/GHct2dGNLks/default.jpg</td>\n",
       "      <td>False</td>\n",
       "      <td>False</td>\n",
       "      <td>False</td>\n",
       "      <td>Antoine hat sich ein Auto ausgeliehen..schaut ...</td>\n",
       "      <td>Thuringen</td>\n",
       "      <td>50.970053</td>\n",
       "      <td>11.029962</td>\n",
       "      <td>POINT (11.02996212 50.97005292)</td>\n",
       "    </tr>\n",
       "    <tr>\n",
       "      <th>9</th>\n",
       "      <td>aZYSFByDGkg</td>\n",
       "      <td>17.14.11</td>\n",
       "      <td>Legenden: So wird dein Ruhm unsterblich - Fame...</td>\n",
       "      <td>WALULIS</td>\n",
       "      <td>1</td>\n",
       "      <td>2017-11-13T15:06:12.000Z</td>\n",
       "      <td>michael jackson|\"promi\"|\"tot\"|\"tod\"|\"gestorben...</td>\n",
       "      <td>62418</td>\n",
       "      <td>4749</td>\n",
       "      <td>44</td>\n",
       "      <td>425</td>\n",
       "      <td>https://i.ytimg.com/vi/aZYSFByDGkg/default.jpg</td>\n",
       "      <td>False</td>\n",
       "      <td>False</td>\n",
       "      <td>False</td>\n",
       "      <td>Berühmt werden kann jeder, aber berühmt bleibe...</td>\n",
       "      <td>Thuringen</td>\n",
       "      <td>50.970053</td>\n",
       "      <td>11.029962</td>\n",
       "      <td>POINT (11.02996212 50.97005292)</td>\n",
       "    </tr>\n",
       "  </tbody>\n",
       "</table>\n",
       "</div>"
      ],
      "text/plain": [
       "      video_id trending_date  \\\n",
       "0  LgVi6y5QIjM      17.14.11   \n",
       "1  Bayt7uQith4      17.14.11   \n",
       "2  1ZAPwfrtAFY      17.14.11   \n",
       "3  AHtypnRk7JE      17.14.11   \n",
       "4  ZJ9We4bjcg0      17.14.11   \n",
       "5  xapGFgWqtg4      17.14.11   \n",
       "6  EIM7RMe39JY      17.14.11   \n",
       "7  PaWTaj6Iie0      17.14.11   \n",
       "8  GHct2dGNLks      17.14.11   \n",
       "9  aZYSFByDGkg      17.14.11   \n",
       "\n",
       "                                               title            channel_title  \\\n",
       "0  Sing zu Ende! | Gesangseinlagen vom Feinsten |...                inscope21   \n",
       "1  Kinder ferngesteuert im Kiosk! Erwachsene abzo...  LUKE! Die Woche und ich   \n",
       "2  The Trump Presidency: Last Week Tonight with J...          LastWeekTonight   \n",
       "3                                Das Fermi-Paradoxon        100SekundenPhysik   \n",
       "4           18 SONGS mit Kelly MissesVlog (Sing-off)                     rezo   \n",
       "5  Geld verdienen mit Online-Umfragen? Geht das w...          Die Allestester   \n",
       "6                       Kanaken auf der Klassenfahrt               Bodyformus   \n",
       "7  3 unbekannte Gesichter von Film/Serien-Charakt...               Jay & Arya   \n",
       "8         Antoine leiht Auto von Ernährungsberaterin              TeddyComedy   \n",
       "9  Legenden: So wird dein Ruhm unsterblich - Fame...                  WALULIS   \n",
       "\n",
       "   category_id              publish_time  \\\n",
       "0           24  2017-11-13T17:08:49.000Z   \n",
       "1           23  2017-11-12T22:30:01.000Z   \n",
       "2           24  2017-11-13T07:30:00.000Z   \n",
       "3           27  2017-11-12T15:00:01.000Z   \n",
       "4           24  2017-11-12T13:10:36.000Z   \n",
       "5           22  2017-11-13T01:49:24.000Z   \n",
       "6           23  2017-11-13T11:59:04.000Z   \n",
       "7           22  2017-11-13T18:09:55.000Z   \n",
       "8           23  2017-11-12T11:53:45.000Z   \n",
       "9            1  2017-11-13T15:06:12.000Z   \n",
       "\n",
       "                                                tags    views   likes  \\\n",
       "0  inscope21|\"sing zu ende\"|\"gesangseinlagen\"|\"ge...   252786   35885   \n",
       "1  Kinder|\"ferngesteuert\"|\"Kinder ferngesteuert\"|...   797196   53576   \n",
       "2  last week tonight trump presidency|\"last week ...  2418783   97190   \n",
       "3  Physik|\"Wissenschaft\"|\"Technik\"|\"Science-Ficti...   380247   31821   \n",
       "4  kelly|\"missesvlog\"|\"kelly song\"|\"bausa\"|\"bausa...   822213  100684   \n",
       "5                                             [none]    32709    3093   \n",
       "6  kanaken|\"kurden\"|\"türken\"|\"schule\"|\"schulzeit\"...   308683   35704   \n",
       "7  unbekannte gesichte charakter|\"unbekannte gesi...   181660   17998   \n",
       "8  Antoine Auto|\"Antoine Boot Camp\"|\"Antoine Ernä...   369173   16953   \n",
       "9  michael jackson|\"promi\"|\"tot\"|\"tod\"|\"gestorben...    62418    4749   \n",
       "\n",
       "   dislikes  comment_count                                  thumbnail_link  \\\n",
       "0       230           1539  https://i.ytimg.com/vi/LgVi6y5QIjM/default.jpg   \n",
       "1       302           1278  https://i.ytimg.com/vi/Bayt7uQith4/default.jpg   \n",
       "2      6146          12703  https://i.ytimg.com/vi/1ZAPwfrtAFY/default.jpg   \n",
       "3       458           1955  https://i.ytimg.com/vi/AHtypnRk7JE/default.jpg   \n",
       "4      2467          10244  https://i.ytimg.com/vi/ZJ9We4bjcg0/default.jpg   \n",
       "5       296             63  https://i.ytimg.com/vi/xapGFgWqtg4/default.jpg   \n",
       "6       578           1398  https://i.ytimg.com/vi/EIM7RMe39JY/default.jpg   \n",
       "7       169            554  https://i.ytimg.com/vi/PaWTaj6Iie0/default.jpg   \n",
       "8       570            611  https://i.ytimg.com/vi/GHct2dGNLks/default.jpg   \n",
       "9        44            425  https://i.ytimg.com/vi/aZYSFByDGkg/default.jpg   \n",
       "\n",
       "   comments_disabled  ratings_disabled  video_error_or_removed  \\\n",
       "0              False             False                   False   \n",
       "1              False             False                   False   \n",
       "2              False             False                   False   \n",
       "3              False             False                   False   \n",
       "4              False             False                   False   \n",
       "5              False             False                   False   \n",
       "6              False             False                   False   \n",
       "7              False             False                   False   \n",
       "8              False             False                   False   \n",
       "9              False             False                   False   \n",
       "\n",
       "                                         description                state  \\\n",
       "0  Heute gibt es mal wieder ein neues Format... w...   Schleswig Holstein   \n",
       "1  Kinder ferngesteuert! Kinder lassen sich sooo ...  Nordrhein Westfalen   \n",
       "2  One year after the presidential election, John...             Saarland   \n",
       "3  ►Alle Videos: http://bit.ly/1fa7Tw3\\n\\n\\n✚Snap...               Bayern   \n",
       "4  18 Song Mashup über den (veränderten) Beat von...               Berlin   \n",
       "5  Wir haben Meinungsstudie.de (► http://bit.ly/2...               Hessen   \n",
       "6  Video mit Planet Kanax: https://youtu.be/3U51c...      Rheinland Pfalz   \n",
       "7  4 unbekannte Gesichter animierter Charaktere (...  Nordrhein Westfalen   \n",
       "8  Antoine hat sich ein Auto ausgeliehen..schaut ...            Thuringen   \n",
       "9  Berühmt werden kann jeder, aber berühmt bleibe...            Thuringen   \n",
       "\n",
       "         lat        lon                               geometry  \n",
       "0  54.783748   9.433315        POINT (9.433315388 54.78374778)  \n",
       "1  52.029988   8.530011  POINT (8.530011351000001 52.02998822)  \n",
       "2  49.250390   6.970003        POINT (6.970003213 49.25039044)  \n",
       "3  50.266607  10.966607        POINT (10.96660681 50.26660748)  \n",
       "4  52.521819  13.401549        POINT (13.40154862 52.52181866)  \n",
       "5  51.300007   9.500030  POINT (9.500029661999999 51.30000694)  \n",
       "6  49.982472   8.273219        POINT (8.273219156 49.98247246)  \n",
       "7  52.029988   8.530011  POINT (8.530011351000001 52.02998822)  \n",
       "8  50.970053  11.029962        POINT (11.02996212 50.97005292)  \n",
       "9  50.970053  11.029962        POINT (11.02996212 50.97005292)  "
      ]
     },
     "execution_count": 34,
     "metadata": {},
     "output_type": "execute_result"
    }
   ],
   "source": [
    "data.head(10)"
   ]
  },
  {
   "cell_type": "markdown",
   "id": "0b4ddded",
   "metadata": {},
   "source": [
    "**Muestra de la info del dataset**"
   ]
  },
  {
   "cell_type": "code",
   "execution_count": 35,
   "id": "3c3d5d88",
   "metadata": {},
   "outputs": [
    {
     "name": "stdout",
     "output_type": "stream",
     "text": [
      "<class 'pandas.core.frame.DataFrame'>\n",
      "RangeIndex: 40840 entries, 0 to 40839\n",
      "Data columns (total 20 columns):\n",
      "video_id                  40840 non-null object\n",
      "trending_date             40840 non-null object\n",
      "title                     40840 non-null object\n",
      "channel_title             40840 non-null object\n",
      "category_id               40840 non-null int64\n",
      "publish_time              40840 non-null object\n",
      "tags                      40840 non-null object\n",
      "views                     40840 non-null int64\n",
      "likes                     40840 non-null int64\n",
      "dislikes                  40840 non-null int64\n",
      "comment_count             40840 non-null int64\n",
      "thumbnail_link            40840 non-null object\n",
      "comments_disabled         40840 non-null bool\n",
      "ratings_disabled          40840 non-null bool\n",
      "video_error_or_removed    40840 non-null bool\n",
      "description               39288 non-null object\n",
      "state                     40840 non-null object\n",
      "lat                       40840 non-null float64\n",
      "lon                       40840 non-null float64\n",
      "geometry                  40840 non-null object\n",
      "dtypes: bool(3), float64(2), int64(5), object(10)\n",
      "memory usage: 5.4+ MB\n"
     ]
    }
   ],
   "source": [
    "data.info()"
   ]
  },
  {
   "cell_type": "markdown",
   "id": "7afa9e76",
   "metadata": {},
   "source": [
    "**Contador de la cantidad de valores NAN en el dataset**"
   ]
  },
  {
   "cell_type": "code",
   "execution_count": 36,
   "id": "a648778b",
   "metadata": {},
   "outputs": [
    {
     "data": {
      "text/plain": [
       "video_id                     0\n",
       "trending_date                0\n",
       "title                        0\n",
       "channel_title                0\n",
       "category_id                  0\n",
       "publish_time                 0\n",
       "tags                         0\n",
       "views                        0\n",
       "likes                        0\n",
       "dislikes                     0\n",
       "comment_count                0\n",
       "thumbnail_link               0\n",
       "comments_disabled            0\n",
       "ratings_disabled             0\n",
       "video_error_or_removed       0\n",
       "description               1552\n",
       "state                        0\n",
       "lat                          0\n",
       "lon                          0\n",
       "geometry                     0\n",
       "dtype: int64"
      ]
     },
     "execution_count": 36,
     "metadata": {},
     "output_type": "execute_result"
    }
   ],
   "source": [
    "data.isna().sum()"
   ]
  },
  {
   "cell_type": "markdown",
   "id": "e78e85b0",
   "metadata": {},
   "source": [
    "**Contador de la cantidad de valores NULL en el dataset**"
   ]
  },
  {
   "cell_type": "code",
   "execution_count": 37,
   "id": "244d0ac4",
   "metadata": {},
   "outputs": [
    {
     "data": {
      "text/plain": [
       "video_id                     0\n",
       "trending_date                0\n",
       "title                        0\n",
       "channel_title                0\n",
       "category_id                  0\n",
       "publish_time                 0\n",
       "tags                         0\n",
       "views                        0\n",
       "likes                        0\n",
       "dislikes                     0\n",
       "comment_count                0\n",
       "thumbnail_link               0\n",
       "comments_disabled            0\n",
       "ratings_disabled             0\n",
       "video_error_or_removed       0\n",
       "description               1552\n",
       "state                        0\n",
       "lat                          0\n",
       "lon                          0\n",
       "geometry                     0\n",
       "dtype: int64"
      ]
     },
     "execution_count": 37,
     "metadata": {},
     "output_type": "execute_result"
    }
   ],
   "source": [
    "data.isnull().sum()"
   ]
  },
  {
   "cell_type": "markdown",
   "id": "070d3008",
   "metadata": {},
   "source": [
    "**Eliminación de las filas cuyos video hayan presentando un error o hayan sido eliminados**"
   ]
  },
  {
   "cell_type": "code",
   "execution_count": 38,
   "id": "414a631b",
   "metadata": {},
   "outputs": [],
   "source": [
    "data = data.drop(data[data[\"video_error_or_removed\"] == True].index)"
   ]
  },
  {
   "cell_type": "markdown",
   "id": "9c4ce07a",
   "metadata": {},
   "source": [
    "**Determinar si existen datos repetidos**"
   ]
  },
  {
   "cell_type": "markdown",
   "id": "9b7676a1",
   "metadata": {},
   "source": [
    "Podemos notar que no existen valores repetidos"
   ]
  },
  {
   "cell_type": "code",
   "execution_count": 39,
   "id": "0c3b923a",
   "metadata": {
    "scrolled": true
   },
   "outputs": [
    {
     "data": {
      "text/plain": [
       "False    40826\n",
       "dtype: int64"
      ]
     },
     "execution_count": 39,
     "metadata": {},
     "output_type": "execute_result"
    }
   ],
   "source": [
    "data.duplicated().value_counts()"
   ]
  },
  {
   "cell_type": "markdown",
   "id": "91910a1a",
   "metadata": {},
   "source": [
    "# Lectura del archivo Json\n",
    "\n",
    "**Lectura de los nombres de las categorías por \"id\" y creación de la columna \"category\" en el dataset**"
   ]
  },
  {
   "cell_type": "code",
   "execution_count": 40,
   "id": "ecd0fd40",
   "metadata": {},
   "outputs": [],
   "source": [
    "f = open(\"../data/DE_category_id.json\")\n",
    "\n",
    "dataJson = json.load(f)\n",
    "\n",
    "d = {}\n",
    "for i in dataJson[\"items\"]:\n",
    "    d[int(i[\"id\"])] = i[\"snippet\"][\"title\"]\n",
    "    \n",
    "cate = []\n",
    "for i in range(len(data.index)):\n",
    "    cat_id = data.iloc[i][\"category_id\"]\n",
    "    if cat_id not in list(d):\n",
    "        cat_id = random.sample(list(d), 1)[0]\n",
    "    cate.append(d[cat_id])\n",
    "    \n",
    "data[\"category\"] = cate"
   ]
  },
  {
   "cell_type": "code",
   "execution_count": 41,
   "id": "a57705b3",
   "metadata": {},
   "outputs": [
    {
     "data": {
      "text/html": [
       "<div>\n",
       "<style scoped>\n",
       "    .dataframe tbody tr th:only-of-type {\n",
       "        vertical-align: middle;\n",
       "    }\n",
       "\n",
       "    .dataframe tbody tr th {\n",
       "        vertical-align: top;\n",
       "    }\n",
       "\n",
       "    .dataframe thead th {\n",
       "        text-align: right;\n",
       "    }\n",
       "</style>\n",
       "<table border=\"1\" class=\"dataframe\">\n",
       "  <thead>\n",
       "    <tr style=\"text-align: right;\">\n",
       "      <th></th>\n",
       "      <th>video_id</th>\n",
       "      <th>trending_date</th>\n",
       "      <th>title</th>\n",
       "      <th>channel_title</th>\n",
       "      <th>category_id</th>\n",
       "      <th>publish_time</th>\n",
       "      <th>tags</th>\n",
       "      <th>views</th>\n",
       "      <th>likes</th>\n",
       "      <th>dislikes</th>\n",
       "      <th>...</th>\n",
       "      <th>thumbnail_link</th>\n",
       "      <th>comments_disabled</th>\n",
       "      <th>ratings_disabled</th>\n",
       "      <th>video_error_or_removed</th>\n",
       "      <th>description</th>\n",
       "      <th>state</th>\n",
       "      <th>lat</th>\n",
       "      <th>lon</th>\n",
       "      <th>geometry</th>\n",
       "      <th>category</th>\n",
       "    </tr>\n",
       "  </thead>\n",
       "  <tbody>\n",
       "    <tr>\n",
       "      <th>0</th>\n",
       "      <td>LgVi6y5QIjM</td>\n",
       "      <td>17.14.11</td>\n",
       "      <td>Sing zu Ende! | Gesangseinlagen vom Feinsten |...</td>\n",
       "      <td>inscope21</td>\n",
       "      <td>24</td>\n",
       "      <td>2017-11-13T17:08:49.000Z</td>\n",
       "      <td>inscope21|\"sing zu ende\"|\"gesangseinlagen\"|\"ge...</td>\n",
       "      <td>252786</td>\n",
       "      <td>35885</td>\n",
       "      <td>230</td>\n",
       "      <td>...</td>\n",
       "      <td>https://i.ytimg.com/vi/LgVi6y5QIjM/default.jpg</td>\n",
       "      <td>False</td>\n",
       "      <td>False</td>\n",
       "      <td>False</td>\n",
       "      <td>Heute gibt es mal wieder ein neues Format... w...</td>\n",
       "      <td>Schleswig Holstein</td>\n",
       "      <td>54.783748</td>\n",
       "      <td>9.433315</td>\n",
       "      <td>POINT (9.433315388 54.78374778)</td>\n",
       "      <td>Entertainment</td>\n",
       "    </tr>\n",
       "    <tr>\n",
       "      <th>1</th>\n",
       "      <td>Bayt7uQith4</td>\n",
       "      <td>17.14.11</td>\n",
       "      <td>Kinder ferngesteuert im Kiosk! Erwachsene abzo...</td>\n",
       "      <td>LUKE! Die Woche und ich</td>\n",
       "      <td>23</td>\n",
       "      <td>2017-11-12T22:30:01.000Z</td>\n",
       "      <td>Kinder|\"ferngesteuert\"|\"Kinder ferngesteuert\"|...</td>\n",
       "      <td>797196</td>\n",
       "      <td>53576</td>\n",
       "      <td>302</td>\n",
       "      <td>...</td>\n",
       "      <td>https://i.ytimg.com/vi/Bayt7uQith4/default.jpg</td>\n",
       "      <td>False</td>\n",
       "      <td>False</td>\n",
       "      <td>False</td>\n",
       "      <td>Kinder ferngesteuert! Kinder lassen sich sooo ...</td>\n",
       "      <td>Nordrhein Westfalen</td>\n",
       "      <td>52.029988</td>\n",
       "      <td>8.530011</td>\n",
       "      <td>POINT (8.530011351000001 52.02998822)</td>\n",
       "      <td>Comedy</td>\n",
       "    </tr>\n",
       "    <tr>\n",
       "      <th>2</th>\n",
       "      <td>1ZAPwfrtAFY</td>\n",
       "      <td>17.14.11</td>\n",
       "      <td>The Trump Presidency: Last Week Tonight with J...</td>\n",
       "      <td>LastWeekTonight</td>\n",
       "      <td>24</td>\n",
       "      <td>2017-11-13T07:30:00.000Z</td>\n",
       "      <td>last week tonight trump presidency|\"last week ...</td>\n",
       "      <td>2418783</td>\n",
       "      <td>97190</td>\n",
       "      <td>6146</td>\n",
       "      <td>...</td>\n",
       "      <td>https://i.ytimg.com/vi/1ZAPwfrtAFY/default.jpg</td>\n",
       "      <td>False</td>\n",
       "      <td>False</td>\n",
       "      <td>False</td>\n",
       "      <td>One year after the presidential election, John...</td>\n",
       "      <td>Saarland</td>\n",
       "      <td>49.250390</td>\n",
       "      <td>6.970003</td>\n",
       "      <td>POINT (6.970003213 49.25039044)</td>\n",
       "      <td>Entertainment</td>\n",
       "    </tr>\n",
       "    <tr>\n",
       "      <th>3</th>\n",
       "      <td>AHtypnRk7JE</td>\n",
       "      <td>17.14.11</td>\n",
       "      <td>Das Fermi-Paradoxon</td>\n",
       "      <td>100SekundenPhysik</td>\n",
       "      <td>27</td>\n",
       "      <td>2017-11-12T15:00:01.000Z</td>\n",
       "      <td>Physik|\"Wissenschaft\"|\"Technik\"|\"Science-Ficti...</td>\n",
       "      <td>380247</td>\n",
       "      <td>31821</td>\n",
       "      <td>458</td>\n",
       "      <td>...</td>\n",
       "      <td>https://i.ytimg.com/vi/AHtypnRk7JE/default.jpg</td>\n",
       "      <td>False</td>\n",
       "      <td>False</td>\n",
       "      <td>False</td>\n",
       "      <td>►Alle Videos: http://bit.ly/1fa7Tw3\\n\\n\\n✚Snap...</td>\n",
       "      <td>Bayern</td>\n",
       "      <td>50.266607</td>\n",
       "      <td>10.966607</td>\n",
       "      <td>POINT (10.96660681 50.26660748)</td>\n",
       "      <td>Education</td>\n",
       "    </tr>\n",
       "    <tr>\n",
       "      <th>4</th>\n",
       "      <td>ZJ9We4bjcg0</td>\n",
       "      <td>17.14.11</td>\n",
       "      <td>18 SONGS mit Kelly MissesVlog (Sing-off)</td>\n",
       "      <td>rezo</td>\n",
       "      <td>24</td>\n",
       "      <td>2017-11-12T13:10:36.000Z</td>\n",
       "      <td>kelly|\"missesvlog\"|\"kelly song\"|\"bausa\"|\"bausa...</td>\n",
       "      <td>822213</td>\n",
       "      <td>100684</td>\n",
       "      <td>2467</td>\n",
       "      <td>...</td>\n",
       "      <td>https://i.ytimg.com/vi/ZJ9We4bjcg0/default.jpg</td>\n",
       "      <td>False</td>\n",
       "      <td>False</td>\n",
       "      <td>False</td>\n",
       "      <td>18 Song Mashup über den (veränderten) Beat von...</td>\n",
       "      <td>Berlin</td>\n",
       "      <td>52.521819</td>\n",
       "      <td>13.401549</td>\n",
       "      <td>POINT (13.40154862 52.52181866)</td>\n",
       "      <td>Entertainment</td>\n",
       "    </tr>\n",
       "    <tr>\n",
       "      <th>5</th>\n",
       "      <td>xapGFgWqtg4</td>\n",
       "      <td>17.14.11</td>\n",
       "      <td>Geld verdienen mit Online-Umfragen? Geht das w...</td>\n",
       "      <td>Die Allestester</td>\n",
       "      <td>22</td>\n",
       "      <td>2017-11-13T01:49:24.000Z</td>\n",
       "      <td>[none]</td>\n",
       "      <td>32709</td>\n",
       "      <td>3093</td>\n",
       "      <td>296</td>\n",
       "      <td>...</td>\n",
       "      <td>https://i.ytimg.com/vi/xapGFgWqtg4/default.jpg</td>\n",
       "      <td>False</td>\n",
       "      <td>False</td>\n",
       "      <td>False</td>\n",
       "      <td>Wir haben Meinungsstudie.de (► http://bit.ly/2...</td>\n",
       "      <td>Hessen</td>\n",
       "      <td>51.300007</td>\n",
       "      <td>9.500030</td>\n",
       "      <td>POINT (9.500029661999999 51.30000694)</td>\n",
       "      <td>People &amp; Blogs</td>\n",
       "    </tr>\n",
       "    <tr>\n",
       "      <th>6</th>\n",
       "      <td>EIM7RMe39JY</td>\n",
       "      <td>17.14.11</td>\n",
       "      <td>Kanaken auf der Klassenfahrt</td>\n",
       "      <td>Bodyformus</td>\n",
       "      <td>23</td>\n",
       "      <td>2017-11-13T11:59:04.000Z</td>\n",
       "      <td>kanaken|\"kurden\"|\"türken\"|\"schule\"|\"schulzeit\"...</td>\n",
       "      <td>308683</td>\n",
       "      <td>35704</td>\n",
       "      <td>578</td>\n",
       "      <td>...</td>\n",
       "      <td>https://i.ytimg.com/vi/EIM7RMe39JY/default.jpg</td>\n",
       "      <td>False</td>\n",
       "      <td>False</td>\n",
       "      <td>False</td>\n",
       "      <td>Video mit Planet Kanax: https://youtu.be/3U51c...</td>\n",
       "      <td>Rheinland Pfalz</td>\n",
       "      <td>49.982472</td>\n",
       "      <td>8.273219</td>\n",
       "      <td>POINT (8.273219156 49.98247246)</td>\n",
       "      <td>Comedy</td>\n",
       "    </tr>\n",
       "    <tr>\n",
       "      <th>7</th>\n",
       "      <td>PaWTaj6Iie0</td>\n",
       "      <td>17.14.11</td>\n",
       "      <td>3 unbekannte Gesichter von Film/Serien-Charakt...</td>\n",
       "      <td>Jay &amp; Arya</td>\n",
       "      <td>22</td>\n",
       "      <td>2017-11-13T18:09:55.000Z</td>\n",
       "      <td>unbekannte gesichte charakter|\"unbekannte gesi...</td>\n",
       "      <td>181660</td>\n",
       "      <td>17998</td>\n",
       "      <td>169</td>\n",
       "      <td>...</td>\n",
       "      <td>https://i.ytimg.com/vi/PaWTaj6Iie0/default.jpg</td>\n",
       "      <td>False</td>\n",
       "      <td>False</td>\n",
       "      <td>False</td>\n",
       "      <td>4 unbekannte Gesichter animierter Charaktere (...</td>\n",
       "      <td>Nordrhein Westfalen</td>\n",
       "      <td>52.029988</td>\n",
       "      <td>8.530011</td>\n",
       "      <td>POINT (8.530011351000001 52.02998822)</td>\n",
       "      <td>People &amp; Blogs</td>\n",
       "    </tr>\n",
       "    <tr>\n",
       "      <th>8</th>\n",
       "      <td>GHct2dGNLks</td>\n",
       "      <td>17.14.11</td>\n",
       "      <td>Antoine leiht Auto von Ernährungsberaterin</td>\n",
       "      <td>TeddyComedy</td>\n",
       "      <td>23</td>\n",
       "      <td>2017-11-12T11:53:45.000Z</td>\n",
       "      <td>Antoine Auto|\"Antoine Boot Camp\"|\"Antoine Ernä...</td>\n",
       "      <td>369173</td>\n",
       "      <td>16953</td>\n",
       "      <td>570</td>\n",
       "      <td>...</td>\n",
       "      <td>https://i.ytimg.com/vi/GHct2dGNLks/default.jpg</td>\n",
       "      <td>False</td>\n",
       "      <td>False</td>\n",
       "      <td>False</td>\n",
       "      <td>Antoine hat sich ein Auto ausgeliehen..schaut ...</td>\n",
       "      <td>Thuringen</td>\n",
       "      <td>50.970053</td>\n",
       "      <td>11.029962</td>\n",
       "      <td>POINT (11.02996212 50.97005292)</td>\n",
       "      <td>Comedy</td>\n",
       "    </tr>\n",
       "    <tr>\n",
       "      <th>9</th>\n",
       "      <td>aZYSFByDGkg</td>\n",
       "      <td>17.14.11</td>\n",
       "      <td>Legenden: So wird dein Ruhm unsterblich - Fame...</td>\n",
       "      <td>WALULIS</td>\n",
       "      <td>1</td>\n",
       "      <td>2017-11-13T15:06:12.000Z</td>\n",
       "      <td>michael jackson|\"promi\"|\"tot\"|\"tod\"|\"gestorben...</td>\n",
       "      <td>62418</td>\n",
       "      <td>4749</td>\n",
       "      <td>44</td>\n",
       "      <td>...</td>\n",
       "      <td>https://i.ytimg.com/vi/aZYSFByDGkg/default.jpg</td>\n",
       "      <td>False</td>\n",
       "      <td>False</td>\n",
       "      <td>False</td>\n",
       "      <td>Berühmt werden kann jeder, aber berühmt bleibe...</td>\n",
       "      <td>Thuringen</td>\n",
       "      <td>50.970053</td>\n",
       "      <td>11.029962</td>\n",
       "      <td>POINT (11.02996212 50.97005292)</td>\n",
       "      <td>Film &amp; Animation</td>\n",
       "    </tr>\n",
       "  </tbody>\n",
       "</table>\n",
       "<p>10 rows × 21 columns</p>\n",
       "</div>"
      ],
      "text/plain": [
       "      video_id trending_date  \\\n",
       "0  LgVi6y5QIjM      17.14.11   \n",
       "1  Bayt7uQith4      17.14.11   \n",
       "2  1ZAPwfrtAFY      17.14.11   \n",
       "3  AHtypnRk7JE      17.14.11   \n",
       "4  ZJ9We4bjcg0      17.14.11   \n",
       "5  xapGFgWqtg4      17.14.11   \n",
       "6  EIM7RMe39JY      17.14.11   \n",
       "7  PaWTaj6Iie0      17.14.11   \n",
       "8  GHct2dGNLks      17.14.11   \n",
       "9  aZYSFByDGkg      17.14.11   \n",
       "\n",
       "                                               title            channel_title  \\\n",
       "0  Sing zu Ende! | Gesangseinlagen vom Feinsten |...                inscope21   \n",
       "1  Kinder ferngesteuert im Kiosk! Erwachsene abzo...  LUKE! Die Woche und ich   \n",
       "2  The Trump Presidency: Last Week Tonight with J...          LastWeekTonight   \n",
       "3                                Das Fermi-Paradoxon        100SekundenPhysik   \n",
       "4           18 SONGS mit Kelly MissesVlog (Sing-off)                     rezo   \n",
       "5  Geld verdienen mit Online-Umfragen? Geht das w...          Die Allestester   \n",
       "6                       Kanaken auf der Klassenfahrt               Bodyformus   \n",
       "7  3 unbekannte Gesichter von Film/Serien-Charakt...               Jay & Arya   \n",
       "8         Antoine leiht Auto von Ernährungsberaterin              TeddyComedy   \n",
       "9  Legenden: So wird dein Ruhm unsterblich - Fame...                  WALULIS   \n",
       "\n",
       "   category_id              publish_time  \\\n",
       "0           24  2017-11-13T17:08:49.000Z   \n",
       "1           23  2017-11-12T22:30:01.000Z   \n",
       "2           24  2017-11-13T07:30:00.000Z   \n",
       "3           27  2017-11-12T15:00:01.000Z   \n",
       "4           24  2017-11-12T13:10:36.000Z   \n",
       "5           22  2017-11-13T01:49:24.000Z   \n",
       "6           23  2017-11-13T11:59:04.000Z   \n",
       "7           22  2017-11-13T18:09:55.000Z   \n",
       "8           23  2017-11-12T11:53:45.000Z   \n",
       "9            1  2017-11-13T15:06:12.000Z   \n",
       "\n",
       "                                                tags    views   likes  \\\n",
       "0  inscope21|\"sing zu ende\"|\"gesangseinlagen\"|\"ge...   252786   35885   \n",
       "1  Kinder|\"ferngesteuert\"|\"Kinder ferngesteuert\"|...   797196   53576   \n",
       "2  last week tonight trump presidency|\"last week ...  2418783   97190   \n",
       "3  Physik|\"Wissenschaft\"|\"Technik\"|\"Science-Ficti...   380247   31821   \n",
       "4  kelly|\"missesvlog\"|\"kelly song\"|\"bausa\"|\"bausa...   822213  100684   \n",
       "5                                             [none]    32709    3093   \n",
       "6  kanaken|\"kurden\"|\"türken\"|\"schule\"|\"schulzeit\"...   308683   35704   \n",
       "7  unbekannte gesichte charakter|\"unbekannte gesi...   181660   17998   \n",
       "8  Antoine Auto|\"Antoine Boot Camp\"|\"Antoine Ernä...   369173   16953   \n",
       "9  michael jackson|\"promi\"|\"tot\"|\"tod\"|\"gestorben...    62418    4749   \n",
       "\n",
       "   dislikes        ...                                         thumbnail_link  \\\n",
       "0       230        ...         https://i.ytimg.com/vi/LgVi6y5QIjM/default.jpg   \n",
       "1       302        ...         https://i.ytimg.com/vi/Bayt7uQith4/default.jpg   \n",
       "2      6146        ...         https://i.ytimg.com/vi/1ZAPwfrtAFY/default.jpg   \n",
       "3       458        ...         https://i.ytimg.com/vi/AHtypnRk7JE/default.jpg   \n",
       "4      2467        ...         https://i.ytimg.com/vi/ZJ9We4bjcg0/default.jpg   \n",
       "5       296        ...         https://i.ytimg.com/vi/xapGFgWqtg4/default.jpg   \n",
       "6       578        ...         https://i.ytimg.com/vi/EIM7RMe39JY/default.jpg   \n",
       "7       169        ...         https://i.ytimg.com/vi/PaWTaj6Iie0/default.jpg   \n",
       "8       570        ...         https://i.ytimg.com/vi/GHct2dGNLks/default.jpg   \n",
       "9        44        ...         https://i.ytimg.com/vi/aZYSFByDGkg/default.jpg   \n",
       "\n",
       "  comments_disabled  ratings_disabled  video_error_or_removed  \\\n",
       "0             False             False                   False   \n",
       "1             False             False                   False   \n",
       "2             False             False                   False   \n",
       "3             False             False                   False   \n",
       "4             False             False                   False   \n",
       "5             False             False                   False   \n",
       "6             False             False                   False   \n",
       "7             False             False                   False   \n",
       "8             False             False                   False   \n",
       "9             False             False                   False   \n",
       "\n",
       "                                         description                state  \\\n",
       "0  Heute gibt es mal wieder ein neues Format... w...   Schleswig Holstein   \n",
       "1  Kinder ferngesteuert! Kinder lassen sich sooo ...  Nordrhein Westfalen   \n",
       "2  One year after the presidential election, John...             Saarland   \n",
       "3  ►Alle Videos: http://bit.ly/1fa7Tw3\\n\\n\\n✚Snap...               Bayern   \n",
       "4  18 Song Mashup über den (veränderten) Beat von...               Berlin   \n",
       "5  Wir haben Meinungsstudie.de (► http://bit.ly/2...               Hessen   \n",
       "6  Video mit Planet Kanax: https://youtu.be/3U51c...      Rheinland Pfalz   \n",
       "7  4 unbekannte Gesichter animierter Charaktere (...  Nordrhein Westfalen   \n",
       "8  Antoine hat sich ein Auto ausgeliehen..schaut ...            Thuringen   \n",
       "9  Berühmt werden kann jeder, aber berühmt bleibe...            Thuringen   \n",
       "\n",
       "         lat        lon                               geometry  \\\n",
       "0  54.783748   9.433315        POINT (9.433315388 54.78374778)   \n",
       "1  52.029988   8.530011  POINT (8.530011351000001 52.02998822)   \n",
       "2  49.250390   6.970003        POINT (6.970003213 49.25039044)   \n",
       "3  50.266607  10.966607        POINT (10.96660681 50.26660748)   \n",
       "4  52.521819  13.401549        POINT (13.40154862 52.52181866)   \n",
       "5  51.300007   9.500030  POINT (9.500029661999999 51.30000694)   \n",
       "6  49.982472   8.273219        POINT (8.273219156 49.98247246)   \n",
       "7  52.029988   8.530011  POINT (8.530011351000001 52.02998822)   \n",
       "8  50.970053  11.029962        POINT (11.02996212 50.97005292)   \n",
       "9  50.970053  11.029962        POINT (11.02996212 50.97005292)   \n",
       "\n",
       "           category  \n",
       "0     Entertainment  \n",
       "1            Comedy  \n",
       "2     Entertainment  \n",
       "3         Education  \n",
       "4     Entertainment  \n",
       "5    People & Blogs  \n",
       "6            Comedy  \n",
       "7    People & Blogs  \n",
       "8            Comedy  \n",
       "9  Film & Animation  \n",
       "\n",
       "[10 rows x 21 columns]"
      ]
     },
     "execution_count": 41,
     "metadata": {},
     "output_type": "execute_result"
    }
   ],
   "source": [
    "data.head(10)"
   ]
  },
  {
   "cell_type": "code",
   "execution_count": 42,
   "id": "897e21bc",
   "metadata": {},
   "outputs": [
    {
     "data": {
      "text/plain": [
       "<matplotlib.axes._subplots.AxesSubplot at 0x220b3e0bcc0>"
      ]
     },
     "execution_count": 42,
     "metadata": {},
     "output_type": "execute_result"
    },
    {
     "data": {
      "image/png": "[encoded data removed]",
      "text/plain": [
       "<Figure size 842.4x595.44 with 1 Axes>"
      ]
     },
     "metadata": {
      "needs_background": "light"
     },
     "output_type": "display_data"
    }
   ],
   "source": [
    "a4_dims = (11.7, 8.27)\n",
    "fig, ax = plt.subplots(figsize=a4_dims)\n",
    "sns.countplot(y='category', data=data, order = data['category'].value_counts().index)\n"
   ]
  },
  {
   "cell_type": "code",
   "execution_count": 43,
   "id": "d0bd8ab7",
   "metadata": {},
   "outputs": [
    {
     "data": {
      "text/plain": [
       "<matplotlib.axes._subplots.AxesSubplot at 0x220b3f6e710>"
      ]
     },
     "execution_count": 43,
     "metadata": {},
     "output_type": "execute_result"
    },
    {
     "data": {
      "image/png": "[encoded data removed]",
      "text/plain": [
       "<Figure size 842.4x595.44 with 1 Axes>"
      ]
     },
     "metadata": {
      "needs_background": "light"
     },
     "output_type": "display_data"
    }
   ],
   "source": [
    "a4_dims = (11.7, 8.27)\n",
    "fig, ax = plt.subplots(figsize=a4_dims)\n",
    "sns.barplot(y='category', x='likes', data=data, ci=None, estimator=sum,\n",
    "            order=data.groupby(['category'])['likes'].agg('sum').sort_values(ascending = False).index)\n"
   ]
  },
  {
   "cell_type": "code",
   "execution_count": 44,
   "id": "28169b3a",
   "metadata": {},
   "outputs": [
    {
     "data": {
      "text/plain": [
       "<matplotlib.axes._subplots.AxesSubplot at 0x220b3f524e0>"
      ]
     },
     "execution_count": 44,
     "metadata": {},
     "output_type": "execute_result"
    },
    {
     "data": {
      "image/png": "[encoded data removed]",
      "text/plain": [
       "<Figure size 842.4x595.44 with 1 Axes>"
      ]
     },
     "metadata": {
      "needs_background": "light"
     },
     "output_type": "display_data"
    }
   ],
   "source": [
    "a4_dims = (11.7, 8.27)\n",
    "fig, ax = plt.subplots(figsize=a4_dims)\n",
    "sns.barplot(y='category', x='dislikes', data=data, ci=None, estimator=sum,\n",
    "            order=data.groupby(['category'])['dislikes'].agg('sum').sort_values(ascending = False).index)\n"
   ]
  },
  {
   "cell_type": "code",
   "execution_count": 45,
   "id": "89ccb0be",
   "metadata": {},
   "outputs": [
    {
     "data": {
      "text/plain": [
       "<matplotlib.axes._subplots.AxesSubplot at 0x220b2dfcb00>"
      ]
     },
     "execution_count": 45,
     "metadata": {},
     "output_type": "execute_result"
    },
    {
     "data": {
      "image/png": "[encoded data removed]",
      "text/plain": [
       "<Figure size 842.4x595.44 with 1 Axes>"
      ]
     },
     "metadata": {
      "needs_background": "light"
     },
     "output_type": "display_data"
    }
   ],
   "source": [
    "def ratio_likes_dislikes(x): return x['likes'].agg(\n",
    "    'sum') / x['dislikes'].agg('sum')\n",
    "\n",
    "\n",
    "r = data.groupby(['category']).apply(\n",
    "    ratio_likes_dislikes).sort_values(ascending=False).reset_index(name='ratio')\n",
    "a4_dims = (11.7, 8.27)\n",
    "fig, ax = plt.subplots(figsize=a4_dims)\n",
    "sns.barplot(x='ratio', y='category', data=r, ci=None)\n"
   ]
  },
  {
   "cell_type": "code",
   "execution_count": 46,
   "id": "b009dcfd",
   "metadata": {},
   "outputs": [
    {
     "data": {
      "text/plain": [
       "<matplotlib.axes._subplots.AxesSubplot at 0x220b2edc6d8>"
      ]
     },
     "execution_count": 46,
     "metadata": {},
     "output_type": "execute_result"
    },
    {
     "data": {
      "image/png": "[encoded data removed]",
      "text/plain": [
       "<Figure size 842.4x595.44 with 1 Axes>"
      ]
     },
     "metadata": {
      "needs_background": "light"
     },
     "output_type": "display_data"
    }
   ],
   "source": [
    "def ratio_views_comment(x): return x['views'].agg(\n",
    "    'sum') / x['comment_count'].agg('sum')\n",
    "\n",
    "\n",
    "r = data.groupby(['category']).apply(ratio_views_comment).sort_values(\n",
    "    ascending=False).reset_index(name='ratio')\n",
    "a4_dims = (11.7, 8.27)\n",
    "fig, ax = plt.subplots(figsize=a4_dims)\n",
    "sns.barplot(x='ratio', y='category', data=r, ci=None)\n"
   ]
  },
  {
   "cell_type": "code",
   "execution_count": 47,
   "id": "0c52d024",
   "metadata": {},
   "outputs": [
    {
     "data": {
      "text/plain": [
       "<matplotlib.axes._subplots.AxesSubplot at 0x220b2ecab38>"
      ]
     },
     "execution_count": 47,
     "metadata": {},
     "output_type": "execute_result"
    },
    {
     "data": {
      "image/png": "[encoded data removed]",
      "text/plain": [
       "<Figure size 842.4x595.44 with 1 Axes>"
      ]
     },
     "metadata": {
      "needs_background": "light"
     },
     "output_type": "display_data"
    }
   ],
   "source": [
    "a4_dims = (11.7, 8.27)\n",
    "fig, ax = plt.subplots(figsize=a4_dims)\n",
    "sns.countplot(y='channel_title', data=data, order = data['channel_title'].value_counts().iloc[:15].index)\n"
   ]
  },
  {
   "cell_type": "code",
   "execution_count": 48,
   "id": "d0490f42",
   "metadata": {},
   "outputs": [
    {
     "data": {
      "text/plain": [
       "<matplotlib.axes._subplots.AxesSubplot at 0x220b434dbe0>"
      ]
     },
     "execution_count": 48,
     "metadata": {},
     "output_type": "execute_result"
    },
    {
     "data": {
      "image/png": "[encoded data removed]",
      "text/plain": [
       "<Figure size 842.4x595.44 with 1 Axes>"
      ]
     },
     "metadata": {
      "needs_background": "light"
     },
     "output_type": "display_data"
    }
   ],
   "source": [
    "a4_dims = (11.7, 8.27)\n",
    "fig, ax = plt.subplots(figsize=a4_dims)\n",
    "sns.countplot(y='channel_title', data=data, order = data['channel_title'].value_counts().sort_values().iloc[:15].index)"
   ]
  }
 ],
 "metadata": {
  "kernelspec": {
   "display_name": "Python 3",
   "language": "python",
   "name": "python3"
  },
  "language_info": {
   "codemirror_mode": {
    "name": "ipython",
    "version": 3
   },
   "file_extension": ".py",
   "mimetype": "text/x-python",
   "name": "python",
   "nbconvert_exporter": "python",
   "pygments_lexer": "ipython3",
   "version": "3.7.0"
  }
 },
 "nbformat": 4,
 "nbformat_minor": 5
}
